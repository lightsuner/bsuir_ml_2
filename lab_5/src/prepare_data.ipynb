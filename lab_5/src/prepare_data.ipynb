{
 "cells": [
  {
   "cell_type": "code",
   "execution_count": 33,
   "metadata": {
    "ExecuteTime": {
     "end_time": "2020-03-15T11:44:55.709369Z",
     "start_time": "2020-03-15T11:44:55.703415Z"
    }
   },
   "outputs": [],
   "source": [
    "import warnings\n",
    "warnings.filterwarnings('ignore')\n",
    "import numpy as np\n",
    "import pandas as pd\n",
    "import os\n",
    "from sklearn.model_selection import train_test_split\n",
    "from shutil import copyfile, rmtree\n",
    "import zipfile"
   ]
  },
  {
   "cell_type": "code",
   "execution_count": 34,
   "metadata": {
    "ExecuteTime": {
     "end_time": "2020-03-15T11:44:55.716343Z",
     "start_time": "2020-03-15T11:44:55.712442Z"
    }
   },
   "outputs": [],
   "source": [
    "train_path = './data/train'\n",
    "prepared_path = './data/prepared'"
   ]
  },
  {
   "cell_type": "code",
   "execution_count": 35,
   "metadata": {
    "ExecuteTime": {
     "end_time": "2020-03-15T11:44:55.724781Z",
     "start_time": "2020-03-15T11:44:55.720709Z"
    }
   },
   "outputs": [],
   "source": [
    "zip_files = ['train', 'test']\n"
   ]
  },
  {
   "cell_type": "code",
   "execution_count": 36,
   "metadata": {
    "ExecuteTime": {
     "end_time": "2020-03-15T11:45:13.181323Z",
     "start_time": "2020-03-15T11:44:55.728780Z"
    }
   },
   "outputs": [
    {
     "name": "stdout",
     "output_type": "stream",
     "text": [
      "train unzipped\n",
      "test unzipped\n"
     ]
    }
   ],
   "source": [
    "for file in zip_files:\n",
    "    with zipfile.ZipFile(f\"./data/{file}.zip\",\"r\") as z:\n",
    "        z.extractall(f\"./data/\")\n",
    "        print(f\"{file} unzipped\")"
   ]
  },
  {
   "cell_type": "code",
   "execution_count": null,
   "metadata": {
    "collapsed": true,
    "jupyter": {
     "outputs_hidden": true
    }
   },
   "outputs": [],
   "source": []
  },
  {
   "cell_type": "code",
   "execution_count": 37,
   "metadata": {
    "ExecuteTime": {
     "end_time": "2020-03-15T11:45:13.235825Z",
     "start_time": "2020-03-15T11:45:13.183088Z"
    }
   },
   "outputs": [],
   "source": [
    "files = os.listdir(train_path)\n",
    "type = []\n",
    "\n",
    "for file in files:\n",
    "    if file.split('.')[0].lower() == 'dog':\n",
    "        type.append('dog')\n",
    "    else:\n",
    "        type.append('cat')\n",
    "    \n",
    "original_df = pd.DataFrame({\n",
    "    'file': files,\n",
    "    'type': type\n",
    "})"
   ]
  },
  {
   "cell_type": "code",
   "execution_count": 38,
   "metadata": {
    "ExecuteTime": {
     "end_time": "2020-03-15T11:45:13.247172Z",
     "start_time": "2020-03-15T11:45:13.237458Z"
    }
   },
   "outputs": [
    {
     "data": {
      "text/html": [
       "<div>\n",
       "<style scoped>\n",
       "    .dataframe tbody tr th:only-of-type {\n",
       "        vertical-align: middle;\n",
       "    }\n",
       "\n",
       "    .dataframe tbody tr th {\n",
       "        vertical-align: top;\n",
       "    }\n",
       "\n",
       "    .dataframe thead th {\n",
       "        text-align: right;\n",
       "    }\n",
       "</style>\n",
       "<table border=\"1\" class=\"dataframe\">\n",
       "  <thead>\n",
       "    <tr style=\"text-align: right;\">\n",
       "      <th></th>\n",
       "      <th>file</th>\n",
       "      <th>type</th>\n",
       "    </tr>\n",
       "  </thead>\n",
       "  <tbody>\n",
       "    <tr>\n",
       "      <th>0</th>\n",
       "      <td>cat.6738.jpg</td>\n",
       "      <td>cat</td>\n",
       "    </tr>\n",
       "    <tr>\n",
       "      <th>1</th>\n",
       "      <td>cat.7701.jpg</td>\n",
       "      <td>cat</td>\n",
       "    </tr>\n",
       "    <tr>\n",
       "      <th>2</th>\n",
       "      <td>dog.3987.jpg</td>\n",
       "      <td>dog</td>\n",
       "    </tr>\n",
       "    <tr>\n",
       "      <th>3</th>\n",
       "      <td>dog.3366.jpg</td>\n",
       "      <td>dog</td>\n",
       "    </tr>\n",
       "    <tr>\n",
       "      <th>4</th>\n",
       "      <td>dog.216.jpg</td>\n",
       "      <td>dog</td>\n",
       "    </tr>\n",
       "  </tbody>\n",
       "</table>\n",
       "</div>"
      ],
      "text/plain": [
       "           file type\n",
       "0  cat.6738.jpg  cat\n",
       "1  cat.7701.jpg  cat\n",
       "2  dog.3987.jpg  dog\n",
       "3  dog.3366.jpg  dog\n",
       "4   dog.216.jpg  dog"
      ]
     },
     "execution_count": 38,
     "metadata": {},
     "output_type": "execute_result"
    }
   ],
   "source": [
    "original_df.head()"
   ]
  },
  {
   "cell_type": "code",
   "execution_count": 39,
   "metadata": {
    "ExecuteTime": {
     "end_time": "2020-03-15T11:45:13.258494Z",
     "start_time": "2020-03-15T11:45:13.250254Z"
    }
   },
   "outputs": [
    {
     "data": {
      "text/plain": [
       "dog    12500\n",
       "cat    12500\n",
       "Name: type, dtype: int64"
      ]
     },
     "execution_count": 39,
     "metadata": {},
     "output_type": "execute_result"
    }
   ],
   "source": [
    "original_df['type'].value_counts()"
   ]
  },
  {
   "cell_type": "code",
   "execution_count": 40,
   "metadata": {
    "ExecuteTime": {
     "end_time": "2020-03-15T11:45:13.421315Z",
     "start_time": "2020-03-15T11:45:13.261600Z"
    }
   },
   "outputs": [
    {
     "data": {
      "text/plain": [
       "<matplotlib.axes._subplots.AxesSubplot at 0x7f5d759276a0>"
      ]
     },
     "execution_count": 40,
     "metadata": {},
     "output_type": "execute_result"
    },
    {
     "data": {
      "image/png": "[encoded data removed]",
      "text/plain": [
       "<Figure size 432x288 with 1 Axes>"
      ]
     },
     "metadata": {
      "needs_background": "light"
     },
     "output_type": "display_data"
    }
   ],
   "source": [
    "original_df['type'].value_counts().plot.bar(color=['Orange', 'Green'])"
   ]
  },
  {
   "cell_type": "code",
   "execution_count": 41,
   "metadata": {
    "ExecuteTime": {
     "end_time": "2020-03-15T11:45:13.427214Z",
     "start_time": "2020-03-15T11:45:13.422820Z"
    }
   },
   "outputs": [],
   "source": [
    "types = original_df['type'].unique().tolist()\n",
    "split_to = ['train', 'valid', 'test']"
   ]
  },
  {
   "cell_type": "code",
   "execution_count": 42,
   "metadata": {
    "ExecuteTime": {
     "end_time": "2020-03-15T11:45:13.436112Z",
     "start_time": "2020-03-15T11:45:13.429084Z"
    }
   },
   "outputs": [
    {
     "name": "stdout",
     "output_type": "stream",
     "text": [
      "./data/prepared/train/cat\n",
      "./data/prepared/train/dog\n",
      "./data/prepared/valid/cat\n",
      "./data/prepared/valid/dog\n",
      "./data/prepared/test/cat\n",
      "./data/prepared/test/dog\n"
     ]
    }
   ],
   "source": [
    "for split in split_to:\n",
    "    for type in types:\n",
    "        dir = f'{prepared_path}/{split}/{type}'\n",
    "        print(dir)\n",
    "        rmtree(dir, ignore_errors=True)\n",
    "        os.makedirs(dir, exist_ok=True)"
   ]
  },
  {
   "cell_type": "code",
   "execution_count": 43,
   "metadata": {
    "ExecuteTime": {
     "end_time": "2020-03-15T11:45:13.448920Z",
     "start_time": "2020-03-15T11:45:13.438227Z"
    }
   },
   "outputs": [],
   "source": [
    "train_df, test_df = train_test_split(original_df, test_size=4000, random_state=42)\n",
    "train_df, valid_df = train_test_split(train_df, test_size=4000, random_state=42)"
   ]
  },
  {
   "cell_type": "code",
   "execution_count": 44,
   "metadata": {
    "ExecuteTime": {
     "end_time": "2020-03-15T11:45:13.454711Z",
     "start_time": "2020-03-15T11:45:13.450563Z"
    }
   },
   "outputs": [
    {
     "data": {
      "text/plain": [
       "((17000, 2), (4000, 2), (4000, 2))"
      ]
     },
     "execution_count": 44,
     "metadata": {},
     "output_type": "execute_result"
    }
   ],
   "source": [
    "train_df.shape, valid_df.shape, test_df.shape"
   ]
  },
  {
   "cell_type": "code",
   "execution_count": 45,
   "metadata": {
    "ExecuteTime": {
     "end_time": "2020-03-15T11:45:13.661925Z",
     "start_time": "2020-03-15T11:45:13.456275Z"
    }
   },
   "outputs": [
    {
     "data": {
      "text/plain": [
       "<matplotlib.axes._subplots.AxesSubplot at 0x7f5d758d03c8>"
      ]
     },
     "execution_count": 45,
     "metadata": {},
     "output_type": "execute_result"
    },
    {
     "data": {
      "image/png": "[encoded data removed]",
      "text/plain": [
       "<Figure size 432x288 with 1 Axes>"
      ]
     },
     "metadata": {
      "needs_background": "light"
     },
     "output_type": "display_data"
    }
   ],
   "source": [
    "train_df['type'].value_counts().plot.bar(color=['Orange', 'Green'])"
   ]
  },
  {
   "cell_type": "code",
   "execution_count": 46,
   "metadata": {
    "ExecuteTime": {
     "end_time": "2020-03-15T11:45:29.172569Z",
     "start_time": "2020-03-15T11:45:13.663905Z"
    }
   },
   "outputs": [],
   "source": [
    "for index, row in train_df.iterrows():\n",
    "    #print(row['file'], row['type'])\n",
    "    copyfile(f\"{train_path}/{row['file']}\", f\"{prepared_path}/train/{row['type']}/{row['file']}\")"
   ]
  },
  {
   "cell_type": "code",
   "execution_count": 47,
   "metadata": {
    "ExecuteTime": {
     "end_time": "2020-03-15T11:45:32.168597Z",
     "start_time": "2020-03-15T11:45:29.174153Z"
    }
   },
   "outputs": [],
   "source": [
    "for index, row in valid_df.iterrows():\n",
    "    #print(row['file'], row['type'])\n",
    "    copyfile(f\"{train_path}/{row['file']}\", f\"{prepared_path}/valid/{row['type']}/{row['file']}\")"
   ]
  },
  {
   "cell_type": "code",
   "execution_count": 48,
   "metadata": {
    "ExecuteTime": {
     "end_time": "2020-03-15T11:45:35.339754Z",
     "start_time": "2020-03-15T11:45:32.169822Z"
    }
   },
   "outputs": [],
   "source": [
    "for index, row in test_df.iterrows():\n",
    "    #print(row['file'], row['type'])\n",
    "    copyfile(f\"{train_path}/{row['file']}\", f\"{prepared_path}/test/{row['type']}/{row['file']}\")"
   ]
  }
 ],
 "metadata": {
  "kernelspec": {
   "display_name": "Python 3",
   "language": "python",
   "name": "python3"
  },
  "language_info": {
   "codemirror_mode": {
    "name": "ipython",
    "version": 3
   },
   "file_extension": ".py",
   "mimetype": "text/x-python",
   "name": "python",
   "nbconvert_exporter": "python",
   "pygments_lexer": "ipython3",
   "version": "3.6.5"
  }
 },
 "nbformat": 4,
 "nbformat_minor": 4
}
