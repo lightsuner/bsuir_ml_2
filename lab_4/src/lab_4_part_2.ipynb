{
  "nbformat": 4,
  "nbformat_minor": 0,
  "metadata": {
    "colab": {
      "name": "lab_4_part_2.ipynb",
      "provenance": [],
      "collapsed_sections": [],
      "toc_visible": true,
      "machine_shape": "hm"
    },
    "kernelspec": {
      "name": "python3",
      "display_name": "Python 3"
    },
    "accelerator": "GPU"
  },
  "cells": [
    {
      "cell_type": "markdown",
      "metadata": {
        "id": "bhPBEXSBW9Aq",
        "colab_type": "text"
      },
      "source": [
        "First format Data"
      ]
    },
    {
      "cell_type": "code",
      "metadata": {
        "id": "Sg1I1qRQXRDm",
        "colab_type": "code",
        "colab": {}
      },
      "source": [
        "files_to_download = [\n",
        "  'http://ufldl.stanford.edu/housenumbers/train.tar.gz',\n",
        "  'http://ufldl.stanford.edu/housenumbers/test.tar.gz',\n",
        "  'http://ufldl.stanford.edu/housenumbers/extra.tar.gz',\n",
        "]"
      ],
      "execution_count": 0,
      "outputs": []
    },
    {
      "cell_type": "code",
      "metadata": {
        "id": "9Mqi740zXgrn",
        "colab_type": "code",
        "outputId": "bb6bdf18-5490-4dd6-a0df-fddab768fdd5",
        "colab": {
          "base_uri": "https://localhost:8080/",
          "height": 578
        }
      },
      "source": [
        "for file in files_to_download:\n",
        "  !wget $file"
      ],
      "execution_count": 2,
      "outputs": [
        {
          "output_type": "stream",
          "text": [
            "--2020-03-30 20:27:57--  http://ufldl.stanford.edu/housenumbers/train.tar.gz\n",
            "Resolving ufldl.stanford.edu (ufldl.stanford.edu)... 171.64.68.10\n",
            "Connecting to ufldl.stanford.edu (ufldl.stanford.edu)|171.64.68.10|:80... connected.\n",
            "HTTP request sent, awaiting response... 200 OK\n",
            "Length: 404141560 (385M) [application/x-gzip]\n",
            "Saving to: ‘train.tar.gz’\n",
            "\n",
            "train.tar.gz        100%[===================>] 385.42M   103MB/s    in 4.2s    \n",
            "\n",
            "2020-03-30 20:28:02 (91.4 MB/s) - ‘train.tar.gz’ saved [404141560/404141560]\n",
            "\n",
            "--2020-03-30 20:28:05--  http://ufldl.stanford.edu/housenumbers/test.tar.gz\n",
            "Resolving ufldl.stanford.edu (ufldl.stanford.edu)... 171.64.68.10\n",
            "Connecting to ufldl.stanford.edu (ufldl.stanford.edu)|171.64.68.10|:80... connected.\n",
            "HTTP request sent, awaiting response... 200 OK\n",
            "Length: 276555967 (264M) [application/x-gzip]\n",
            "Saving to: ‘test.tar.gz’\n",
            "\n",
            "test.tar.gz         100%[===================>] 263.74M  91.1MB/s    in 2.9s    \n",
            "\n",
            "2020-03-30 20:28:08 (91.1 MB/s) - ‘test.tar.gz’ saved [276555967/276555967]\n",
            "\n",
            "--2020-03-30 20:28:09--  http://ufldl.stanford.edu/housenumbers/extra.tar.gz\n",
            "Resolving ufldl.stanford.edu (ufldl.stanford.edu)... 171.64.68.10\n",
            "Connecting to ufldl.stanford.edu (ufldl.stanford.edu)|171.64.68.10|:80... connected.\n",
            "HTTP request sent, awaiting response... 200 OK\n",
            "Length: 1955489752 (1.8G) [application/x-gzip]\n",
            "Saving to: ‘extra.tar.gz’\n",
            "\n",
            "extra.tar.gz        100%[===================>]   1.82G  72.1MB/s    in 27s     \n",
            "\n",
            "2020-03-30 20:28:36 (68.7 MB/s) - ‘extra.tar.gz’ saved [1955489752/1955489752]\n",
            "\n"
          ],
          "name": "stdout"
        }
      ]
    },
    {
      "cell_type": "code",
      "metadata": {
        "id": "3cQZWzYM1H6B",
        "colab_type": "code",
        "colab": {}
      },
      "source": [
        "%%capture\n",
        "!tar xvzf train.tar.gz"
      ],
      "execution_count": 0,
      "outputs": []
    },
    {
      "cell_type": "code",
      "metadata": {
        "id": "0_Jjc6L91iGz",
        "colab_type": "code",
        "colab": {}
      },
      "source": [
        "%%capture\n",
        "!tar xvzf test.tar.gz"
      ],
      "execution_count": 0,
      "outputs": []
    },
    {
      "cell_type": "code",
      "metadata": {
        "id": "BFxp8h50dc0_",
        "colab_type": "code",
        "colab": {}
      },
      "source": [
        "%%capture\n",
        "!tar xvzf extra.tar.gz"
      ],
      "execution_count": 0,
      "outputs": []
    },
    {
      "cell_type": "code",
      "metadata": {
        "id": "SIN4UjWQQ6VQ",
        "colab_type": "code",
        "colab": {}
      },
      "source": [
        "from tqdm import tqdm"
      ],
      "execution_count": 0,
      "outputs": []
    },
    {
      "cell_type": "code",
      "metadata": {
        "id": "zVfHXVTdZ3h8",
        "colab_type": "code",
        "colab": {}
      },
      "source": [
        "from tensorflow.keras.utils import to_categorical\n",
        "import matplotlib.pyplot as plt\n",
        "import numpy as np\n",
        "import pandas as pd\n",
        "import h5py\n",
        "from PIL import Image\n",
        "from tensorflow.keras.models import Sequential, Model\n",
        "from tensorflow.keras.layers import Dense, Dropout, Conv2D, MaxPooling2D\n",
        "from tensorflow.keras.layers import Activation, Flatten, Input, BatchNormalization\n",
        "from shutil import copyfile, rmtree\n",
        "import zipfile\n",
        "import os"
      ],
      "execution_count": 0,
      "outputs": []
    },
    {
      "cell_type": "code",
      "metadata": {
        "id": "aRqEoiJWIXkA",
        "colab_type": "code",
        "colab": {}
      },
      "source": [
        "def get_box_data(data, index):\n",
        "    meta_data = dict()\n",
        "    meta_data['height'] = []\n",
        "    meta_data['label'] = []\n",
        "    meta_data['left'] = []\n",
        "    meta_data['top'] = []\n",
        "    meta_data['width'] = []\n",
        "\n",
        "    def print_attrs(name, obj):\n",
        "        vals = []\n",
        "        if obj.shape[0] == 1:\n",
        "            vals.append(obj[0][0])\n",
        "        else:\n",
        "            for k in range(obj.shape[0]):\n",
        "                vals.append(int(data[obj[k][0]][0][0]))\n",
        "        meta_data[name] = vals\n",
        "\n",
        "    box = data['/digitStruct/bbox'][index]\n",
        "    data[box[0]].visititems(print_attrs)\n",
        "    return meta_data"
      ],
      "execution_count": 0,
      "outputs": []
    },
    {
      "cell_type": "code",
      "metadata": {
        "id": "F7hXa_bgMoJw",
        "colab_type": "code",
        "colab": {}
      },
      "source": [
        "def make_square(im, size=100, fill_color='black'):\n",
        "    new_im = Image.new('RGB', (size, size), color = fill_color)\n",
        "    w, h = im.size\n",
        "    \n",
        "    original_ratio = w / h\n",
        "    designer_ratio = 1\n",
        "    designer_height = size\n",
        "    designer_width = size\n",
        "\n",
        "    if original_ratio > designer_ratio:\n",
        "        designer_height = int(designer_width / original_ratio)\n",
        "    else:\n",
        "        designer_width = int(designer_height * original_ratio)\n",
        "\n",
        "    im = im.resize((designer_width, designer_height))\n",
        "    new_im.paste(im, (int((size - designer_width) / 2), int((size - designer_height) / 2)))\n",
        "\n",
        "    return new_im"
      ],
      "execution_count": 0,
      "outputs": []
    },
    {
      "cell_type": "code",
      "metadata": {
        "id": "BwqL8cvLQpa5",
        "colab_type": "code",
        "colab": {
          "base_uri": "https://localhost:8080/",
          "height": 117
        },
        "outputId": "efb21bfc-a598-4e7f-d526-1df26187a8b5"
      },
      "source": [
        "make_square(Image.open(f'train/1.png'))"
      ],
      "execution_count": 71,
      "outputs": [
        {
          "output_type": "execute_result",
          "data": {
            "image/png": "[encoded data removed]",
            "text/plain": [
              "<PIL.Image.Image image mode=RGB size=100x100 at 0x7F3965CBEB70>"
            ]
          },
          "metadata": {
            "tags": []
          },
          "execution_count": 71
        }
      ]
    },
    {
      "cell_type": "code",
      "metadata": {
        "id": "xdnQNzJWeRmM",
        "colab_type": "code",
        "colab": {}
      },
      "source": [
        "def zipdir(path, ziph):\n",
        "    # ziph is zipfile handle\n",
        "    for root, dirs, files in os.walk(path):\n",
        "        for file in files:\n",
        "            ziph.write(os.path.join(root, file))"
      ],
      "execution_count": 0,
      "outputs": []
    },
    {
      "cell_type": "code",
      "metadata": {
        "id": "WlKwJ1XJF-t0",
        "colab_type": "code",
        "colab": {}
      },
      "source": [
        "def create_dateset(dataset):\n",
        "    prepared_dir = f'./{dataset}_prepared'\n",
        "    data = h5py.File(f'{dataset}/digitStruct.mat', 'r')\n",
        "    df = []\n",
        "\n",
        "    rmtree(prepared_dir, ignore_errors=True)\n",
        "    os.makedirs(prepared_dir, exist_ok=True)\n",
        "\n",
        "    for i in tqdm(range(len(data['/digitStruct/name']))):\n",
        "    #for i in range(len(data['/digitStruct/name'])):\n",
        "        meta_data = get_box_data(data, i)\n",
        "        meta_data['label'] = np.array(meta_data['label']).astype('int16').tolist()\n",
        "        num_length = len(meta_data['label'])\n",
        "\n",
        "        if num_length > 5:\n",
        "          continue\n",
        "\n",
        "        file_id = i+1\n",
        "\n",
        "        max_w = int(max(meta_data['width']))\n",
        "        max_h = int(max(meta_data['height']))\n",
        "\n",
        "        w_pad = int(max_w * 1.5)\n",
        "        h_pad = int(max_h * 1.5)\n",
        "\n",
        "        box_top = int(min(meta_data['top']))\n",
        "        box_left = int(min(meta_data['left']))\n",
        "\n",
        "        box_right = 0\n",
        "        box_bottom = 0\n",
        "\n",
        "        for i in range(num_length):\n",
        "          right = meta_data['left'][i] + meta_data['width'][i]\n",
        "          bottom = meta_data['top'][i] + meta_data['height'][i]\n",
        "          if bottom > box_bottom:\n",
        "            box_bottom = bottom\n",
        "\n",
        "          if right > box_right:\n",
        "            box_right = right\n",
        "        \n",
        "        img = Image.open(f'{dataset}/{file_id}.png')\n",
        "        img_w = img.size[0]\n",
        "        img_h = img.size[1]\n",
        "\n",
        "        box_left = max(box_left - w_pad, 0)\n",
        "        box_top = max(box_top - h_pad, 0)\n",
        "\n",
        "        box_right = min(box_right + w_pad, img_w)\n",
        "        box_bottom = min(box_bottom + h_pad, img_h)\n",
        "\n",
        "        img = img.crop(box=(box_left, box_top, box_right, box_bottom))\n",
        "        img = make_square(img)\n",
        "\n",
        "        # chagne 10 to 0\n",
        "        original_label = [d % 10 for d in meta_data['label']]\n",
        "\n",
        "        label = [10] * (5 - num_length) + original_label\n",
        "        label = np.array(label, dtype=int)\n",
        "\n",
        "        label = to_categorical(label, num_classes=11, dtype='int')\n",
        "\n",
        "        row = {\n",
        "            'file': f'{file_id}.png', \n",
        "            'len': num_length, \n",
        "            'orig_label': original_label, \n",
        "            'label': label\n",
        "            }\n",
        "\n",
        "        \n",
        "        img.save(f\"{prepared_dir}/{file_id}.png\") \n",
        "\n",
        "        df.append(row)\n",
        "\n",
        "    df = pd.DataFrame(df)\n",
        "    df = df.dropna()\n",
        "    df = df.reset_index(drop=True)\n",
        "    \n",
        "    df.to_csv(f'{prepared_dir}/data.csv')\n",
        "\n",
        "    zipf = zipfile.ZipFile(f'{prepared_dir}.zip', 'w', zipfile.ZIP_DEFLATED)\n",
        "    zipdir(f'{prepared_dir}/', zipf)\n",
        "    zipf.close()\n"
      ],
      "execution_count": 0,
      "outputs": []
    },
    {
      "cell_type": "code",
      "metadata": {
        "id": "j6wyUyMoF-25",
        "colab_type": "code",
        "colab": {
          "base_uri": "https://localhost:8080/",
          "height": 34
        },
        "outputId": "dc361a44-c495-4042-8d41-81e77b49e7d4"
      },
      "source": [
        "create_dateset('test')"
      ],
      "execution_count": 103,
      "outputs": [
        {
          "output_type": "stream",
          "text": [
            "100%|██████████| 13068/13068 [02:17<00:00, 94.98it/s]\n"
          ],
          "name": "stderr"
        }
      ]
    },
    {
      "cell_type": "code",
      "metadata": {
        "id": "YHh9gL_0F-0s",
        "colab_type": "code",
        "colab": {
          "base_uri": "https://localhost:8080/",
          "height": 34
        },
        "outputId": "475e0ccd-034b-460b-a27a-a3e0fbc98af9"
      },
      "source": [
        "create_dateset('train')"
      ],
      "execution_count": 104,
      "outputs": [
        {
          "output_type": "stream",
          "text": [
            "100%|██████████| 33402/33402 [05:53<00:00, 94.43it/s]\n"
          ],
          "name": "stderr"
        }
      ]
    },
    {
      "cell_type": "code",
      "metadata": {
        "id": "-1PhfVBxF-yW",
        "colab_type": "code",
        "colab": {
          "base_uri": "https://localhost:8080/",
          "height": 34
        },
        "outputId": "0e454948-fcc8-4091-925c-657361eae1ad"
      },
      "source": [
        "create_dateset('extra')"
      ],
      "execution_count": 105,
      "outputs": [
        {
          "output_type": "stream",
          "text": [
            "100%|██████████| 202353/202353 [41:04<00:00, 82.12it/s]\n"
          ],
          "name": "stderr"
        }
      ]
    },
    {
      "cell_type": "code",
      "metadata": {
        "id": "wCZbvae1f5ik",
        "colab_type": "code",
        "colab": {
          "base_uri": "https://localhost:8080/",
          "height": 122
        },
        "outputId": "83b489e4-8868-4c5c-a763-84589b8c6b86"
      },
      "source": [
        "from google.colab import drive\n",
        "drive.mount('/content/gdrive')"
      ],
      "execution_count": 109,
      "outputs": [
        {
          "output_type": "stream",
          "text": [
            "Go to this URL in a browser: https://accounts.google.com/o/oauth2/auth?client_id=947318989803-6bn6qk8qdgf4n4g3pfee6491hc0brc4i.apps.googleusercontent.com&redirect_uri=urn%3aietf%3awg%3aoauth%3a2.0%3aoob&response_type=code&scope=email%20https%3a%2f%2fwww.googleapis.com%2fauth%2fdocs.test%20https%3a%2f%2fwww.googleapis.com%2fauth%2fdrive%20https%3a%2f%2fwww.googleapis.com%2fauth%2fdrive.photos.readonly%20https%3a%2f%2fwww.googleapis.com%2fauth%2fpeopleapi.readonly\n",
            "\n",
            "Enter your authorization code:\n",
            "··········\n",
            "Mounted at /content/gdrive\n"
          ],
          "name": "stdout"
        }
      ]
    },
    {
      "cell_type": "code",
      "metadata": {
        "id": "xLiH3xV8t_x4",
        "colab_type": "code",
        "colab": {
          "base_uri": "https://localhost:8080/",
          "height": 34
        },
        "outputId": "6b78929e-ecfb-46d6-f207-a271d51b8598"
      },
      "source": [
        "copyfile('./extra_prepared.zip', '/content/gdrive/My Drive/tf/lab_4/extra_prepared.zip')"
      ],
      "execution_count": 110,
      "outputs": [
        {
          "output_type": "execute_result",
          "data": {
            "text/plain": [
              "'/content/gdrive/My Drive/tf/lab_4/extra_prepared.zip'"
            ]
          },
          "metadata": {
            "tags": []
          },
          "execution_count": 110
        }
      ]
    },
    {
      "cell_type": "code",
      "metadata": {
        "id": "tqgSyKNmvS4y",
        "colab_type": "code",
        "colab": {}
      },
      "source": [
        ""
      ],
      "execution_count": 0,
      "outputs": []
    }
  ]
}