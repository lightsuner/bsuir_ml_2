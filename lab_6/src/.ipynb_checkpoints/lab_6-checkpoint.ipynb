{
 "cells": [
  {
   "cell_type": "code",
   "execution_count": 174,
   "metadata": {
    "ExecuteTime": {
     "end_time": "2020-03-21T17:37:34.044405Z",
     "start_time": "2020-03-21T17:37:34.037950Z"
    }
   },
   "outputs": [],
   "source": [
    "import warnings\n",
    "warnings.filterwarnings('ignore')\n",
    "\n",
    "from sklearn.model_selection import train_test_split\n",
    "from shutil import copyfile, rmtree\n",
    "import zipfile\n",
    "import pandas as pd\n",
    "import numpy as np\n",
    "from keras.preprocessing.image import ImageDataGenerator, load_img, img_to_array\n",
    "import matplotlib.pyplot as plt\n",
    "import tensorflow as tf\n",
    "import string\n",
    "import random\n",
    "import os\n",
    "import math\n",
    "from timeit import default_timer as timer\n",
    "from tqdm import tqdm, trange, tqdm_notebook\n",
    "from sklearn.preprocessing import LabelBinarizer\n",
    "\n",
    "tf.compat.v1.logging.set_verbosity(tf.compat.v1.logging.ERROR)"
   ]
  },
  {
   "cell_type": "markdown",
   "metadata": {
    "code_folding": []
   },
   "source": [
    "# Prepare Data"
   ]
  },
  {
   "cell_type": "code",
   "execution_count": 6,
   "metadata": {
    "ExecuteTime": {
     "end_time": "2020-03-21T15:45:25.147004Z",
     "start_time": "2020-03-21T15:45:25.144359Z"
    }
   },
   "outputs": [],
   "source": [
    "dataset_zip_file = 'sign-language-mnist'"
   ]
  },
  {
   "cell_type": "code",
   "execution_count": 7,
   "metadata": {
    "ExecuteTime": {
     "end_time": "2020-03-21T15:45:27.269752Z",
     "start_time": "2020-03-21T15:45:25.513238Z"
    }
   },
   "outputs": [],
   "source": [
    "with zipfile.ZipFile(f\"./{dataset_zip_file}.zip\",\"r\") as z:\n",
    "    z.extractall(f\"./{dataset_zip_file}/\")"
   ]
  },
  {
   "cell_type": "code",
   "execution_count": 122,
   "metadata": {
    "ExecuteTime": {
     "end_time": "2020-03-21T17:01:47.497303Z",
     "start_time": "2020-03-21T17:01:46.746232Z"
    }
   },
   "outputs": [
    {
     "data": {
      "text/html": [
       "<div>\n",
       "<style scoped>\n",
       "    .dataframe tbody tr th:only-of-type {\n",
       "        vertical-align: middle;\n",
       "    }\n",
       "\n",
       "    .dataframe tbody tr th {\n",
       "        vertical-align: top;\n",
       "    }\n",
       "\n",
       "    .dataframe thead th {\n",
       "        text-align: right;\n",
       "    }\n",
       "</style>\n",
       "<table border=\"1\" class=\"dataframe\">\n",
       "  <thead>\n",
       "    <tr style=\"text-align: right;\">\n",
       "      <th></th>\n",
       "      <th>label</th>\n",
       "      <th>pixel1</th>\n",
       "      <th>pixel2</th>\n",
       "      <th>pixel3</th>\n",
       "      <th>pixel4</th>\n",
       "      <th>pixel5</th>\n",
       "      <th>pixel6</th>\n",
       "      <th>pixel7</th>\n",
       "      <th>pixel8</th>\n",
       "      <th>pixel9</th>\n",
       "      <th>...</th>\n",
       "      <th>pixel775</th>\n",
       "      <th>pixel776</th>\n",
       "      <th>pixel777</th>\n",
       "      <th>pixel778</th>\n",
       "      <th>pixel779</th>\n",
       "      <th>pixel780</th>\n",
       "      <th>pixel781</th>\n",
       "      <th>pixel782</th>\n",
       "      <th>pixel783</th>\n",
       "      <th>pixel784</th>\n",
       "    </tr>\n",
       "  </thead>\n",
       "  <tbody>\n",
       "    <tr>\n",
       "      <th>0</th>\n",
       "      <td>6</td>\n",
       "      <td>149</td>\n",
       "      <td>149</td>\n",
       "      <td>150</td>\n",
       "      <td>150</td>\n",
       "      <td>150</td>\n",
       "      <td>151</td>\n",
       "      <td>151</td>\n",
       "      <td>150</td>\n",
       "      <td>151</td>\n",
       "      <td>...</td>\n",
       "      <td>138</td>\n",
       "      <td>148</td>\n",
       "      <td>127</td>\n",
       "      <td>89</td>\n",
       "      <td>82</td>\n",
       "      <td>96</td>\n",
       "      <td>106</td>\n",
       "      <td>112</td>\n",
       "      <td>120</td>\n",
       "      <td>107</td>\n",
       "    </tr>\n",
       "    <tr>\n",
       "      <th>1</th>\n",
       "      <td>5</td>\n",
       "      <td>126</td>\n",
       "      <td>128</td>\n",
       "      <td>131</td>\n",
       "      <td>132</td>\n",
       "      <td>133</td>\n",
       "      <td>134</td>\n",
       "      <td>135</td>\n",
       "      <td>135</td>\n",
       "      <td>136</td>\n",
       "      <td>...</td>\n",
       "      <td>47</td>\n",
       "      <td>104</td>\n",
       "      <td>194</td>\n",
       "      <td>183</td>\n",
       "      <td>186</td>\n",
       "      <td>184</td>\n",
       "      <td>184</td>\n",
       "      <td>184</td>\n",
       "      <td>182</td>\n",
       "      <td>180</td>\n",
       "    </tr>\n",
       "    <tr>\n",
       "      <th>2</th>\n",
       "      <td>10</td>\n",
       "      <td>85</td>\n",
       "      <td>88</td>\n",
       "      <td>92</td>\n",
       "      <td>96</td>\n",
       "      <td>105</td>\n",
       "      <td>123</td>\n",
       "      <td>135</td>\n",
       "      <td>143</td>\n",
       "      <td>147</td>\n",
       "      <td>...</td>\n",
       "      <td>68</td>\n",
       "      <td>166</td>\n",
       "      <td>242</td>\n",
       "      <td>227</td>\n",
       "      <td>230</td>\n",
       "      <td>227</td>\n",
       "      <td>226</td>\n",
       "      <td>225</td>\n",
       "      <td>224</td>\n",
       "      <td>222</td>\n",
       "    </tr>\n",
       "    <tr>\n",
       "      <th>3</th>\n",
       "      <td>0</td>\n",
       "      <td>203</td>\n",
       "      <td>205</td>\n",
       "      <td>207</td>\n",
       "      <td>206</td>\n",
       "      <td>207</td>\n",
       "      <td>209</td>\n",
       "      <td>210</td>\n",
       "      <td>209</td>\n",
       "      <td>210</td>\n",
       "      <td>...</td>\n",
       "      <td>154</td>\n",
       "      <td>248</td>\n",
       "      <td>247</td>\n",
       "      <td>248</td>\n",
       "      <td>253</td>\n",
       "      <td>236</td>\n",
       "      <td>230</td>\n",
       "      <td>240</td>\n",
       "      <td>253</td>\n",
       "      <td>255</td>\n",
       "    </tr>\n",
       "    <tr>\n",
       "      <th>4</th>\n",
       "      <td>3</td>\n",
       "      <td>188</td>\n",
       "      <td>191</td>\n",
       "      <td>193</td>\n",
       "      <td>195</td>\n",
       "      <td>199</td>\n",
       "      <td>201</td>\n",
       "      <td>202</td>\n",
       "      <td>203</td>\n",
       "      <td>203</td>\n",
       "      <td>...</td>\n",
       "      <td>26</td>\n",
       "      <td>40</td>\n",
       "      <td>64</td>\n",
       "      <td>48</td>\n",
       "      <td>29</td>\n",
       "      <td>46</td>\n",
       "      <td>49</td>\n",
       "      <td>46</td>\n",
       "      <td>46</td>\n",
       "      <td>53</td>\n",
       "    </tr>\n",
       "    <tr>\n",
       "      <th>...</th>\n",
       "      <td>...</td>\n",
       "      <td>...</td>\n",
       "      <td>...</td>\n",
       "      <td>...</td>\n",
       "      <td>...</td>\n",
       "      <td>...</td>\n",
       "      <td>...</td>\n",
       "      <td>...</td>\n",
       "      <td>...</td>\n",
       "      <td>...</td>\n",
       "      <td>...</td>\n",
       "      <td>...</td>\n",
       "      <td>...</td>\n",
       "      <td>...</td>\n",
       "      <td>...</td>\n",
       "      <td>...</td>\n",
       "      <td>...</td>\n",
       "      <td>...</td>\n",
       "      <td>...</td>\n",
       "      <td>...</td>\n",
       "      <td>...</td>\n",
       "    </tr>\n",
       "    <tr>\n",
       "      <th>7167</th>\n",
       "      <td>1</td>\n",
       "      <td>135</td>\n",
       "      <td>119</td>\n",
       "      <td>108</td>\n",
       "      <td>102</td>\n",
       "      <td>105</td>\n",
       "      <td>99</td>\n",
       "      <td>61</td>\n",
       "      <td>103</td>\n",
       "      <td>121</td>\n",
       "      <td>...</td>\n",
       "      <td>108</td>\n",
       "      <td>112</td>\n",
       "      <td>116</td>\n",
       "      <td>114</td>\n",
       "      <td>118</td>\n",
       "      <td>180</td>\n",
       "      <td>184</td>\n",
       "      <td>176</td>\n",
       "      <td>167</td>\n",
       "      <td>163</td>\n",
       "    </tr>\n",
       "    <tr>\n",
       "      <th>7168</th>\n",
       "      <td>12</td>\n",
       "      <td>157</td>\n",
       "      <td>159</td>\n",
       "      <td>161</td>\n",
       "      <td>164</td>\n",
       "      <td>166</td>\n",
       "      <td>166</td>\n",
       "      <td>171</td>\n",
       "      <td>174</td>\n",
       "      <td>175</td>\n",
       "      <td>...</td>\n",
       "      <td>213</td>\n",
       "      <td>213</td>\n",
       "      <td>213</td>\n",
       "      <td>214</td>\n",
       "      <td>213</td>\n",
       "      <td>211</td>\n",
       "      <td>210</td>\n",
       "      <td>210</td>\n",
       "      <td>209</td>\n",
       "      <td>208</td>\n",
       "    </tr>\n",
       "    <tr>\n",
       "      <th>7169</th>\n",
       "      <td>2</td>\n",
       "      <td>190</td>\n",
       "      <td>191</td>\n",
       "      <td>190</td>\n",
       "      <td>191</td>\n",
       "      <td>190</td>\n",
       "      <td>190</td>\n",
       "      <td>192</td>\n",
       "      <td>192</td>\n",
       "      <td>191</td>\n",
       "      <td>...</td>\n",
       "      <td>216</td>\n",
       "      <td>215</td>\n",
       "      <td>213</td>\n",
       "      <td>214</td>\n",
       "      <td>214</td>\n",
       "      <td>213</td>\n",
       "      <td>210</td>\n",
       "      <td>211</td>\n",
       "      <td>209</td>\n",
       "      <td>208</td>\n",
       "    </tr>\n",
       "    <tr>\n",
       "      <th>7170</th>\n",
       "      <td>4</td>\n",
       "      <td>201</td>\n",
       "      <td>205</td>\n",
       "      <td>208</td>\n",
       "      <td>209</td>\n",
       "      <td>214</td>\n",
       "      <td>216</td>\n",
       "      <td>218</td>\n",
       "      <td>223</td>\n",
       "      <td>226</td>\n",
       "      <td>...</td>\n",
       "      <td>112</td>\n",
       "      <td>169</td>\n",
       "      <td>255</td>\n",
       "      <td>255</td>\n",
       "      <td>237</td>\n",
       "      <td>113</td>\n",
       "      <td>91</td>\n",
       "      <td>67</td>\n",
       "      <td>70</td>\n",
       "      <td>63</td>\n",
       "    </tr>\n",
       "    <tr>\n",
       "      <th>7171</th>\n",
       "      <td>2</td>\n",
       "      <td>173</td>\n",
       "      <td>174</td>\n",
       "      <td>173</td>\n",
       "      <td>174</td>\n",
       "      <td>173</td>\n",
       "      <td>173</td>\n",
       "      <td>175</td>\n",
       "      <td>175</td>\n",
       "      <td>174</td>\n",
       "      <td>...</td>\n",
       "      <td>201</td>\n",
       "      <td>200</td>\n",
       "      <td>197</td>\n",
       "      <td>198</td>\n",
       "      <td>198</td>\n",
       "      <td>197</td>\n",
       "      <td>195</td>\n",
       "      <td>195</td>\n",
       "      <td>193</td>\n",
       "      <td>192</td>\n",
       "    </tr>\n",
       "  </tbody>\n",
       "</table>\n",
       "<p>7172 rows × 785 columns</p>\n",
       "</div>"
      ],
      "text/plain": [
       "      label  pixel1  pixel2  pixel3  pixel4  pixel5  pixel6  pixel7  pixel8  \\\n",
       "0         6     149     149     150     150     150     151     151     150   \n",
       "1         5     126     128     131     132     133     134     135     135   \n",
       "2        10      85      88      92      96     105     123     135     143   \n",
       "3         0     203     205     207     206     207     209     210     209   \n",
       "4         3     188     191     193     195     199     201     202     203   \n",
       "...     ...     ...     ...     ...     ...     ...     ...     ...     ...   \n",
       "7167      1     135     119     108     102     105      99      61     103   \n",
       "7168     12     157     159     161     164     166     166     171     174   \n",
       "7169      2     190     191     190     191     190     190     192     192   \n",
       "7170      4     201     205     208     209     214     216     218     223   \n",
       "7171      2     173     174     173     174     173     173     175     175   \n",
       "\n",
       "      pixel9  ...  pixel775  pixel776  pixel777  pixel778  pixel779  pixel780  \\\n",
       "0        151  ...       138       148       127        89        82        96   \n",
       "1        136  ...        47       104       194       183       186       184   \n",
       "2        147  ...        68       166       242       227       230       227   \n",
       "3        210  ...       154       248       247       248       253       236   \n",
       "4        203  ...        26        40        64        48        29        46   \n",
       "...      ...  ...       ...       ...       ...       ...       ...       ...   \n",
       "7167     121  ...       108       112       116       114       118       180   \n",
       "7168     175  ...       213       213       213       214       213       211   \n",
       "7169     191  ...       216       215       213       214       214       213   \n",
       "7170     226  ...       112       169       255       255       237       113   \n",
       "7171     174  ...       201       200       197       198       198       197   \n",
       "\n",
       "      pixel781  pixel782  pixel783  pixel784  \n",
       "0          106       112       120       107  \n",
       "1          184       184       182       180  \n",
       "2          226       225       224       222  \n",
       "3          230       240       253       255  \n",
       "4           49        46        46        53  \n",
       "...        ...       ...       ...       ...  \n",
       "7167       184       176       167       163  \n",
       "7168       210       210       209       208  \n",
       "7169       210       211       209       208  \n",
       "7170        91        67        70        63  \n",
       "7171       195       195       193       192  \n",
       "\n",
       "[7172 rows x 785 columns]"
      ]
     },
     "execution_count": 122,
     "metadata": {},
     "output_type": "execute_result"
    }
   ],
   "source": [
    "test_df = pd.read_csv(f'./{dataset_zip_file}/sign_mnist_test.csv')\n",
    "test_df"
   ]
  },
  {
   "cell_type": "code",
   "execution_count": 159,
   "metadata": {
    "ExecuteTime": {
     "end_time": "2020-03-21T17:20:47.025006Z",
     "start_time": "2020-03-21T17:20:44.472809Z"
    }
   },
   "outputs": [
    {
     "data": {
      "text/html": [
       "<div>\n",
       "<style scoped>\n",
       "    .dataframe tbody tr th:only-of-type {\n",
       "        vertical-align: middle;\n",
       "    }\n",
       "\n",
       "    .dataframe tbody tr th {\n",
       "        vertical-align: top;\n",
       "    }\n",
       "\n",
       "    .dataframe thead th {\n",
       "        text-align: right;\n",
       "    }\n",
       "</style>\n",
       "<table border=\"1\" class=\"dataframe\">\n",
       "  <thead>\n",
       "    <tr style=\"text-align: right;\">\n",
       "      <th></th>\n",
       "      <th>label</th>\n",
       "      <th>pixel1</th>\n",
       "      <th>pixel2</th>\n",
       "      <th>pixel3</th>\n",
       "      <th>pixel4</th>\n",
       "      <th>pixel5</th>\n",
       "      <th>pixel6</th>\n",
       "      <th>pixel7</th>\n",
       "      <th>pixel8</th>\n",
       "      <th>pixel9</th>\n",
       "      <th>...</th>\n",
       "      <th>pixel775</th>\n",
       "      <th>pixel776</th>\n",
       "      <th>pixel777</th>\n",
       "      <th>pixel778</th>\n",
       "      <th>pixel779</th>\n",
       "      <th>pixel780</th>\n",
       "      <th>pixel781</th>\n",
       "      <th>pixel782</th>\n",
       "      <th>pixel783</th>\n",
       "      <th>pixel784</th>\n",
       "    </tr>\n",
       "  </thead>\n",
       "  <tbody>\n",
       "    <tr>\n",
       "      <th>0</th>\n",
       "      <td>3</td>\n",
       "      <td>107</td>\n",
       "      <td>118</td>\n",
       "      <td>127</td>\n",
       "      <td>134</td>\n",
       "      <td>139</td>\n",
       "      <td>143</td>\n",
       "      <td>146</td>\n",
       "      <td>150</td>\n",
       "      <td>153</td>\n",
       "      <td>...</td>\n",
       "      <td>207</td>\n",
       "      <td>207</td>\n",
       "      <td>207</td>\n",
       "      <td>207</td>\n",
       "      <td>206</td>\n",
       "      <td>206</td>\n",
       "      <td>206</td>\n",
       "      <td>204</td>\n",
       "      <td>203</td>\n",
       "      <td>202</td>\n",
       "    </tr>\n",
       "    <tr>\n",
       "      <th>1</th>\n",
       "      <td>6</td>\n",
       "      <td>155</td>\n",
       "      <td>157</td>\n",
       "      <td>156</td>\n",
       "      <td>156</td>\n",
       "      <td>156</td>\n",
       "      <td>157</td>\n",
       "      <td>156</td>\n",
       "      <td>158</td>\n",
       "      <td>158</td>\n",
       "      <td>...</td>\n",
       "      <td>69</td>\n",
       "      <td>149</td>\n",
       "      <td>128</td>\n",
       "      <td>87</td>\n",
       "      <td>94</td>\n",
       "      <td>163</td>\n",
       "      <td>175</td>\n",
       "      <td>103</td>\n",
       "      <td>135</td>\n",
       "      <td>149</td>\n",
       "    </tr>\n",
       "    <tr>\n",
       "      <th>2</th>\n",
       "      <td>2</td>\n",
       "      <td>187</td>\n",
       "      <td>188</td>\n",
       "      <td>188</td>\n",
       "      <td>187</td>\n",
       "      <td>187</td>\n",
       "      <td>186</td>\n",
       "      <td>187</td>\n",
       "      <td>188</td>\n",
       "      <td>187</td>\n",
       "      <td>...</td>\n",
       "      <td>202</td>\n",
       "      <td>201</td>\n",
       "      <td>200</td>\n",
       "      <td>199</td>\n",
       "      <td>198</td>\n",
       "      <td>199</td>\n",
       "      <td>198</td>\n",
       "      <td>195</td>\n",
       "      <td>194</td>\n",
       "      <td>195</td>\n",
       "    </tr>\n",
       "    <tr>\n",
       "      <th>3</th>\n",
       "      <td>2</td>\n",
       "      <td>211</td>\n",
       "      <td>211</td>\n",
       "      <td>212</td>\n",
       "      <td>212</td>\n",
       "      <td>211</td>\n",
       "      <td>210</td>\n",
       "      <td>211</td>\n",
       "      <td>210</td>\n",
       "      <td>210</td>\n",
       "      <td>...</td>\n",
       "      <td>235</td>\n",
       "      <td>234</td>\n",
       "      <td>233</td>\n",
       "      <td>231</td>\n",
       "      <td>230</td>\n",
       "      <td>226</td>\n",
       "      <td>225</td>\n",
       "      <td>222</td>\n",
       "      <td>229</td>\n",
       "      <td>163</td>\n",
       "    </tr>\n",
       "    <tr>\n",
       "      <th>4</th>\n",
       "      <td>13</td>\n",
       "      <td>164</td>\n",
       "      <td>167</td>\n",
       "      <td>170</td>\n",
       "      <td>172</td>\n",
       "      <td>176</td>\n",
       "      <td>179</td>\n",
       "      <td>180</td>\n",
       "      <td>184</td>\n",
       "      <td>185</td>\n",
       "      <td>...</td>\n",
       "      <td>92</td>\n",
       "      <td>105</td>\n",
       "      <td>105</td>\n",
       "      <td>108</td>\n",
       "      <td>133</td>\n",
       "      <td>163</td>\n",
       "      <td>157</td>\n",
       "      <td>163</td>\n",
       "      <td>164</td>\n",
       "      <td>179</td>\n",
       "    </tr>\n",
       "    <tr>\n",
       "      <th>...</th>\n",
       "      <td>...</td>\n",
       "      <td>...</td>\n",
       "      <td>...</td>\n",
       "      <td>...</td>\n",
       "      <td>...</td>\n",
       "      <td>...</td>\n",
       "      <td>...</td>\n",
       "      <td>...</td>\n",
       "      <td>...</td>\n",
       "      <td>...</td>\n",
       "      <td>...</td>\n",
       "      <td>...</td>\n",
       "      <td>...</td>\n",
       "      <td>...</td>\n",
       "      <td>...</td>\n",
       "      <td>...</td>\n",
       "      <td>...</td>\n",
       "      <td>...</td>\n",
       "      <td>...</td>\n",
       "      <td>...</td>\n",
       "      <td>...</td>\n",
       "    </tr>\n",
       "    <tr>\n",
       "      <th>27450</th>\n",
       "      <td>13</td>\n",
       "      <td>189</td>\n",
       "      <td>189</td>\n",
       "      <td>190</td>\n",
       "      <td>190</td>\n",
       "      <td>192</td>\n",
       "      <td>193</td>\n",
       "      <td>193</td>\n",
       "      <td>193</td>\n",
       "      <td>193</td>\n",
       "      <td>...</td>\n",
       "      <td>132</td>\n",
       "      <td>165</td>\n",
       "      <td>99</td>\n",
       "      <td>77</td>\n",
       "      <td>52</td>\n",
       "      <td>200</td>\n",
       "      <td>234</td>\n",
       "      <td>200</td>\n",
       "      <td>222</td>\n",
       "      <td>225</td>\n",
       "    </tr>\n",
       "    <tr>\n",
       "      <th>27451</th>\n",
       "      <td>23</td>\n",
       "      <td>151</td>\n",
       "      <td>154</td>\n",
       "      <td>157</td>\n",
       "      <td>158</td>\n",
       "      <td>160</td>\n",
       "      <td>161</td>\n",
       "      <td>163</td>\n",
       "      <td>164</td>\n",
       "      <td>166</td>\n",
       "      <td>...</td>\n",
       "      <td>198</td>\n",
       "      <td>198</td>\n",
       "      <td>198</td>\n",
       "      <td>198</td>\n",
       "      <td>198</td>\n",
       "      <td>196</td>\n",
       "      <td>195</td>\n",
       "      <td>195</td>\n",
       "      <td>195</td>\n",
       "      <td>194</td>\n",
       "    </tr>\n",
       "    <tr>\n",
       "      <th>27452</th>\n",
       "      <td>18</td>\n",
       "      <td>174</td>\n",
       "      <td>174</td>\n",
       "      <td>174</td>\n",
       "      <td>174</td>\n",
       "      <td>174</td>\n",
       "      <td>175</td>\n",
       "      <td>175</td>\n",
       "      <td>174</td>\n",
       "      <td>173</td>\n",
       "      <td>...</td>\n",
       "      <td>121</td>\n",
       "      <td>196</td>\n",
       "      <td>209</td>\n",
       "      <td>208</td>\n",
       "      <td>206</td>\n",
       "      <td>204</td>\n",
       "      <td>203</td>\n",
       "      <td>202</td>\n",
       "      <td>200</td>\n",
       "      <td>200</td>\n",
       "    </tr>\n",
       "    <tr>\n",
       "      <th>27453</th>\n",
       "      <td>17</td>\n",
       "      <td>177</td>\n",
       "      <td>181</td>\n",
       "      <td>184</td>\n",
       "      <td>185</td>\n",
       "      <td>187</td>\n",
       "      <td>189</td>\n",
       "      <td>190</td>\n",
       "      <td>191</td>\n",
       "      <td>191</td>\n",
       "      <td>...</td>\n",
       "      <td>119</td>\n",
       "      <td>56</td>\n",
       "      <td>27</td>\n",
       "      <td>58</td>\n",
       "      <td>102</td>\n",
       "      <td>79</td>\n",
       "      <td>47</td>\n",
       "      <td>64</td>\n",
       "      <td>87</td>\n",
       "      <td>93</td>\n",
       "    </tr>\n",
       "    <tr>\n",
       "      <th>27454</th>\n",
       "      <td>23</td>\n",
       "      <td>179</td>\n",
       "      <td>180</td>\n",
       "      <td>180</td>\n",
       "      <td>180</td>\n",
       "      <td>182</td>\n",
       "      <td>181</td>\n",
       "      <td>182</td>\n",
       "      <td>183</td>\n",
       "      <td>182</td>\n",
       "      <td>...</td>\n",
       "      <td>108</td>\n",
       "      <td>132</td>\n",
       "      <td>170</td>\n",
       "      <td>194</td>\n",
       "      <td>214</td>\n",
       "      <td>203</td>\n",
       "      <td>197</td>\n",
       "      <td>205</td>\n",
       "      <td>209</td>\n",
       "      <td>215</td>\n",
       "    </tr>\n",
       "  </tbody>\n",
       "</table>\n",
       "<p>27455 rows × 785 columns</p>\n",
       "</div>"
      ],
      "text/plain": [
       "       label  pixel1  pixel2  pixel3  pixel4  pixel5  pixel6  pixel7  pixel8  \\\n",
       "0          3     107     118     127     134     139     143     146     150   \n",
       "1          6     155     157     156     156     156     157     156     158   \n",
       "2          2     187     188     188     187     187     186     187     188   \n",
       "3          2     211     211     212     212     211     210     211     210   \n",
       "4         13     164     167     170     172     176     179     180     184   \n",
       "...      ...     ...     ...     ...     ...     ...     ...     ...     ...   \n",
       "27450     13     189     189     190     190     192     193     193     193   \n",
       "27451     23     151     154     157     158     160     161     163     164   \n",
       "27452     18     174     174     174     174     174     175     175     174   \n",
       "27453     17     177     181     184     185     187     189     190     191   \n",
       "27454     23     179     180     180     180     182     181     182     183   \n",
       "\n",
       "       pixel9  ...  pixel775  pixel776  pixel777  pixel778  pixel779  \\\n",
       "0         153  ...       207       207       207       207       206   \n",
       "1         158  ...        69       149       128        87        94   \n",
       "2         187  ...       202       201       200       199       198   \n",
       "3         210  ...       235       234       233       231       230   \n",
       "4         185  ...        92       105       105       108       133   \n",
       "...       ...  ...       ...       ...       ...       ...       ...   \n",
       "27450     193  ...       132       165        99        77        52   \n",
       "27451     166  ...       198       198       198       198       198   \n",
       "27452     173  ...       121       196       209       208       206   \n",
       "27453     191  ...       119        56        27        58       102   \n",
       "27454     182  ...       108       132       170       194       214   \n",
       "\n",
       "       pixel780  pixel781  pixel782  pixel783  pixel784  \n",
       "0           206       206       204       203       202  \n",
       "1           163       175       103       135       149  \n",
       "2           199       198       195       194       195  \n",
       "3           226       225       222       229       163  \n",
       "4           163       157       163       164       179  \n",
       "...         ...       ...       ...       ...       ...  \n",
       "27450       200       234       200       222       225  \n",
       "27451       196       195       195       195       194  \n",
       "27452       204       203       202       200       200  \n",
       "27453        79        47        64        87        93  \n",
       "27454       203       197       205       209       215  \n",
       "\n",
       "[27455 rows x 785 columns]"
      ]
     },
     "execution_count": 159,
     "metadata": {},
     "output_type": "execute_result"
    }
   ],
   "source": [
    "train_df = pd.read_csv(f'./{dataset_zip_file}/sign_mnist_train.csv')\n",
    "train_df"
   ]
  },
  {
   "cell_type": "code",
   "execution_count": 160,
   "metadata": {
    "ExecuteTime": {
     "end_time": "2020-03-21T17:20:49.967092Z",
     "start_time": "2020-03-21T17:20:49.583412Z"
    }
   },
   "outputs": [
    {
     "data": {
      "text/plain": [
       "<matplotlib.axes._subplots.AxesSubplot at 0x1435591d0>"
      ]
     },
     "execution_count": 160,
     "metadata": {},
     "output_type": "execute_result"
    },
    {
     "data": {
      "image/png": "[encoded data removed]",
      "text/plain": [
       "<Figure size 1296x432 with 1 Axes>"
      ]
     },
     "metadata": {
      "needs_background": "light"
     },
     "output_type": "display_data"
    }
   ],
   "source": [
    "plt.figure(figsize = (18, 6))\n",
    "train_df['label'].value_counts().plot.bar()"
   ]
  },
  {
   "cell_type": "code",
   "execution_count": 161,
   "metadata": {
    "ExecuteTime": {
     "end_time": "2020-03-21T17:20:52.475535Z",
     "start_time": "2020-03-21T17:20:52.469427Z"
    },
    "scrolled": false
   },
   "outputs": [
    {
     "data": {
      "text/plain": [
       "17    1294\n",
       "16    1279\n",
       "11    1241\n",
       "22    1225\n",
       "5     1204\n",
       "18    1199\n",
       "14    1196\n",
       "3     1196\n",
       "19    1186\n",
       "23    1164\n",
       "8     1162\n",
       "20    1161\n",
       "13    1151\n",
       "2     1144\n",
       "0     1126\n",
       "24    1118\n",
       "10    1114\n",
       "6     1090\n",
       "15    1088\n",
       "21    1082\n",
       "12    1055\n",
       "7     1013\n",
       "1     1010\n",
       "4      957\n",
       "Name: label, dtype: int64"
      ]
     },
     "execution_count": 161,
     "metadata": {},
     "output_type": "execute_result"
    }
   ],
   "source": [
    "train_df['label'].value_counts()"
   ]
  },
  {
   "cell_type": "code",
   "execution_count": 162,
   "metadata": {
    "ExecuteTime": {
     "end_time": "2020-03-21T17:20:56.826217Z",
     "start_time": "2020-03-21T17:20:56.820827Z"
    }
   },
   "outputs": [
    {
     "data": {
      "text/plain": [
       "1294"
      ]
     },
     "execution_count": 162,
     "metadata": {},
     "output_type": "execute_result"
    }
   ],
   "source": [
    "max_samples = train_df['label'].value_counts().max()\n",
    "max_samples"
   ]
  },
  {
   "cell_type": "code",
   "execution_count": 163,
   "metadata": {
    "ExecuteTime": {
     "end_time": "2020-03-21T17:20:57.734527Z",
     "start_time": "2020-03-21T17:20:57.731430Z"
    }
   },
   "outputs": [],
   "source": [
    "labels = train_df['label'].unique()"
   ]
  },
  {
   "cell_type": "code",
   "execution_count": 164,
   "metadata": {
    "ExecuteTime": {
     "end_time": "2020-03-21T17:21:02.981209Z",
     "start_time": "2020-03-21T17:21:00.587081Z"
    },
    "scrolled": false
   },
   "outputs": [
    {
     "name": "stdout",
     "output_type": "stream",
     "text": [
      "3 98\n",
      "6 204\n",
      "2 150\n",
      "13 143\n",
      "16 15\n",
      "8 132\n",
      "22 69\n",
      "18 95\n",
      "10 180\n",
      "20 133\n",
      "17 0\n",
      "19 108\n",
      "21 212\n",
      "23 130\n",
      "24 176\n",
      "1 284\n",
      "12 239\n",
      "11 53\n",
      "15 206\n",
      "4 337\n",
      "0 168\n",
      "5 90\n",
      "7 281\n",
      "14 98\n"
     ]
    }
   ],
   "source": [
    "img_oversample = ImageDataGenerator(\n",
    "    rotation_range=20,\n",
    "    width_shift_range=0.1,\n",
    "    height_shift_range=0.1,\n",
    "    zoom_range=0.1,\n",
    ")\n",
    "\n",
    "augmented_images = []\n",
    "for i in labels:\n",
    "    lack = max_samples - len(train_df[train_df['label'] == i])\n",
    "    print(i, lack)\n",
    "    if lack == 0:\n",
    "        continue\n",
    "    vals = train_df[train_df['label'] == i].values\n",
    "    vals = np.delete(vals, 0, axis=1)\n",
    "    \n",
    "    to_aug_idx = np.random.choice(len(vals), lack)\n",
    "    img_to_aug = vals[to_aug_idx]\n",
    "    \n",
    "    for img in img_to_aug:\n",
    "        new_img_iter = img_oversample.flow(img_to_aug[0].reshape(1, 28, 28, 1), y=[i], batch_size=1)\n",
    "        new_img = new_img_iter.next()[0].reshape(784)\n",
    "        augmented_images.append(\n",
    "            pd.Series(np.hstack([i, new_img]), index=train_df.columns)\n",
    "        )\n",
    "\n"
   ]
  },
  {
   "cell_type": "code",
   "execution_count": 165,
   "metadata": {
    "ExecuteTime": {
     "end_time": "2020-03-21T17:21:07.133927Z",
     "start_time": "2020-03-21T17:21:05.824420Z"
    }
   },
   "outputs": [
    {
     "data": {
      "text/html": [
       "<div>\n",
       "<style scoped>\n",
       "    .dataframe tbody tr th:only-of-type {\n",
       "        vertical-align: middle;\n",
       "    }\n",
       "\n",
       "    .dataframe tbody tr th {\n",
       "        vertical-align: top;\n",
       "    }\n",
       "\n",
       "    .dataframe thead th {\n",
       "        text-align: right;\n",
       "    }\n",
       "</style>\n",
       "<table border=\"1\" class=\"dataframe\">\n",
       "  <thead>\n",
       "    <tr style=\"text-align: right;\">\n",
       "      <th></th>\n",
       "      <th>label</th>\n",
       "      <th>pixel1</th>\n",
       "      <th>pixel2</th>\n",
       "      <th>pixel3</th>\n",
       "      <th>pixel4</th>\n",
       "      <th>pixel5</th>\n",
       "      <th>pixel6</th>\n",
       "      <th>pixel7</th>\n",
       "      <th>pixel8</th>\n",
       "      <th>pixel9</th>\n",
       "      <th>...</th>\n",
       "      <th>pixel775</th>\n",
       "      <th>pixel776</th>\n",
       "      <th>pixel777</th>\n",
       "      <th>pixel778</th>\n",
       "      <th>pixel779</th>\n",
       "      <th>pixel780</th>\n",
       "      <th>pixel781</th>\n",
       "      <th>pixel782</th>\n",
       "      <th>pixel783</th>\n",
       "      <th>pixel784</th>\n",
       "    </tr>\n",
       "  </thead>\n",
       "  <tbody>\n",
       "    <tr>\n",
       "      <th>0</th>\n",
       "      <td>3</td>\n",
       "      <td>107.000000</td>\n",
       "      <td>118.000000</td>\n",
       "      <td>127.000000</td>\n",
       "      <td>134.000000</td>\n",
       "      <td>139.000000</td>\n",
       "      <td>143.000000</td>\n",
       "      <td>146.000000</td>\n",
       "      <td>150.000000</td>\n",
       "      <td>153.000000</td>\n",
       "      <td>...</td>\n",
       "      <td>207.000000</td>\n",
       "      <td>207.000000</td>\n",
       "      <td>207.000000</td>\n",
       "      <td>207.000000</td>\n",
       "      <td>206.000000</td>\n",
       "      <td>206.000000</td>\n",
       "      <td>206.000000</td>\n",
       "      <td>204.000000</td>\n",
       "      <td>203.000000</td>\n",
       "      <td>202.000000</td>\n",
       "    </tr>\n",
       "    <tr>\n",
       "      <th>1</th>\n",
       "      <td>6</td>\n",
       "      <td>155.000000</td>\n",
       "      <td>157.000000</td>\n",
       "      <td>156.000000</td>\n",
       "      <td>156.000000</td>\n",
       "      <td>156.000000</td>\n",
       "      <td>157.000000</td>\n",
       "      <td>156.000000</td>\n",
       "      <td>158.000000</td>\n",
       "      <td>158.000000</td>\n",
       "      <td>...</td>\n",
       "      <td>69.000000</td>\n",
       "      <td>149.000000</td>\n",
       "      <td>128.000000</td>\n",
       "      <td>87.000000</td>\n",
       "      <td>94.000000</td>\n",
       "      <td>163.000000</td>\n",
       "      <td>175.000000</td>\n",
       "      <td>103.000000</td>\n",
       "      <td>135.000000</td>\n",
       "      <td>149.000000</td>\n",
       "    </tr>\n",
       "    <tr>\n",
       "      <th>2</th>\n",
       "      <td>2</td>\n",
       "      <td>187.000000</td>\n",
       "      <td>188.000000</td>\n",
       "      <td>188.000000</td>\n",
       "      <td>187.000000</td>\n",
       "      <td>187.000000</td>\n",
       "      <td>186.000000</td>\n",
       "      <td>187.000000</td>\n",
       "      <td>188.000000</td>\n",
       "      <td>187.000000</td>\n",
       "      <td>...</td>\n",
       "      <td>202.000000</td>\n",
       "      <td>201.000000</td>\n",
       "      <td>200.000000</td>\n",
       "      <td>199.000000</td>\n",
       "      <td>198.000000</td>\n",
       "      <td>199.000000</td>\n",
       "      <td>198.000000</td>\n",
       "      <td>195.000000</td>\n",
       "      <td>194.000000</td>\n",
       "      <td>195.000000</td>\n",
       "    </tr>\n",
       "    <tr>\n",
       "      <th>3</th>\n",
       "      <td>2</td>\n",
       "      <td>211.000000</td>\n",
       "      <td>211.000000</td>\n",
       "      <td>212.000000</td>\n",
       "      <td>212.000000</td>\n",
       "      <td>211.000000</td>\n",
       "      <td>210.000000</td>\n",
       "      <td>211.000000</td>\n",
       "      <td>210.000000</td>\n",
       "      <td>210.000000</td>\n",
       "      <td>...</td>\n",
       "      <td>235.000000</td>\n",
       "      <td>234.000000</td>\n",
       "      <td>233.000000</td>\n",
       "      <td>231.000000</td>\n",
       "      <td>230.000000</td>\n",
       "      <td>226.000000</td>\n",
       "      <td>225.000000</td>\n",
       "      <td>222.000000</td>\n",
       "      <td>229.000000</td>\n",
       "      <td>163.000000</td>\n",
       "    </tr>\n",
       "    <tr>\n",
       "      <th>4</th>\n",
       "      <td>13</td>\n",
       "      <td>164.000000</td>\n",
       "      <td>167.000000</td>\n",
       "      <td>170.000000</td>\n",
       "      <td>172.000000</td>\n",
       "      <td>176.000000</td>\n",
       "      <td>179.000000</td>\n",
       "      <td>180.000000</td>\n",
       "      <td>184.000000</td>\n",
       "      <td>185.000000</td>\n",
       "      <td>...</td>\n",
       "      <td>92.000000</td>\n",
       "      <td>105.000000</td>\n",
       "      <td>105.000000</td>\n",
       "      <td>108.000000</td>\n",
       "      <td>133.000000</td>\n",
       "      <td>163.000000</td>\n",
       "      <td>157.000000</td>\n",
       "      <td>163.000000</td>\n",
       "      <td>164.000000</td>\n",
       "      <td>179.000000</td>\n",
       "    </tr>\n",
       "    <tr>\n",
       "      <th>...</th>\n",
       "      <td>...</td>\n",
       "      <td>...</td>\n",
       "      <td>...</td>\n",
       "      <td>...</td>\n",
       "      <td>...</td>\n",
       "      <td>...</td>\n",
       "      <td>...</td>\n",
       "      <td>...</td>\n",
       "      <td>...</td>\n",
       "      <td>...</td>\n",
       "      <td>...</td>\n",
       "      <td>...</td>\n",
       "      <td>...</td>\n",
       "      <td>...</td>\n",
       "      <td>...</td>\n",
       "      <td>...</td>\n",
       "      <td>...</td>\n",
       "      <td>...</td>\n",
       "      <td>...</td>\n",
       "      <td>...</td>\n",
       "      <td>...</td>\n",
       "    </tr>\n",
       "    <tr>\n",
       "      <th>3596</th>\n",
       "      <td>14</td>\n",
       "      <td>155.408264</td>\n",
       "      <td>157.286743</td>\n",
       "      <td>159.165207</td>\n",
       "      <td>161.021835</td>\n",
       "      <td>161.961075</td>\n",
       "      <td>164.720154</td>\n",
       "      <td>165.859894</td>\n",
       "      <td>167.146622</td>\n",
       "      <td>168.409027</td>\n",
       "      <td>...</td>\n",
       "      <td>192.848907</td>\n",
       "      <td>193.000000</td>\n",
       "      <td>193.000000</td>\n",
       "      <td>192.333389</td>\n",
       "      <td>192.000000</td>\n",
       "      <td>191.454910</td>\n",
       "      <td>191.484314</td>\n",
       "      <td>191.576447</td>\n",
       "      <td>191.000000</td>\n",
       "      <td>191.000000</td>\n",
       "    </tr>\n",
       "    <tr>\n",
       "      <th>3597</th>\n",
       "      <td>14</td>\n",
       "      <td>147.043518</td>\n",
       "      <td>146.462463</td>\n",
       "      <td>146.000000</td>\n",
       "      <td>146.000000</td>\n",
       "      <td>146.909607</td>\n",
       "      <td>149.680054</td>\n",
       "      <td>151.753693</td>\n",
       "      <td>153.413666</td>\n",
       "      <td>154.450500</td>\n",
       "      <td>...</td>\n",
       "      <td>189.782852</td>\n",
       "      <td>189.316498</td>\n",
       "      <td>188.749878</td>\n",
       "      <td>187.673431</td>\n",
       "      <td>187.852676</td>\n",
       "      <td>187.878296</td>\n",
       "      <td>187.587769</td>\n",
       "      <td>187.297241</td>\n",
       "      <td>187.006714</td>\n",
       "      <td>187.000000</td>\n",
       "    </tr>\n",
       "    <tr>\n",
       "      <th>3598</th>\n",
       "      <td>14</td>\n",
       "      <td>153.290558</td>\n",
       "      <td>154.202896</td>\n",
       "      <td>155.230453</td>\n",
       "      <td>157.055115</td>\n",
       "      <td>158.879791</td>\n",
       "      <td>160.704453</td>\n",
       "      <td>161.764557</td>\n",
       "      <td>164.030670</td>\n",
       "      <td>165.589218</td>\n",
       "      <td>...</td>\n",
       "      <td>189.773026</td>\n",
       "      <td>191.329422</td>\n",
       "      <td>191.567078</td>\n",
       "      <td>192.000000</td>\n",
       "      <td>191.993881</td>\n",
       "      <td>192.042831</td>\n",
       "      <td>192.155090</td>\n",
       "      <td>191.221512</td>\n",
       "      <td>190.720016</td>\n",
       "      <td>190.177902</td>\n",
       "    </tr>\n",
       "    <tr>\n",
       "      <th>3599</th>\n",
       "      <td>14</td>\n",
       "      <td>154.354568</td>\n",
       "      <td>155.489517</td>\n",
       "      <td>157.269897</td>\n",
       "      <td>159.050293</td>\n",
       "      <td>160.830673</td>\n",
       "      <td>161.805527</td>\n",
       "      <td>164.087173</td>\n",
       "      <td>165.585922</td>\n",
       "      <td>166.476105</td>\n",
       "      <td>...</td>\n",
       "      <td>125.923462</td>\n",
       "      <td>120.356033</td>\n",
       "      <td>158.755234</td>\n",
       "      <td>188.050262</td>\n",
       "      <td>191.004181</td>\n",
       "      <td>191.728592</td>\n",
       "      <td>192.230713</td>\n",
       "      <td>192.627960</td>\n",
       "      <td>192.883087</td>\n",
       "      <td>192.960007</td>\n",
       "    </tr>\n",
       "    <tr>\n",
       "      <th>3600</th>\n",
       "      <td>14</td>\n",
       "      <td>150.081039</td>\n",
       "      <td>149.803787</td>\n",
       "      <td>149.526550</td>\n",
       "      <td>149.249313</td>\n",
       "      <td>151.421249</td>\n",
       "      <td>153.099182</td>\n",
       "      <td>154.516846</td>\n",
       "      <td>155.986816</td>\n",
       "      <td>156.591492</td>\n",
       "      <td>...</td>\n",
       "      <td>189.301758</td>\n",
       "      <td>188.955948</td>\n",
       "      <td>188.139557</td>\n",
       "      <td>188.000000</td>\n",
       "      <td>187.348892</td>\n",
       "      <td>186.951248</td>\n",
       "      <td>187.000000</td>\n",
       "      <td>187.000000</td>\n",
       "      <td>187.000000</td>\n",
       "      <td>186.746216</td>\n",
       "    </tr>\n",
       "  </tbody>\n",
       "</table>\n",
       "<p>31056 rows × 785 columns</p>\n",
       "</div>"
      ],
      "text/plain": [
       "      label      pixel1      pixel2      pixel3      pixel4      pixel5  \\\n",
       "0         3  107.000000  118.000000  127.000000  134.000000  139.000000   \n",
       "1         6  155.000000  157.000000  156.000000  156.000000  156.000000   \n",
       "2         2  187.000000  188.000000  188.000000  187.000000  187.000000   \n",
       "3         2  211.000000  211.000000  212.000000  212.000000  211.000000   \n",
       "4        13  164.000000  167.000000  170.000000  172.000000  176.000000   \n",
       "...     ...         ...         ...         ...         ...         ...   \n",
       "3596     14  155.408264  157.286743  159.165207  161.021835  161.961075   \n",
       "3597     14  147.043518  146.462463  146.000000  146.000000  146.909607   \n",
       "3598     14  153.290558  154.202896  155.230453  157.055115  158.879791   \n",
       "3599     14  154.354568  155.489517  157.269897  159.050293  160.830673   \n",
       "3600     14  150.081039  149.803787  149.526550  149.249313  151.421249   \n",
       "\n",
       "          pixel6      pixel7      pixel8      pixel9  ...    pixel775  \\\n",
       "0     143.000000  146.000000  150.000000  153.000000  ...  207.000000   \n",
       "1     157.000000  156.000000  158.000000  158.000000  ...   69.000000   \n",
       "2     186.000000  187.000000  188.000000  187.000000  ...  202.000000   \n",
       "3     210.000000  211.000000  210.000000  210.000000  ...  235.000000   \n",
       "4     179.000000  180.000000  184.000000  185.000000  ...   92.000000   \n",
       "...          ...         ...         ...         ...  ...         ...   \n",
       "3596  164.720154  165.859894  167.146622  168.409027  ...  192.848907   \n",
       "3597  149.680054  151.753693  153.413666  154.450500  ...  189.782852   \n",
       "3598  160.704453  161.764557  164.030670  165.589218  ...  189.773026   \n",
       "3599  161.805527  164.087173  165.585922  166.476105  ...  125.923462   \n",
       "3600  153.099182  154.516846  155.986816  156.591492  ...  189.301758   \n",
       "\n",
       "        pixel776    pixel777    pixel778    pixel779    pixel780    pixel781  \\\n",
       "0     207.000000  207.000000  207.000000  206.000000  206.000000  206.000000   \n",
       "1     149.000000  128.000000   87.000000   94.000000  163.000000  175.000000   \n",
       "2     201.000000  200.000000  199.000000  198.000000  199.000000  198.000000   \n",
       "3     234.000000  233.000000  231.000000  230.000000  226.000000  225.000000   \n",
       "4     105.000000  105.000000  108.000000  133.000000  163.000000  157.000000   \n",
       "...          ...         ...         ...         ...         ...         ...   \n",
       "3596  193.000000  193.000000  192.333389  192.000000  191.454910  191.484314   \n",
       "3597  189.316498  188.749878  187.673431  187.852676  187.878296  187.587769   \n",
       "3598  191.329422  191.567078  192.000000  191.993881  192.042831  192.155090   \n",
       "3599  120.356033  158.755234  188.050262  191.004181  191.728592  192.230713   \n",
       "3600  188.955948  188.139557  188.000000  187.348892  186.951248  187.000000   \n",
       "\n",
       "        pixel782    pixel783    pixel784  \n",
       "0     204.000000  203.000000  202.000000  \n",
       "1     103.000000  135.000000  149.000000  \n",
       "2     195.000000  194.000000  195.000000  \n",
       "3     222.000000  229.000000  163.000000  \n",
       "4     163.000000  164.000000  179.000000  \n",
       "...          ...         ...         ...  \n",
       "3596  191.576447  191.000000  191.000000  \n",
       "3597  187.297241  187.006714  187.000000  \n",
       "3598  191.221512  190.720016  190.177902  \n",
       "3599  192.627960  192.883087  192.960007  \n",
       "3600  187.000000  187.000000  186.746216  \n",
       "\n",
       "[31056 rows x 785 columns]"
      ]
     },
     "execution_count": 165,
     "metadata": {},
     "output_type": "execute_result"
    }
   ],
   "source": [
    "aug_train_df = train_df.append(augmented_images).astype({'label': 'int32'})\n",
    "aug_train_df"
   ]
  },
  {
   "cell_type": "code",
   "execution_count": 166,
   "metadata": {
    "ExecuteTime": {
     "end_time": "2020-03-21T17:21:10.947505Z",
     "start_time": "2020-03-21T17:21:10.575290Z"
    }
   },
   "outputs": [
    {
     "data": {
      "text/plain": [
       "<matplotlib.axes._subplots.AxesSubplot at 0x176c86f50>"
      ]
     },
     "execution_count": 166,
     "metadata": {},
     "output_type": "execute_result"
    },
    {
     "data": {
      "image/png": "[encoded data removed]",
      "text/plain": [
       "<Figure size 1296x432 with 1 Axes>"
      ]
     },
     "metadata": {
      "needs_background": "light"
     },
     "output_type": "display_data"
    }
   ],
   "source": [
    "plt.figure(figsize = (18, 6))\n",
    "aug_train_df['label'].value_counts().plot.bar()"
   ]
  },
  {
   "cell_type": "code",
   "execution_count": 167,
   "metadata": {
    "ExecuteTime": {
     "end_time": "2020-03-21T17:21:15.328685Z",
     "start_time": "2020-03-21T17:21:15.108176Z"
    }
   },
   "outputs": [],
   "source": [
    "aug_train_df, aug_valid_df = train_test_split(aug_train_df, test_size=0.25, random_state=42, stratify=aug_train_df['label'])"
   ]
  },
  {
   "cell_type": "code",
   "execution_count": 170,
   "metadata": {
    "ExecuteTime": {
     "end_time": "2020-03-21T17:21:35.359048Z",
     "start_time": "2020-03-21T17:21:34.984393Z"
    }
   },
   "outputs": [
    {
     "data": {
      "text/plain": [
       "<matplotlib.axes._subplots.AxesSubplot at 0x1431f94d0>"
      ]
     },
     "execution_count": 170,
     "metadata": {},
     "output_type": "execute_result"
    },
    {
     "data": {
      "image/png": "[encoded data removed]",
      "text/plain": [
       "<Figure size 1296x432 with 1 Axes>"
      ]
     },
     "metadata": {
      "needs_background": "light"
     },
     "output_type": "display_data"
    }
   ],
   "source": [
    "plt.figure(figsize = (18, 6))\n",
    "aug_train_df['label'].value_counts().plot.bar()"
   ]
  },
  {
   "cell_type": "code",
   "execution_count": 169,
   "metadata": {
    "ExecuteTime": {
     "end_time": "2020-03-21T17:21:20.805801Z",
     "start_time": "2020-03-21T17:21:20.776035Z"
    }
   },
   "outputs": [
    {
     "data": {
      "text/html": [
       "<div>\n",
       "<style scoped>\n",
       "    .dataframe tbody tr th:only-of-type {\n",
       "        vertical-align: middle;\n",
       "    }\n",
       "\n",
       "    .dataframe tbody tr th {\n",
       "        vertical-align: top;\n",
       "    }\n",
       "\n",
       "    .dataframe thead th {\n",
       "        text-align: right;\n",
       "    }\n",
       "</style>\n",
       "<table border=\"1\" class=\"dataframe\">\n",
       "  <thead>\n",
       "    <tr style=\"text-align: right;\">\n",
       "      <th></th>\n",
       "      <th>label</th>\n",
       "      <th>pixel1</th>\n",
       "      <th>pixel2</th>\n",
       "      <th>pixel3</th>\n",
       "      <th>pixel4</th>\n",
       "      <th>pixel5</th>\n",
       "      <th>pixel6</th>\n",
       "      <th>pixel7</th>\n",
       "      <th>pixel8</th>\n",
       "      <th>pixel9</th>\n",
       "      <th>...</th>\n",
       "      <th>pixel775</th>\n",
       "      <th>pixel776</th>\n",
       "      <th>pixel777</th>\n",
       "      <th>pixel778</th>\n",
       "      <th>pixel779</th>\n",
       "      <th>pixel780</th>\n",
       "      <th>pixel781</th>\n",
       "      <th>pixel782</th>\n",
       "      <th>pixel783</th>\n",
       "      <th>pixel784</th>\n",
       "    </tr>\n",
       "  </thead>\n",
       "  <tbody>\n",
       "    <tr>\n",
       "      <th>25614</th>\n",
       "      <td>1</td>\n",
       "      <td>183.000000</td>\n",
       "      <td>183.000000</td>\n",
       "      <td>185.00000</td>\n",
       "      <td>185.000000</td>\n",
       "      <td>187.000000</td>\n",
       "      <td>186.000000</td>\n",
       "      <td>185.000000</td>\n",
       "      <td>185.000000</td>\n",
       "      <td>185.000000</td>\n",
       "      <td>...</td>\n",
       "      <td>134.000000</td>\n",
       "      <td>211.000000</td>\n",
       "      <td>151.000000</td>\n",
       "      <td>83.000000</td>\n",
       "      <td>48.000000</td>\n",
       "      <td>41.000000</td>\n",
       "      <td>42.000000</td>\n",
       "      <td>44.000000</td>\n",
       "      <td>47.000000</td>\n",
       "      <td>50.000000</td>\n",
       "    </tr>\n",
       "    <tr>\n",
       "      <th>23125</th>\n",
       "      <td>11</td>\n",
       "      <td>117.000000</td>\n",
       "      <td>119.000000</td>\n",
       "      <td>123.00000</td>\n",
       "      <td>124.000000</td>\n",
       "      <td>125.000000</td>\n",
       "      <td>128.000000</td>\n",
       "      <td>130.000000</td>\n",
       "      <td>131.000000</td>\n",
       "      <td>132.000000</td>\n",
       "      <td>...</td>\n",
       "      <td>162.000000</td>\n",
       "      <td>163.000000</td>\n",
       "      <td>162.000000</td>\n",
       "      <td>160.000000</td>\n",
       "      <td>161.000000</td>\n",
       "      <td>160.000000</td>\n",
       "      <td>159.000000</td>\n",
       "      <td>159.000000</td>\n",
       "      <td>159.000000</td>\n",
       "      <td>159.000000</td>\n",
       "    </tr>\n",
       "    <tr>\n",
       "      <th>18430</th>\n",
       "      <td>15</td>\n",
       "      <td>96.000000</td>\n",
       "      <td>97.000000</td>\n",
       "      <td>99.00000</td>\n",
       "      <td>100.000000</td>\n",
       "      <td>104.000000</td>\n",
       "      <td>114.000000</td>\n",
       "      <td>124.000000</td>\n",
       "      <td>136.000000</td>\n",
       "      <td>143.000000</td>\n",
       "      <td>...</td>\n",
       "      <td>135.000000</td>\n",
       "      <td>124.000000</td>\n",
       "      <td>191.000000</td>\n",
       "      <td>210.000000</td>\n",
       "      <td>196.000000</td>\n",
       "      <td>189.000000</td>\n",
       "      <td>173.000000</td>\n",
       "      <td>138.000000</td>\n",
       "      <td>109.000000</td>\n",
       "      <td>110.000000</td>\n",
       "    </tr>\n",
       "    <tr>\n",
       "      <th>3127</th>\n",
       "      <td>1</td>\n",
       "      <td>122.000000</td>\n",
       "      <td>125.000000</td>\n",
       "      <td>129.00000</td>\n",
       "      <td>132.000000</td>\n",
       "      <td>136.000000</td>\n",
       "      <td>138.000000</td>\n",
       "      <td>138.000000</td>\n",
       "      <td>139.000000</td>\n",
       "      <td>139.000000</td>\n",
       "      <td>...</td>\n",
       "      <td>221.000000</td>\n",
       "      <td>218.000000</td>\n",
       "      <td>219.000000</td>\n",
       "      <td>218.000000</td>\n",
       "      <td>217.000000</td>\n",
       "      <td>219.000000</td>\n",
       "      <td>218.000000</td>\n",
       "      <td>218.000000</td>\n",
       "      <td>217.000000</td>\n",
       "      <td>216.000000</td>\n",
       "    </tr>\n",
       "    <tr>\n",
       "      <th>2157</th>\n",
       "      <td>12</td>\n",
       "      <td>164.999664</td>\n",
       "      <td>164.184509</td>\n",
       "      <td>163.36937</td>\n",
       "      <td>163.000000</td>\n",
       "      <td>165.492783</td>\n",
       "      <td>168.232376</td>\n",
       "      <td>170.386597</td>\n",
       "      <td>172.763031</td>\n",
       "      <td>176.065109</td>\n",
       "      <td>...</td>\n",
       "      <td>65.816101</td>\n",
       "      <td>58.090912</td>\n",
       "      <td>40.541698</td>\n",
       "      <td>38.124767</td>\n",
       "      <td>52.105412</td>\n",
       "      <td>62.310425</td>\n",
       "      <td>59.732319</td>\n",
       "      <td>57.015171</td>\n",
       "      <td>54.298019</td>\n",
       "      <td>51.580872</td>\n",
       "    </tr>\n",
       "    <tr>\n",
       "      <th>...</th>\n",
       "      <td>...</td>\n",
       "      <td>...</td>\n",
       "      <td>...</td>\n",
       "      <td>...</td>\n",
       "      <td>...</td>\n",
       "      <td>...</td>\n",
       "      <td>...</td>\n",
       "      <td>...</td>\n",
       "      <td>...</td>\n",
       "      <td>...</td>\n",
       "      <td>...</td>\n",
       "      <td>...</td>\n",
       "      <td>...</td>\n",
       "      <td>...</td>\n",
       "      <td>...</td>\n",
       "      <td>...</td>\n",
       "      <td>...</td>\n",
       "      <td>...</td>\n",
       "      <td>...</td>\n",
       "      <td>...</td>\n",
       "      <td>...</td>\n",
       "    </tr>\n",
       "    <tr>\n",
       "      <th>559</th>\n",
       "      <td>13</td>\n",
       "      <td>227.971863</td>\n",
       "      <td>227.806091</td>\n",
       "      <td>227.64032</td>\n",
       "      <td>227.474548</td>\n",
       "      <td>227.927475</td>\n",
       "      <td>229.315979</td>\n",
       "      <td>229.108978</td>\n",
       "      <td>230.071854</td>\n",
       "      <td>232.245117</td>\n",
       "      <td>...</td>\n",
       "      <td>255.000000</td>\n",
       "      <td>255.000000</td>\n",
       "      <td>255.000000</td>\n",
       "      <td>255.000000</td>\n",
       "      <td>254.318497</td>\n",
       "      <td>252.435410</td>\n",
       "      <td>250.552307</td>\n",
       "      <td>248.733063</td>\n",
       "      <td>247.098129</td>\n",
       "      <td>246.000000</td>\n",
       "    </tr>\n",
       "    <tr>\n",
       "      <th>16024</th>\n",
       "      <td>24</td>\n",
       "      <td>191.000000</td>\n",
       "      <td>192.000000</td>\n",
       "      <td>193.00000</td>\n",
       "      <td>194.000000</td>\n",
       "      <td>193.000000</td>\n",
       "      <td>194.000000</td>\n",
       "      <td>194.000000</td>\n",
       "      <td>194.000000</td>\n",
       "      <td>195.000000</td>\n",
       "      <td>...</td>\n",
       "      <td>112.000000</td>\n",
       "      <td>134.000000</td>\n",
       "      <td>177.000000</td>\n",
       "      <td>189.000000</td>\n",
       "      <td>174.000000</td>\n",
       "      <td>130.000000</td>\n",
       "      <td>163.000000</td>\n",
       "      <td>177.000000</td>\n",
       "      <td>200.000000</td>\n",
       "      <td>207.000000</td>\n",
       "    </tr>\n",
       "    <tr>\n",
       "      <th>17001</th>\n",
       "      <td>0</td>\n",
       "      <td>191.000000</td>\n",
       "      <td>192.000000</td>\n",
       "      <td>193.00000</td>\n",
       "      <td>193.000000</td>\n",
       "      <td>194.000000</td>\n",
       "      <td>195.000000</td>\n",
       "      <td>196.000000</td>\n",
       "      <td>195.000000</td>\n",
       "      <td>195.000000</td>\n",
       "      <td>...</td>\n",
       "      <td>132.000000</td>\n",
       "      <td>207.000000</td>\n",
       "      <td>227.000000</td>\n",
       "      <td>231.000000</td>\n",
       "      <td>232.000000</td>\n",
       "      <td>220.000000</td>\n",
       "      <td>215.000000</td>\n",
       "      <td>221.000000</td>\n",
       "      <td>229.000000</td>\n",
       "      <td>228.000000</td>\n",
       "    </tr>\n",
       "    <tr>\n",
       "      <th>26661</th>\n",
       "      <td>3</td>\n",
       "      <td>58.000000</td>\n",
       "      <td>71.000000</td>\n",
       "      <td>92.00000</td>\n",
       "      <td>104.000000</td>\n",
       "      <td>109.000000</td>\n",
       "      <td>115.000000</td>\n",
       "      <td>122.000000</td>\n",
       "      <td>127.000000</td>\n",
       "      <td>130.000000</td>\n",
       "      <td>...</td>\n",
       "      <td>15.000000</td>\n",
       "      <td>6.000000</td>\n",
       "      <td>0.000000</td>\n",
       "      <td>18.000000</td>\n",
       "      <td>17.000000</td>\n",
       "      <td>0.000000</td>\n",
       "      <td>0.000000</td>\n",
       "      <td>24.000000</td>\n",
       "      <td>22.000000</td>\n",
       "      <td>14.000000</td>\n",
       "    </tr>\n",
       "    <tr>\n",
       "      <th>25694</th>\n",
       "      <td>23</td>\n",
       "      <td>167.000000</td>\n",
       "      <td>170.000000</td>\n",
       "      <td>172.00000</td>\n",
       "      <td>175.000000</td>\n",
       "      <td>178.000000</td>\n",
       "      <td>180.000000</td>\n",
       "      <td>181.000000</td>\n",
       "      <td>183.000000</td>\n",
       "      <td>184.000000</td>\n",
       "      <td>...</td>\n",
       "      <td>209.000000</td>\n",
       "      <td>208.000000</td>\n",
       "      <td>208.000000</td>\n",
       "      <td>208.000000</td>\n",
       "      <td>207.000000</td>\n",
       "      <td>205.000000</td>\n",
       "      <td>204.000000</td>\n",
       "      <td>203.000000</td>\n",
       "      <td>202.000000</td>\n",
       "      <td>201.000000</td>\n",
       "    </tr>\n",
       "  </tbody>\n",
       "</table>\n",
       "<p>7764 rows × 785 columns</p>\n",
       "</div>"
      ],
      "text/plain": [
       "       label      pixel1      pixel2     pixel3      pixel4      pixel5  \\\n",
       "25614      1  183.000000  183.000000  185.00000  185.000000  187.000000   \n",
       "23125     11  117.000000  119.000000  123.00000  124.000000  125.000000   \n",
       "18430     15   96.000000   97.000000   99.00000  100.000000  104.000000   \n",
       "3127       1  122.000000  125.000000  129.00000  132.000000  136.000000   \n",
       "2157      12  164.999664  164.184509  163.36937  163.000000  165.492783   \n",
       "...      ...         ...         ...        ...         ...         ...   \n",
       "559       13  227.971863  227.806091  227.64032  227.474548  227.927475   \n",
       "16024     24  191.000000  192.000000  193.00000  194.000000  193.000000   \n",
       "17001      0  191.000000  192.000000  193.00000  193.000000  194.000000   \n",
       "26661      3   58.000000   71.000000   92.00000  104.000000  109.000000   \n",
       "25694     23  167.000000  170.000000  172.00000  175.000000  178.000000   \n",
       "\n",
       "           pixel6      pixel7      pixel8      pixel9  ...    pixel775  \\\n",
       "25614  186.000000  185.000000  185.000000  185.000000  ...  134.000000   \n",
       "23125  128.000000  130.000000  131.000000  132.000000  ...  162.000000   \n",
       "18430  114.000000  124.000000  136.000000  143.000000  ...  135.000000   \n",
       "3127   138.000000  138.000000  139.000000  139.000000  ...  221.000000   \n",
       "2157   168.232376  170.386597  172.763031  176.065109  ...   65.816101   \n",
       "...           ...         ...         ...         ...  ...         ...   \n",
       "559    229.315979  229.108978  230.071854  232.245117  ...  255.000000   \n",
       "16024  194.000000  194.000000  194.000000  195.000000  ...  112.000000   \n",
       "17001  195.000000  196.000000  195.000000  195.000000  ...  132.000000   \n",
       "26661  115.000000  122.000000  127.000000  130.000000  ...   15.000000   \n",
       "25694  180.000000  181.000000  183.000000  184.000000  ...  209.000000   \n",
       "\n",
       "         pixel776    pixel777    pixel778    pixel779    pixel780    pixel781  \\\n",
       "25614  211.000000  151.000000   83.000000   48.000000   41.000000   42.000000   \n",
       "23125  163.000000  162.000000  160.000000  161.000000  160.000000  159.000000   \n",
       "18430  124.000000  191.000000  210.000000  196.000000  189.000000  173.000000   \n",
       "3127   218.000000  219.000000  218.000000  217.000000  219.000000  218.000000   \n",
       "2157    58.090912   40.541698   38.124767   52.105412   62.310425   59.732319   \n",
       "...           ...         ...         ...         ...         ...         ...   \n",
       "559    255.000000  255.000000  255.000000  254.318497  252.435410  250.552307   \n",
       "16024  134.000000  177.000000  189.000000  174.000000  130.000000  163.000000   \n",
       "17001  207.000000  227.000000  231.000000  232.000000  220.000000  215.000000   \n",
       "26661    6.000000    0.000000   18.000000   17.000000    0.000000    0.000000   \n",
       "25694  208.000000  208.000000  208.000000  207.000000  205.000000  204.000000   \n",
       "\n",
       "         pixel782    pixel783    pixel784  \n",
       "25614   44.000000   47.000000   50.000000  \n",
       "23125  159.000000  159.000000  159.000000  \n",
       "18430  138.000000  109.000000  110.000000  \n",
       "3127   218.000000  217.000000  216.000000  \n",
       "2157    57.015171   54.298019   51.580872  \n",
       "...           ...         ...         ...  \n",
       "559    248.733063  247.098129  246.000000  \n",
       "16024  177.000000  200.000000  207.000000  \n",
       "17001  221.000000  229.000000  228.000000  \n",
       "26661   24.000000   22.000000   14.000000  \n",
       "25694  203.000000  202.000000  201.000000  \n",
       "\n",
       "[7764 rows x 785 columns]"
      ]
     },
     "execution_count": 169,
     "metadata": {},
     "output_type": "execute_result"
    }
   ],
   "source": [
    "aug_valid_df"
   ]
  },
  {
   "cell_type": "code",
   "execution_count": 206,
   "metadata": {
    "ExecuteTime": {
     "end_time": "2020-03-21T18:02:06.584753Z",
     "start_time": "2020-03-21T18:02:06.580585Z"
    }
   },
   "outputs": [],
   "source": [
    "label_binrizer = LabelBinarizer()\n",
    "\n",
    "def df_to_x_y(df):\n",
    "    \n",
    "    y = label_binrizer.fit_transform(np.array(df['label']))\n",
    "    \n",
    "    x_df = df.drop('label', axis = 1)\n",
    "    x = np.array(x_df).reshape(-1, 28, 28, 1)\n",
    "    \n",
    "    return x, y"
   ]
  },
  {
   "cell_type": "code",
   "execution_count": 207,
   "metadata": {
    "ExecuteTime": {
     "end_time": "2020-03-21T18:02:07.222665Z",
     "start_time": "2020-03-21T18:02:06.999903Z"
    }
   },
   "outputs": [
    {
     "data": {
      "text/plain": [
       "((23292, 28, 28, 1), (23292, 24))"
      ]
     },
     "execution_count": 207,
     "metadata": {},
     "output_type": "execute_result"
    }
   ],
   "source": [
    "train_x, train_y = df_to_x_y(aug_train_df)\n",
    "train_x.shape, train_y.shape"
   ]
  },
  {
   "cell_type": "code",
   "execution_count": 208,
   "metadata": {
    "ExecuteTime": {
     "end_time": "2020-03-21T18:02:07.371695Z",
     "start_time": "2020-03-21T18:02:07.339657Z"
    }
   },
   "outputs": [
    {
     "data": {
      "text/plain": [
       "((7764, 28, 28, 1), (7764, 24))"
      ]
     },
     "execution_count": 208,
     "metadata": {},
     "output_type": "execute_result"
    }
   ],
   "source": [
    "valid_x, valid_y = df_to_x_y(aug_valid_df)\n",
    "valid_x.shape, valid_y.shape"
   ]
  },
  {
   "cell_type": "code",
   "execution_count": 209,
   "metadata": {
    "ExecuteTime": {
     "end_time": "2020-03-21T18:02:07.623012Z",
     "start_time": "2020-03-21T18:02:07.592768Z"
    }
   },
   "outputs": [
    {
     "data": {
      "text/plain": [
       "((7172, 28, 28, 1), (7172, 24))"
      ]
     },
     "execution_count": 209,
     "metadata": {},
     "output_type": "execute_result"
    }
   ],
   "source": [
    "test_x, test_y = df_to_x_y(test_df)\n",
    "test_x.shape, test_y.shape"
   ]
  },
  {
   "cell_type": "markdown",
   "metadata": {},
   "source": [
    "# Train Models"
   ]
  },
  {
   "cell_type": "code",
   "execution_count": 187,
   "metadata": {
    "ExecuteTime": {
     "end_time": "2020-03-21T17:48:14.019986Z",
     "start_time": "2020-03-21T17:48:14.014355Z"
    }
   },
   "outputs": [],
   "source": [
    "def plot_curves(title, data, y_title, x_title='Epoch', legend=[], x_labels_offset = 0):\n",
    "    fig = plt.figure(figsize=(8, 4))\n",
    "        \n",
    "    for row in data:\n",
    "        x = range(x_labels_offset, len(row))\n",
    "        plt.plot(x, row[x_labels_offset:])\n",
    "    \n",
    "    plt.title(title)\n",
    "    plt.ylabel(y_title)\n",
    "    plt.xlabel(x_title)\n",
    "    plt.grid(True)\n",
    "    plt.legend(legend, loc='upper left')\n",
    "    plt.show()"
   ]
  },
  {
   "cell_type": "code",
   "execution_count": 210,
   "metadata": {
    "ExecuteTime": {
     "end_time": "2020-03-21T18:02:13.653590Z",
     "start_time": "2020-03-21T18:02:13.650476Z"
    }
   },
   "outputs": [],
   "source": [
    "WIDTH = 28\n",
    "HEIGHT = 28\n",
    "IMG_SIZE = (WIDTH, HEIGHT)\n",
    "CHANNELS = 1\n",
    "OUTPUT = 24"
   ]
  },
  {
   "cell_type": "code",
   "execution_count": 219,
   "metadata": {
    "ExecuteTime": {
     "end_time": "2020-03-21T18:24:11.737580Z",
     "start_time": "2020-03-21T18:24:11.676680Z"
    },
    "code_folding": [
     28,
     34,
     48,
     55,
     61,
     86,
     91,
     98,
     101,
     104
    ]
   },
   "outputs": [],
   "source": [
    "class BaseModel():\n",
    "    def __init__(self, drop_out=0.15):\n",
    "        self.init_basic_params(drop_out)\n",
    "        \n",
    "        self.compile()\n",
    "        \n",
    "        self.tf_writer.add_graph(self.session.graph)\n",
    "    \n",
    "    def rand_str(self, str_len=20):\n",
    "        return ''.join(random.choices(string.ascii_uppercase + string.digits, k=str_len))\n",
    "    \n",
    "    def init_basic_params(self, drop_out):\n",
    "        tf.reset_default_graph()\n",
    "        self.logs_path = './tf_board/' + self.__class__.__name__\n",
    "        self.var_scope = self.rand_str()\n",
    "        self.print_separator = '-' * 65\n",
    "        self.session = None\n",
    "        self.dropout_rate_tf = tf.placeholder(tf.float32)\n",
    "        self.dropout_rate_tf_cnn = tf.placeholder(tf.float32)\n",
    "        \n",
    "        self.input_size = [WIDTH, HEIGHT, CHANNELS]\n",
    "        self.output_size = OUTPUT\n",
    "        \n",
    "        self.dropout_rate = drop_out\n",
    "        self.dropout_rate_cnn = 0.0\n",
    "        \n",
    "        self.start_learning_rate = 0.01\n",
    "        \n",
    "        self.tf_writer = tf.summary.FileWriter(self.logs_path)\n",
    "    \n",
    "    def __del__(self): \n",
    "        print('object del')\n",
    "        if self.session:\n",
    "            tf.reset_default_graph()\n",
    "            self.session.close()\n",
    "    \n",
    "    def reset_internal_params(self):\n",
    "        self.hidden_layers = {}\n",
    "        self.hidden_layers_W = {}\n",
    "        self.hidden_layers_b = {}\n",
    "        self.history = {\n",
    "            'acc_train': [],\n",
    "            'acc_valid': [],\n",
    "            'loss_train': [],\n",
    "            'loss_valid': []\n",
    "        }\n",
    "        \n",
    "        self.global_step = tf.Variable(0, trainable=False)\n",
    "        self.decay_steps = tf.Variable(100000, trainable=False)\n",
    "    \n",
    "    def get_W(self, layer_id, shape):\n",
    "        #with tf.variable_scope(self.var_scope, reuse=tf.AUTO_REUSE):\n",
    "        #W = tf.Variable(tf.truncated_normal(shape, stddev=0.1, mean=0), name=f'W_{layer_id}')\n",
    "        initializer = tf.contrib.layers.variance_scaling_initializer()\n",
    "        W = tf.Variable(initializer(shape), name=f'W_{layer_id}')\n",
    "        self.hidden_layers_W[layer_id] = W\n",
    "\n",
    "        return self.hidden_layers_W[layer_id]\n",
    "\n",
    "    def get_b(self, layer_id, shape):\n",
    "        #with tf.variable_scope(self.var_scope, reuse=tf.AUTO_REUSE):\n",
    "        self.hidden_layers_b[layer_id] = tf.Variable(tf.zeros(shape), name=f'b_{layer_id}')\n",
    "        \n",
    "        return self.hidden_layers_b[layer_id]\n",
    "        \n",
    "    def get_dense_layer(self, layer_id, prev_layer, units_count, activ=tf.nn.relu):\n",
    "        input_size = prev_layer.get_shape().as_list()[1]\n",
    "        \n",
    "        W = self.get_W(layer_id, [input_size, units_count])\n",
    "        b = self.get_b(layer_id, [units_count])\n",
    "        \n",
    "        layer = tf.matmul(prev_layer, W) + b\n",
    "        \n",
    "        if activ:\n",
    "            layer = activ(layer, name=f'Lay_Dense_{layer_id}')\n",
    "        \n",
    "        return layer\n",
    "    \n",
    "    def get_conv2_layer(self, layer_id, prev_layer, kernel_size, output_channels, strides=1, padding='SAME', activ=tf.nn.relu):\n",
    "        input_channels = prev_layer.get_shape().as_list()[3]\n",
    "        \n",
    "        # 5x5 conv, 1 input, 32 outputs\n",
    "        # [filter_height, filter_width, in_channels, out_channels]\n",
    "        filter_shape = [kernel_size[0], kernel_size[1], input_channels, output_channels]\n",
    "\n",
    "        W = self.get_W(layer_id, filter_shape)\n",
    "        b = self.get_b(layer_id, [output_channels])\n",
    "        \n",
    "        layer = tf.nn.conv2d(prev_layer, W, [1, strides, strides, 1], padding) + b\n",
    "        \n",
    "        if activ:\n",
    "            layer = activ(layer, name=f'Lay_Conv2d_{layer_id}')  \n",
    "        \n",
    "        return layer\n",
    "    \n",
    "    def flatten(self, input):\n",
    "        shape = input.get_shape().as_list()\n",
    "        shape = np.array(shape)\n",
    "        size = shape[shape != None].prod()\n",
    "        \n",
    "        return tf.reshape(input, [-1, size], name='Flatten')\n",
    "    \n",
    "    def batch_norm(self, input):\n",
    "        #return tf.contrib.layers.batch_norm(input, fused=True, data_format='NCHW')\n",
    "        return tf.contrib.layers.batch_norm(input)\n",
    "    \n",
    "    def get_max_pooling(self, layer_id, input, ksize, stride=1, padding='SAME'):\n",
    "        return tf.nn.max_pool(input, [1, ksize, ksize, 1], [1, stride, stride, 1], padding, name=f'max_pool_{layer_id}')\n",
    "\n",
    "    def get_avg_pooling(self, layer_id, input, ksize, stride=1, padding='SAME'):\n",
    "        return tf.nn.avg_pool(input, [1, ksize, ksize, 1], [1, stride, stride, 1], padding, name=f'avg_pool_{layer_id}')\n",
    "    \n",
    "    def pre_compile():\n",
    "        print('precompile')\n",
    "    \n",
    "    def next_batch(self, x, y, batch_size, iteration):\n",
    "        start = iteration * batch_size\n",
    "        end = (iteration + 1) * batch_size\n",
    "        \n",
    "        return x[start:end], y[start:end]\n",
    "    \n",
    "    def l2_reg(self, loss_rate=0.01):\n",
    "        reg_sum = 0\n",
    "        for key in self.hidden_layers_W:\n",
    "            reg_sum += tf.nn.l2_loss(self.hidden_layers_W[key])\n",
    "        \n",
    "        return loss_rate * reg_sum\n",
    "    \n",
    "    def compile(self):\n",
    "        \n",
    "        self.lr = tf.placeholder(tf.float32, shape=[])\n",
    "        \n",
    "        self.pre_compile()\n",
    "        \n",
    "        self.prediction_proba = tf.nn.softmax(self.layer_output, name='Output')\n",
    "        self.prediction = tf.round(self.prediction_proba)\n",
    "        \n",
    "        #self.accuracy = tf.reduce_mean(\n",
    "        #    tf.cast(\n",
    "        #        tf.equal(tf.argmax(self.prediction, 1), tf.argmax(self.expected_output, 1)),\n",
    "        #        tf.float32,\n",
    "        #    ),\n",
    "        #    name='Accuracy'\n",
    "        #)\n",
    "        \n",
    "        self.accuracy = tf.reduce_mean(\n",
    "            tf.cast(\n",
    "                tf.equal(tf.argmax(self.prediction, 1), tf.argmax(self.expected_output, 1)),\n",
    "                tf.float32\n",
    "            ),\n",
    "            name='Accuracy'\n",
    "        )\n",
    "                \n",
    "        self.session = tf.Session()\n",
    "        self.vars = tf.global_variables_initializer()\n",
    "        self.session.run(tf.global_variables_initializer())\n",
    "    \n",
    "    def fit_gen(self, train_gen, valid_gen=None, epochs=1):\n",
    "        \n",
    "        fit_start = timer()\n",
    "        \n",
    "        iterations = train_gen.__len__()\n",
    "        batch_size = train_gen.batch_size\n",
    "            \n",
    "        print(self.print_separator)\n",
    "        print(f'Epochs: {epochs}\\t| Iterations: {iterations}\\t| Batch: {batch_size}')\n",
    "        print(self.print_separator)\n",
    "        \n",
    "        for epoch in range(epochs):\n",
    "            \n",
    "            start = timer()\n",
    "            loss_train = 0\n",
    "            acc_train = 0\n",
    "            \n",
    "            with trange(iterations) as t:\n",
    "                for iteration in t:\n",
    "                    x_batch, y_batch = train_gen.__getitem__(iteration)\n",
    "                    \n",
    "                    #loss_container = []\n",
    "                    #acc_container = []\n",
    "                    \n",
    "                    feed_data = { \n",
    "                        self.input: x_batch, \n",
    "                        self.expected_output: y_batch.reshape([-1, self.output_size]),\n",
    "                        self.dropout_rate_tf: self.dropout_rate,\n",
    "                        self.dropout_rate_tf_cnn: self.dropout_rate_cnn\n",
    "                    }\n",
    "\n",
    "                    self.session.run(self.optimizer, feed_dict=feed_data)\n",
    "\n",
    "\n",
    "                    feed_data_metrics = { \n",
    "                        self.input: x_batch, \n",
    "                        self.expected_output: y_batch.reshape([-1, self.output_size]),\n",
    "                        self.dropout_rate_tf: 0,\n",
    "                        self.dropout_rate_tf_cnn: 0\n",
    "                    }\n",
    "\n",
    "                    loss, acc = self.session.run([self.loss, self.accuracy], feed_dict=feed_data_metrics)\n",
    "\n",
    "                    #loss_container.append(loss)\n",
    "                    #acc_container.append(acc)\n",
    "                    \n",
    "                    loss_train += loss / iterations\n",
    "                    acc_train += acc / iterations\n",
    "                    #loss_train = np.mean(loss_container)\n",
    "                    #acc_train = np.mean(acc_container)\n",
    "                    \n",
    "                    t.set_description(f'Epoch: {epoch + 1}')\n",
    "\n",
    "                    t.set_postfix(loss=f'{loss_train:.5f}', acc=f'{acc_train:.02%}')\n",
    "\n",
    "                    #if iteration % 20 == 0 and iteration > 0:\n",
    "                    #    print(f'iteration: {iteration}')\n",
    "                \n",
    "\n",
    "            #loss_train, acc_train = self.evaluate_gen(train_gen)\n",
    "        \n",
    "            self.history['loss_train'].append(loss_train)            \n",
    "            self.history['acc_train'].append(acc_train)\n",
    "            \n",
    "            \n",
    "            if valid_gen != None:\n",
    "                loss_valid, acc_valid = self.evaluate_gen(valid_gen)\n",
    "        \n",
    "                self.history['loss_valid'].append(loss_valid)\n",
    "                self.history['acc_valid'].append(acc_valid)\n",
    "            \n",
    "            end = timer()\n",
    "            \n",
    "            epoch_time = end - start\n",
    "            \n",
    "            if valid_gen != None:\n",
    "                print(f'Epoch {epoch + 1}: ({epoch_time:.5f} s) \\t loss - Tr[{loss_train:.5f}] Va[{loss_valid:.5f}] \\t acc - Tr[{acc_train:.02%}] Va[{acc_valid:.02%}]')\n",
    "            else:\n",
    "                print(f'Epoch {epoch + 1}: ({epoch_time:.5f} s) \\t loss - Tr[{loss_train:.5f}] \\t acc - Tr[{acc_train:.02%}]')\n",
    "                \n",
    "            print(self.print_separator)\n",
    "        \n",
    "        fit_end = timer()\n",
    "        \n",
    "        epoch_time = fit_end - fit_start\n",
    "        print(f'Finished in: {epoch_time:.4f} s')\n",
    "        \n",
    "    def evaluate_gen(self, eval_gen):\n",
    "        loss = 0\n",
    "        acc = 0\n",
    "\n",
    "        iterations = eval_gen.__len__()\n",
    "        \n",
    "        for iteration in range(iterations):\n",
    "            x_batch, y_batch = eval_gen.__getitem__(iteration)\n",
    "            feed_data = { \n",
    "                    self.input: x_batch, \n",
    "                    self.expected_output: y_batch.reshape([-1, self.output_size]),\n",
    "                    self.dropout_rate_tf: 0,\n",
    "                    self.dropout_rate_tf_cnn: 0\n",
    "                }\n",
    "                \n",
    "            batch_loss, batch_acc = self.session.run([self.loss, self.accuracy], feed_dict=feed_data)\n",
    "            \n",
    "            acc += batch_acc / iterations\n",
    "            loss += batch_loss / iterations\n",
    "                \n",
    "        return loss, acc \n",
    "    \n",
    "    def evaluate(self, x=None, y=None):\n",
    "        feed_data = { self.input: x, self.expected_output: y, self.dropout_rate_tf: 0, self.dropout_rate_tf_cnn: 0}\n",
    "        return self.session.run([self.loss, self.accuracy], feed_dict=feed_data)\n",
    "    \n",
    "    def predict(self, x, batch_size=None):\n",
    "        if batch_size is None:\n",
    "            feed_data = { self.input: x, self.dropout_rate_tf: 0}\n",
    "            return self.session.run(self.prediction, feed_dict=feed_data)\n",
    "        \n",
    "        \n",
    "\n",
    "    def predict_proba(self, x, batch_size=None):\n",
    "        if batch_size is None:\n",
    "            feed_data = { self.input: x, self.dropout_rate_tf: 0, self.dropout_rate_tf_cnn: 0}\n",
    "            return self.session.run(self.prediction_proba, feed_dict=feed_data)\n",
    "        \n",
    "        output = []\n",
    "        \n",
    "        iterations = math.ceil(len(x) / batch_size)\n",
    "        for iteration in range(iterations):\n",
    "            x_batch, _ = self.next_batch(x, x, batch_size, iteration)\n",
    "            feed_data = { self.input: x_batch, self.dropout_rate_tf: 0, self.dropout_rate_tf_cnn: 0}\n",
    "            result = self.session.run(self.prediction_proba, feed_dict=feed_data)\n",
    "            output.append(result)\n",
    "        \n",
    "        return np.vstack(output)\n",
    "    "
   ]
  },
  {
   "cell_type": "code",
   "execution_count": 220,
   "metadata": {
    "ExecuteTime": {
     "end_time": "2020-03-21T18:24:20.409199Z",
     "start_time": "2020-03-21T18:24:20.391840Z"
    }
   },
   "outputs": [],
   "source": [
    "class Model1(BaseModel):\n",
    "    def __init__(self, drop_out=0.15):\n",
    "        BaseModel.__init__(self, drop_out)\n",
    "\n",
    "    def init_basic_params(self, drop_out):\n",
    "        super().init_basic_params(drop_out)\n",
    "        \n",
    "        self.start_learning_rate = 0.001\n",
    "        \n",
    "    def pre_compile(self):\n",
    "        self.reset_internal_params()\n",
    "\n",
    "        self.input = tf.placeholder(tf.float32, shape=[None, *self.input_size], name=\"Input\")\n",
    "        self.expected_output = tf.placeholder(tf.float32, shape=[None, self.output_size], name=\"Y_actual\")\n",
    "   \n",
    "        out = self.get_conv2_layer(1, self.input, [4, 4], 32)\n",
    "        out = self.batch_norm(out)\n",
    "        out = self.get_max_pooling(2, out, 2, stride=2)\n",
    "        out = tf.nn.dropout(out, rate=self.dropout_rate_tf_cnn)\n",
    "    \n",
    "        out = self.get_conv2_layer(3, out, [4, 4], 64)\n",
    "        out = self.batch_norm(out)\n",
    "        out = self.get_max_pooling(4, out, 2, stride=2)\n",
    "        out = tf.nn.dropout(out, rate=self.dropout_rate_tf_cnn)\n",
    "        \n",
    "        \n",
    "        out = self.get_conv2_layer(7, out, [4, 4], 128)\n",
    "        out = self.batch_norm(out)\n",
    "        out = self.get_max_pooling(8, out, 2, stride=2)\n",
    "        \n",
    "        #out = tf.nn.dropout(out, rate=self.dropout_rate_tf_cnn)\n",
    "        \n",
    "        #out = self.get_conv2_layer(9, out, [1, 1], 256)\n",
    "        \n",
    "        #out = tf.nn.dropout(out, rate=self.dropout_rate_tf_cnn)\n",
    "        #out = self.get_conv2_layer(7, out, [5, 5], 256)\n",
    "        #out = self.batch_norm(out)\n",
    "        #out = self.get_max_pooling(8, out, 2, stride=2)\n",
    "        \n",
    "        #out = tf.nn.dropout(out, rate=self.dropout_rate_tf_cnn)\n",
    "        #out = self.get_conv2_layer(9, out, [1, 1], 512)\n",
    "\n",
    "        out = self.flatten(out)\n",
    "        \n",
    "        #out = tf.nn.dropout(out, rate=self.dropout_rate_tf)\n",
    "\n",
    "        out = self.get_dense_layer(10, out, 128)\n",
    "        \n",
    "        out = tf.nn.dropout(out, rate=self.dropout_rate_tf)\n",
    "\n",
    "        out = self.get_dense_layer(11, out, 128)\n",
    "        \n",
    "        out = tf.nn.dropout(out, rate=self.dropout_rate_tf)\n",
    "        \n",
    "        out = self.get_dense_layer(12, out, self.output_size, activ=None)\n",
    "\n",
    "        self.layer_output = out\n",
    "        \n",
    "        self.loss = tf.reduce_mean(\n",
    "            tf.nn.softmax_cross_entropy_with_logits_v2(labels=self.expected_output, logits=self.layer_output),\n",
    "            name='Loss'\n",
    "        ) #+ self.l2_reg(loss_rate=0.001)\n",
    "        \n",
    "        #self.optimizer = tf.train.RMSPropOptimizer(self.start_learning_rate).minimize(self.loss, global_step=self.global_step)\n",
    "        self.optimizer = tf.train.AdamOptimizer(self.start_learning_rate).minimize(self.loss, global_step=self.global_step)"
   ]
  },
  {
   "cell_type": "code",
   "execution_count": 317,
   "metadata": {
    "ExecuteTime": {
     "end_time": "2020-03-21T19:34:36.674421Z",
     "start_time": "2020-03-21T19:34:36.671378Z"
    }
   },
   "outputs": [],
   "source": [
    "BATCH_SIZE=64\n",
    "VALID_BATCH_SIZE=512\n",
    "EPOCH=30\n",
    "TR_LAERN_EPOCH = 15"
   ]
  },
  {
   "cell_type": "code",
   "execution_count": 318,
   "metadata": {
    "ExecuteTime": {
     "end_time": "2020-03-21T19:34:39.051182Z",
     "start_time": "2020-03-21T19:34:38.968567Z"
    }
   },
   "outputs": [],
   "source": [
    "o_data_gen = ImageDataGenerator(rescale=1.0/255.0)\n",
    "\n",
    "o_train_gen = o_data_gen.flow(x=train_x, y=train_y, batch_size=BATCH_SIZE, shuffle=True)\n",
    "o_valid_gen = o_data_gen.flow(x=valid_x, y=valid_y, batch_size=VALID_BATCH_SIZE, shuffle=True)\n",
    "o_test_gen = o_data_gen.flow(x=test_x, y=test_y, batch_size=VALID_BATCH_SIZE, shuffle=True)\n"
   ]
  },
  {
   "cell_type": "code",
   "execution_count": 319,
   "metadata": {
    "ExecuteTime": {
     "end_time": "2020-03-21T19:34:39.342743Z",
     "start_time": "2020-03-21T19:34:39.339773Z"
    }
   },
   "outputs": [],
   "source": [
    "def print_test(title, model):\n",
    "    orig_test_loss, orig_test_acc = model.evaluate_gen(o_test_gen)\n",
    "\n",
    "    print(f'{title}: loss - {orig_test_loss:.4f}\\t Acc - {orig_test_acc:.02%}')"
   ]
  },
  {
   "cell_type": "code",
   "execution_count": 320,
   "metadata": {
    "ExecuteTime": {
     "end_time": "2020-03-21T19:34:41.510026Z",
     "start_time": "2020-03-21T19:34:39.694688Z"
    }
   },
   "outputs": [
    {
     "data": {
      "image/png": "[encoded data removed]",
      "text/plain": [
       "<Figure size 1008x288 with 14 Axes>"
      ]
     },
     "metadata": {
      "needs_background": "light"
     },
     "output_type": "display_data"
    }
   ],
   "source": [
    "plt.figure(figsize=(14, 4))\n",
    "for i in range(0, 14):\n",
    "    plt.subplot(2, 7, i+1)\n",
    "    for X_batch, Y_batch in o_train_gen:\n",
    "        image = X_batch[0]\n",
    "        plt.imshow(image.reshape(28, 28), cmap='gray')\n",
    "        break\n",
    "plt.tight_layout()\n",
    "plt.show()"
   ]
  },
  {
   "cell_type": "code",
   "execution_count": 321,
   "metadata": {
    "ExecuteTime": {
     "end_time": "2020-03-21T20:13:56.653724Z",
     "start_time": "2020-03-21T19:34:41.512042Z"
    },
    "scrolled": false
   },
   "outputs": [
    {
     "name": "stdout",
     "output_type": "stream",
     "text": [
      "WARNING: Entity <bound method BatchNormalization.call of <tensorflow.python.layers.normalization.BatchNormalization object at 0x2433bc390>> could not be transformed and will be executed as-is. Please report this to the AutgoGraph team. When filing the bug, set the verbosity to 10 (on Linux, `export AUTOGRAPH_VERBOSITY=10`) and attach the full output. Cause: converting <bound method BatchNormalization.call of <tensorflow.python.layers.normalization.BatchNormalization object at 0x2433bc390>>: AssertionError: Bad argument number for Name: 3, expecting 4\n",
      "WARNING: Entity <bound method BatchNormalization.call of <tensorflow.python.layers.normalization.BatchNormalization object at 0x2209eaad0>> could not be transformed and will be executed as-is. Please report this to the AutgoGraph team. When filing the bug, set the verbosity to 10 (on Linux, `export AUTOGRAPH_VERBOSITY=10`) and attach the full output. Cause: converting <bound method BatchNormalization.call of <tensorflow.python.layers.normalization.BatchNormalization object at 0x2209eaad0>>: AssertionError: Bad argument number for Name: 3, expecting 4\n",
      "WARNING: Entity <bound method BatchNormalization.call of <tensorflow.python.layers.normalization.BatchNormalization object at 0x24344e0d0>> could not be transformed and will be executed as-is. Please report this to the AutgoGraph team. When filing the bug, set the verbosity to 10 (on Linux, `export AUTOGRAPH_VERBOSITY=10`) and attach the full output. Cause: converting <bound method BatchNormalization.call of <tensorflow.python.layers.normalization.BatchNormalization object at 0x24344e0d0>>: AssertionError: Bad argument number for Name: 3, expecting 4\n"
     ]
    },
    {
     "name": "stderr",
     "output_type": "stream",
     "text": [
      "\r",
      "  0%|          | 0/364 [00:00<?, ?it/s]"
     ]
    },
    {
     "name": "stdout",
     "output_type": "stream",
     "text": [
      "object del\n",
      "-----------------------------------------------------------------\n",
      "Epochs: 30\t| Iterations: 364\t| Batch: 64\n",
      "-----------------------------------------------------------------\n"
     ]
    },
    {
     "name": "stderr",
     "output_type": "stream",
     "text": [
      "Epoch: 1: 100%|██████████| 364/364 [01:15<00:00,  4.79it/s, acc=6.89%, loss=2.80019]\n",
      "  0%|          | 0/364 [00:00<?, ?it/s]"
     ]
    },
    {
     "name": "stdout",
     "output_type": "stream",
     "text": [
      "Epoch 1: (79.41480 s) \t loss - Tr[2.80019] Va[2.45577] \t acc - Tr[6.89%] Va[10.95%]\n",
      "-----------------------------------------------------------------\n"
     ]
    },
    {
     "name": "stderr",
     "output_type": "stream",
     "text": [
      "Epoch: 2: 100%|██████████| 364/364 [01:15<00:00,  4.80it/s, acc=12.51%, loss=2.21843]\n",
      "  0%|          | 0/364 [00:00<?, ?it/s]"
     ]
    },
    {
     "name": "stdout",
     "output_type": "stream",
     "text": [
      "Epoch 2: (79.48065 s) \t loss - Tr[2.21843] Va[1.99013] \t acc - Tr[12.51%] Va[13.23%]\n",
      "-----------------------------------------------------------------\n"
     ]
    },
    {
     "name": "stderr",
     "output_type": "stream",
     "text": [
      "Epoch: 3: 100%|██████████| 364/364 [01:14<00:00,  4.88it/s, acc=17.84%, loss=1.88720]\n",
      "  0%|          | 0/364 [00:00<?, ?it/s]"
     ]
    },
    {
     "name": "stdout",
     "output_type": "stream",
     "text": [
      "Epoch 3: (78.22236 s) \t loss - Tr[1.88720] Va[1.66704] \t acc - Tr[17.84%] Va[26.32%]\n",
      "-----------------------------------------------------------------\n"
     ]
    },
    {
     "name": "stderr",
     "output_type": "stream",
     "text": [
      "Epoch: 4: 100%|██████████| 364/364 [01:14<00:00,  4.89it/s, acc=31.80%, loss=1.48580]\n",
      "  0%|          | 0/364 [00:00<?, ?it/s]"
     ]
    },
    {
     "name": "stdout",
     "output_type": "stream",
     "text": [
      "Epoch 4: (77.88566 s) \t loss - Tr[1.48580] Va[1.32597] \t acc - Tr[31.80%] Va[35.12%]\n",
      "-----------------------------------------------------------------\n"
     ]
    },
    {
     "name": "stderr",
     "output_type": "stream",
     "text": [
      "Epoch: 5: 100%|██████████| 364/364 [01:14<00:00,  4.87it/s, acc=39.07%, loss=1.12156]\n",
      "  0%|          | 0/364 [00:00<?, ?it/s]"
     ]
    },
    {
     "name": "stdout",
     "output_type": "stream",
     "text": [
      "Epoch 5: (78.13804 s) \t loss - Tr[1.12156] Va[0.90560] \t acc - Tr[39.07%] Va[44.47%]\n",
      "-----------------------------------------------------------------\n"
     ]
    },
    {
     "name": "stderr",
     "output_type": "stream",
     "text": [
      "Epoch: 6: 100%|██████████| 364/364 [01:18<00:00,  4.64it/s, acc=48.50%, loss=0.81973]\n",
      "  0%|          | 0/364 [00:00<?, ?it/s]"
     ]
    },
    {
     "name": "stdout",
     "output_type": "stream",
     "text": [
      "Epoch 6: (81.71772 s) \t loss - Tr[0.81973] Va[0.75797] \t acc - Tr[48.50%] Va[52.21%]\n",
      "-----------------------------------------------------------------\n"
     ]
    },
    {
     "name": "stderr",
     "output_type": "stream",
     "text": [
      "Epoch: 7: 100%|██████████| 364/364 [01:14<00:00,  4.91it/s, acc=59.01%, loss=0.66107]\n",
      "  0%|          | 0/364 [00:00<?, ?it/s]"
     ]
    },
    {
     "name": "stdout",
     "output_type": "stream",
     "text": [
      "Epoch 7: (77.52533 s) \t loss - Tr[0.66107] Va[0.58201] \t acc - Tr[59.01%] Va[67.36%]\n",
      "-----------------------------------------------------------------\n"
     ]
    },
    {
     "name": "stderr",
     "output_type": "stream",
     "text": [
      "Epoch: 8: 100%|██████████| 364/364 [01:14<00:00,  4.90it/s, acc=71.54%, loss=0.52299]\n",
      "  0%|          | 0/364 [00:00<?, ?it/s]"
     ]
    },
    {
     "name": "stdout",
     "output_type": "stream",
     "text": [
      "Epoch 8: (77.54517 s) \t loss - Tr[0.52299] Va[0.47248] \t acc - Tr[71.54%] Va[79.57%]\n",
      "-----------------------------------------------------------------\n"
     ]
    },
    {
     "name": "stderr",
     "output_type": "stream",
     "text": [
      "Epoch: 9: 100%|██████████| 364/364 [01:15<00:00,  4.83it/s, acc=80.46%, loss=0.43896]\n",
      "  0%|          | 0/364 [00:00<?, ?it/s]"
     ]
    },
    {
     "name": "stdout",
     "output_type": "stream",
     "text": [
      "Epoch 9: (78.83923 s) \t loss - Tr[0.43896] Va[0.39141] \t acc - Tr[80.46%] Va[83.83%]\n",
      "-----------------------------------------------------------------\n"
     ]
    },
    {
     "name": "stderr",
     "output_type": "stream",
     "text": [
      "Epoch: 10: 100%|██████████| 364/364 [01:21<00:00,  4.49it/s, acc=83.78%, loss=0.38208]\n",
      "  0%|          | 0/364 [00:00<?, ?it/s]"
     ]
    },
    {
     "name": "stdout",
     "output_type": "stream",
     "text": [
      "Epoch 10: (84.78435 s) \t loss - Tr[0.38208] Va[0.39900] \t acc - Tr[83.78%] Va[81.94%]\n",
      "-----------------------------------------------------------------\n"
     ]
    },
    {
     "name": "stderr",
     "output_type": "stream",
     "text": [
      "Epoch: 11: 100%|██████████| 364/364 [01:19<00:00,  4.60it/s, acc=85.25%, loss=0.34365]\n",
      "  0%|          | 0/364 [00:00<?, ?it/s]"
     ]
    },
    {
     "name": "stdout",
     "output_type": "stream",
     "text": [
      "Epoch 11: (82.75257 s) \t loss - Tr[0.34365] Va[0.35993] \t acc - Tr[85.25%] Va[83.57%]\n",
      "-----------------------------------------------------------------\n"
     ]
    },
    {
     "name": "stderr",
     "output_type": "stream",
     "text": [
      "Epoch: 12: 100%|██████████| 364/364 [01:16<00:00,  4.73it/s, acc=85.86%, loss=0.31728]\n",
      "  0%|          | 0/364 [00:00<?, ?it/s]"
     ]
    },
    {
     "name": "stdout",
     "output_type": "stream",
     "text": [
      "Epoch 12: (80.77545 s) \t loss - Tr[0.31728] Va[0.31163] \t acc - Tr[85.86%] Va[86.37%]\n",
      "-----------------------------------------------------------------\n"
     ]
    },
    {
     "name": "stderr",
     "output_type": "stream",
     "text": [
      "Epoch: 13: 100%|██████████| 364/364 [01:20<00:00,  4.50it/s, acc=86.12%, loss=0.30360]\n",
      "  0%|          | 0/364 [00:00<?, ?it/s]"
     ]
    },
    {
     "name": "stdout",
     "output_type": "stream",
     "text": [
      "Epoch 13: (84.65780 s) \t loss - Tr[0.30360] Va[0.30074] \t acc - Tr[86.12%] Va[86.21%]\n",
      "-----------------------------------------------------------------\n"
     ]
    },
    {
     "name": "stderr",
     "output_type": "stream",
     "text": [
      "Epoch: 14: 100%|██████████| 364/364 [01:19<00:00,  4.60it/s, acc=86.45%, loss=0.28284]\n",
      "  0%|          | 0/364 [00:00<?, ?it/s]"
     ]
    },
    {
     "name": "stdout",
     "output_type": "stream",
     "text": [
      "Epoch 14: (82.82241 s) \t loss - Tr[0.28284] Va[0.28324] \t acc - Tr[86.45%] Va[86.56%]\n",
      "-----------------------------------------------------------------\n"
     ]
    },
    {
     "name": "stderr",
     "output_type": "stream",
     "text": [
      "Epoch: 15: 100%|██████████| 364/364 [01:19<00:00,  4.59it/s, acc=86.67%, loss=0.27032]\n",
      "  0%|          | 0/364 [00:00<?, ?it/s]"
     ]
    },
    {
     "name": "stdout",
     "output_type": "stream",
     "text": [
      "Epoch 15: (83.20263 s) \t loss - Tr[0.27032] Va[0.26929] \t acc - Tr[86.67%] Va[86.54%]\n",
      "-----------------------------------------------------------------\n"
     ]
    },
    {
     "name": "stderr",
     "output_type": "stream",
     "text": [
      "Epoch: 16: 100%|██████████| 364/364 [01:14<00:00,  4.87it/s, acc=86.76%, loss=0.25754]\n",
      "Epoch: 17:   0%|          | 1/364 [00:00<01:09,  5.24it/s, acc=0.21%, loss=0.00110]"
     ]
    },
    {
     "name": "stdout",
     "output_type": "stream",
     "text": [
      "Epoch 16: (77.97211 s) \t loss - Tr[0.25754] Va[0.25077] \t acc - Tr[86.76%] Va[87.15%]\n",
      "-----------------------------------------------------------------\n"
     ]
    },
    {
     "name": "stderr",
     "output_type": "stream",
     "text": [
      "Epoch: 17: 100%|██████████| 364/364 [01:12<00:00,  5.04it/s, acc=86.80%, loss=0.25143]\n",
      "  0%|          | 0/364 [00:00<?, ?it/s]"
     ]
    },
    {
     "name": "stdout",
     "output_type": "stream",
     "text": [
      "Epoch 17: (75.32632 s) \t loss - Tr[0.25143] Va[0.27677] \t acc - Tr[86.80%] Va[85.55%]\n",
      "-----------------------------------------------------------------\n"
     ]
    },
    {
     "name": "stderr",
     "output_type": "stream",
     "text": [
      "Epoch: 18: 100%|██████████| 364/364 [01:12<00:00,  5.04it/s, acc=87.07%, loss=0.24165]\n",
      "Epoch: 19:   0%|          | 0/364 [00:00<?, ?it/s]"
     ]
    },
    {
     "name": "stdout",
     "output_type": "stream",
     "text": [
      "Epoch 18: (75.39854 s) \t loss - Tr[0.24165] Va[0.23924] \t acc - Tr[87.07%] Va[87.12%]\n",
      "-----------------------------------------------------------------\n"
     ]
    },
    {
     "name": "stderr",
     "output_type": "stream",
     "text": [
      "Epoch: 19: 100%|██████████| 364/364 [01:12<00:00,  5.04it/s, acc=87.10%, loss=0.23577]\n",
      "Epoch: 20:   0%|          | 1/364 [00:00<01:11,  5.07it/s, acc=0.21%, loss=0.00101]"
     ]
    },
    {
     "name": "stdout",
     "output_type": "stream",
     "text": [
      "Epoch 19: (75.52922 s) \t loss - Tr[0.23577] Va[0.22499] \t acc - Tr[87.10%] Va[87.41%]\n",
      "-----------------------------------------------------------------\n"
     ]
    },
    {
     "name": "stderr",
     "output_type": "stream",
     "text": [
      "Epoch: 20: 100%|██████████| 364/364 [01:11<00:00,  5.07it/s, acc=87.25%, loss=0.22825]\n",
      "Epoch: 21:   0%|          | 1/364 [00:00<01:08,  5.32it/s, acc=0.21%, loss=0.00103]"
     ]
    },
    {
     "name": "stdout",
     "output_type": "stream",
     "text": [
      "Epoch 20: (74.95047 s) \t loss - Tr[0.22825] Va[0.23121] \t acc - Tr[87.25%] Va[87.21%]\n",
      "-----------------------------------------------------------------\n"
     ]
    },
    {
     "name": "stderr",
     "output_type": "stream",
     "text": [
      "Epoch: 21: 100%|██████████| 364/364 [01:15<00:00,  4.80it/s, acc=87.15%, loss=0.22907]\n",
      "  0%|          | 0/364 [00:00<?, ?it/s]"
     ]
    },
    {
     "name": "stdout",
     "output_type": "stream",
     "text": [
      "Epoch 21: (79.18384 s) \t loss - Tr[0.22907] Va[0.22900] \t acc - Tr[87.15%] Va[87.25%]\n",
      "-----------------------------------------------------------------\n"
     ]
    },
    {
     "name": "stderr",
     "output_type": "stream",
     "text": [
      "Epoch: 22: 100%|██████████| 364/364 [01:12<00:00,  5.05it/s, acc=87.18%, loss=0.22173]\n",
      "Epoch: 23:   0%|          | 0/364 [00:00<?, ?it/s]"
     ]
    },
    {
     "name": "stdout",
     "output_type": "stream",
     "text": [
      "Epoch 22: (75.37014 s) \t loss - Tr[0.22173] Va[0.21351] \t acc - Tr[87.18%] Va[87.43%]\n",
      "-----------------------------------------------------------------\n"
     ]
    },
    {
     "name": "stderr",
     "output_type": "stream",
     "text": [
      "Epoch: 23: 100%|██████████| 364/364 [01:12<00:00,  5.00it/s, acc=87.33%, loss=0.21196]\n",
      "Epoch: 24:   0%|          | 0/364 [00:00<?, ?it/s]"
     ]
    },
    {
     "name": "stdout",
     "output_type": "stream",
     "text": [
      "Epoch 23: (76.05602 s) \t loss - Tr[0.21196] Va[0.20915] \t acc - Tr[87.33%] Va[87.39%]\n",
      "-----------------------------------------------------------------\n"
     ]
    },
    {
     "name": "stderr",
     "output_type": "stream",
     "text": [
      "Epoch: 24: 100%|██████████| 364/364 [01:12<00:00,  4.99it/s, acc=87.26%, loss=0.20637]\n",
      "  0%|          | 0/364 [00:00<?, ?it/s]"
     ]
    },
    {
     "name": "stdout",
     "output_type": "stream",
     "text": [
      "Epoch 24: (76.25598 s) \t loss - Tr[0.20637] Va[0.20408] \t acc - Tr[87.26%] Va[87.50%]\n",
      "-----------------------------------------------------------------\n"
     ]
    },
    {
     "name": "stderr",
     "output_type": "stream",
     "text": [
      "Epoch: 25: 100%|██████████| 364/364 [01:14<00:00,  4.88it/s, acc=87.26%, loss=0.20571]\n",
      "Epoch: 26:   0%|          | 0/364 [00:00<?, ?it/s]"
     ]
    },
    {
     "name": "stdout",
     "output_type": "stream",
     "text": [
      "Epoch 25: (77.84959 s) \t loss - Tr[0.20571] Va[0.20229] \t acc - Tr[87.26%] Va[87.44%]\n",
      "-----------------------------------------------------------------\n"
     ]
    },
    {
     "name": "stderr",
     "output_type": "stream",
     "text": [
      "Epoch: 26: 100%|██████████| 364/364 [01:12<00:00,  5.00it/s, acc=87.25%, loss=0.20926]\n",
      "  0%|          | 0/364 [00:00<?, ?it/s]"
     ]
    },
    {
     "name": "stdout",
     "output_type": "stream",
     "text": [
      "Epoch 26: (76.18086 s) \t loss - Tr[0.20926] Va[0.21120] \t acc - Tr[87.25%] Va[87.32%]\n",
      "-----------------------------------------------------------------\n"
     ]
    },
    {
     "name": "stderr",
     "output_type": "stream",
     "text": [
      "Epoch: 27: 100%|██████████| 364/364 [01:12<00:00,  5.02it/s, acc=87.40%, loss=0.19925]\n",
      "Epoch: 28:   0%|          | 1/364 [00:00<01:09,  5.25it/s, acc=0.21%, loss=0.00090]"
     ]
    },
    {
     "name": "stdout",
     "output_type": "stream",
     "text": [
      "Epoch 27: (75.72524 s) \t loss - Tr[0.19925] Va[0.20070] \t acc - Tr[87.40%] Va[87.39%]\n",
      "-----------------------------------------------------------------\n"
     ]
    },
    {
     "name": "stderr",
     "output_type": "stream",
     "text": [
      "Epoch: 28: 100%|██████████| 364/364 [01:12<00:00,  4.99it/s, acc=87.33%, loss=0.19731]\n",
      "Epoch: 29:   0%|          | 0/364 [00:00<?, ?it/s]"
     ]
    },
    {
     "name": "stdout",
     "output_type": "stream",
     "text": [
      "Epoch 28: (76.26804 s) \t loss - Tr[0.19731] Va[0.19870] \t acc - Tr[87.33%] Va[87.53%]\n",
      "-----------------------------------------------------------------\n"
     ]
    },
    {
     "name": "stderr",
     "output_type": "stream",
     "text": [
      "Epoch: 29: 100%|██████████| 364/364 [01:15<00:00,  4.84it/s, acc=87.37%, loss=0.19494]\n",
      "Epoch: 30:   0%|          | 0/364 [00:00<?, ?it/s]"
     ]
    },
    {
     "name": "stdout",
     "output_type": "stream",
     "text": [
      "Epoch 29: (78.42532 s) \t loss - Tr[0.19494] Va[0.19564] \t acc - Tr[87.37%] Va[87.49%]\n",
      "-----------------------------------------------------------------\n"
     ]
    },
    {
     "name": "stderr",
     "output_type": "stream",
     "text": [
      "Epoch: 30: 100%|██████████| 364/364 [01:12<00:00,  5.00it/s, acc=87.24%, loss=0.19659]\n"
     ]
    },
    {
     "name": "stdout",
     "output_type": "stream",
     "text": [
      "Epoch 30: (76.10498 s) \t loss - Tr[0.19659] Va[0.22985] \t acc - Tr[87.24%] Va[85.71%]\n",
      "-----------------------------------------------------------------\n",
      "Finished in: 2354.3659 s\n"
     ]
    }
   ],
   "source": [
    "orig_model_1 = Model1(drop_out=0.5)\n",
    "orig_model_1.fit_gen(o_train_gen, o_valid_gen, epochs=EPOCH)"
   ]
  },
  {
   "cell_type": "code",
   "execution_count": 322,
   "metadata": {
    "ExecuteTime": {
     "end_time": "2020-03-21T20:13:59.752601Z",
     "start_time": "2020-03-21T20:13:56.656332Z"
    }
   },
   "outputs": [
    {
     "name": "stdout",
     "output_type": "stream",
     "text": [
      "Original model: loss - 0.3744\t Acc - 81.55%\n"
     ]
    }
   ],
   "source": [
    "print_test('Original model', orig_model_1)"
   ]
  },
  {
   "cell_type": "code",
   "execution_count": 323,
   "metadata": {
    "ExecuteTime": {
     "end_time": "2020-03-21T20:14:00.055713Z",
     "start_time": "2020-03-21T20:13:59.754935Z"
    }
   },
   "outputs": [
    {
     "data": {
      "image/png": "[encoded data removed]",
      "text/plain": [
       "<Figure size 576x288 with 1 Axes>"
      ]
     },
     "metadata": {
      "needs_background": "light"
     },
     "output_type": "display_data"
    }
   ],
   "source": [
    "plot_curves(f'First model - Accuracy', [orig_model_1.history['acc_train'], orig_model_1.history['acc_valid']], 'Accuracy', 'Epoch', ['Train', 'Valid'])\n"
   ]
  },
  {
   "cell_type": "code",
   "execution_count": 324,
   "metadata": {
    "ExecuteTime": {
     "end_time": "2020-03-21T20:14:00.336574Z",
     "start_time": "2020-03-21T20:14:00.057823Z"
    }
   },
   "outputs": [
    {
     "data": {
      "image/png": "[encoded data removed]",
      "text/plain": [
       "<Figure size 576x288 with 1 Axes>"
      ]
     },
     "metadata": {
      "needs_background": "light"
     },
     "output_type": "display_data"
    }
   ],
   "source": [
    "plot_curves(f'First model - Loss', [orig_model_1.history['loss_train'], orig_model_1.history['loss_valid']], 'Loss', 'Epoch', ['Train', 'Valid'])\n"
   ]
  },
  {
   "cell_type": "markdown",
   "metadata": {
    "ExecuteTime": {
     "end_time": "2020-03-14T23:09:20.585011Z",
     "start_time": "2020-03-14T23:09:18.906422Z"
    }
   },
   "source": [
    "# dat augmentation"
   ]
  },
  {
   "cell_type": "code",
   "execution_count": 325,
   "metadata": {
    "ExecuteTime": {
     "end_time": "2020-03-21T20:14:00.412340Z",
     "start_time": "2020-03-21T20:14:00.338750Z"
    }
   },
   "outputs": [],
   "source": [
    "aug_data_gen = ImageDataGenerator(\n",
    "    rescale=1.0/255.0,\n",
    "    rotation_range=40,\n",
    "    width_shift_range=0.2,\n",
    "    height_shift_range=0.2,\n",
    "    zoom_range=0.2,\n",
    "    horizontal_flip=True,\n",
    ")\n",
    "\n",
    "aug_train_gen = aug_data_gen.flow(x=train_x, y=train_y, batch_size=BATCH_SIZE, shuffle=True)\n"
   ]
  },
  {
   "cell_type": "code",
   "execution_count": 326,
   "metadata": {
    "ExecuteTime": {
     "end_time": "2020-03-21T20:14:02.540719Z",
     "start_time": "2020-03-21T20:14:00.414316Z"
    }
   },
   "outputs": [
    {
     "data": {
      "image/png": "[encoded data removed]",
      "text/plain": [
       "<Figure size 1008x288 with 14 Axes>"
      ]
     },
     "metadata": {
      "needs_background": "light"
     },
     "output_type": "display_data"
    }
   ],
   "source": [
    "plt.figure(figsize=(14, 4))\n",
    "for i in range(0, 14):\n",
    "    plt.subplot(2, 7, i+1)\n",
    "    X_batch, Y_batch = aug_train_gen.__getitem__(i)\n",
    "    image = X_batch[0]\n",
    "    plt.imshow(image.reshape(28,28), cmap='gray')\n",
    "    \n",
    "plt.tight_layout()\n",
    "plt.show()"
   ]
  },
  {
   "cell_type": "code",
   "execution_count": 327,
   "metadata": {
    "ExecuteTime": {
     "end_time": "2020-03-21T20:14:04.375372Z",
     "start_time": "2020-03-21T20:14:02.543887Z"
    }
   },
   "outputs": [
    {
     "data": {
      "image/png": "[encoded data removed]",
      "text/plain": [
       "<Figure size 1008x288 with 14 Axes>"
      ]
     },
     "metadata": {
      "needs_background": "light"
     },
     "output_type": "display_data"
    }
   ],
   "source": [
    "plt.figure(figsize=(14, 4))\n",
    "for i in range(0, 14):\n",
    "    plt.subplot(2, 7, i+1)\n",
    "    X_batch, Y_batch = aug_train_gen.__getitem__(i)\n",
    "    image = X_batch[0]\n",
    "    plt.imshow(image.reshape(28,28), cmap='gray')\n",
    "    \n",
    "plt.tight_layout()\n",
    "plt.show()"
   ]
  },
  {
   "cell_type": "code",
   "execution_count": 328,
   "metadata": {
    "ExecuteTime": {
     "end_time": "2020-03-21T20:51:07.717268Z",
     "start_time": "2020-03-21T20:14:04.377588Z"
    },
    "scrolled": false
   },
   "outputs": [
    {
     "name": "stdout",
     "output_type": "stream",
     "text": [
      "WARNING: Entity <bound method BatchNormalization.call of <tensorflow.python.layers.normalization.BatchNormalization object at 0x246f80a10>> could not be transformed and will be executed as-is. Please report this to the AutgoGraph team. When filing the bug, set the verbosity to 10 (on Linux, `export AUTOGRAPH_VERBOSITY=10`) and attach the full output. Cause: converting <bound method BatchNormalization.call of <tensorflow.python.layers.normalization.BatchNormalization object at 0x246f80a10>>: AssertionError: Bad argument number for Name: 3, expecting 4\n",
      "WARNING: Entity <bound method BatchNormalization.call of <tensorflow.python.layers.normalization.BatchNormalization object at 0x247192290>> could not be transformed and will be executed as-is. Please report this to the AutgoGraph team. When filing the bug, set the verbosity to 10 (on Linux, `export AUTOGRAPH_VERBOSITY=10`) and attach the full output. Cause: converting <bound method BatchNormalization.call of <tensorflow.python.layers.normalization.BatchNormalization object at 0x247192290>>: AssertionError: Bad argument number for Name: 3, expecting 4\n",
      "WARNING: Entity <bound method BatchNormalization.call of <tensorflow.python.layers.normalization.BatchNormalization object at 0x246f322d0>> could not be transformed and will be executed as-is. Please report this to the AutgoGraph team. When filing the bug, set the verbosity to 10 (on Linux, `export AUTOGRAPH_VERBOSITY=10`) and attach the full output. Cause: converting <bound method BatchNormalization.call of <tensorflow.python.layers.normalization.BatchNormalization object at 0x246f322d0>>: AssertionError: Bad argument number for Name: 3, expecting 4\n"
     ]
    },
    {
     "name": "stderr",
     "output_type": "stream",
     "text": [
      "\r",
      "  0%|          | 0/364 [00:00<?, ?it/s]"
     ]
    },
    {
     "name": "stdout",
     "output_type": "stream",
     "text": [
      "object del\n",
      "-----------------------------------------------------------------\n",
      "Epochs: 30\t| Iterations: 364\t| Batch: 64\n",
      "-----------------------------------------------------------------\n"
     ]
    },
    {
     "name": "stderr",
     "output_type": "stream",
     "text": [
      "Epoch: 1: 100%|██████████| 364/364 [01:19<00:00,  4.57it/s, acc=4.17%, loss=3.17909]\n",
      "  0%|          | 0/364 [00:00<?, ?it/s]"
     ]
    },
    {
     "name": "stdout",
     "output_type": "stream",
     "text": [
      "Epoch 1: (82.84536 s) \t loss - Tr[3.17909] Va[3.17802] \t acc - Tr[4.17%] Va[4.01%]\n",
      "-----------------------------------------------------------------\n"
     ]
    },
    {
     "name": "stderr",
     "output_type": "stream",
     "text": [
      "Epoch: 2: 100%|██████████| 364/364 [01:19<00:00,  4.57it/s, acc=4.17%, loss=3.17818]\n",
      "  0%|          | 0/364 [00:00<?, ?it/s]"
     ]
    },
    {
     "name": "stdout",
     "output_type": "stream",
     "text": [
      "Epoch 2: (82.95340 s) \t loss - Tr[3.17818] Va[3.17806] \t acc - Tr[4.17%] Va[4.01%]\n",
      "-----------------------------------------------------------------\n"
     ]
    },
    {
     "name": "stderr",
     "output_type": "stream",
     "text": [
      "Epoch: 3: 100%|██████████| 364/364 [01:19<00:00,  4.60it/s, acc=4.17%, loss=3.17825]\n",
      "  0%|          | 0/364 [00:00<?, ?it/s]"
     ]
    },
    {
     "name": "stdout",
     "output_type": "stream",
     "text": [
      "Epoch 3: (82.42188 s) \t loss - Tr[3.17825] Va[3.17806] \t acc - Tr[4.17%] Va[4.01%]\n",
      "-----------------------------------------------------------------\n"
     ]
    },
    {
     "name": "stderr",
     "output_type": "stream",
     "text": [
      "Epoch: 4: 100%|██████████| 364/364 [01:19<00:00,  4.58it/s, acc=4.17%, loss=3.17812]\n",
      "  0%|          | 0/364 [00:00<?, ?it/s]"
     ]
    },
    {
     "name": "stdout",
     "output_type": "stream",
     "text": [
      "Epoch 4: (82.78624 s) \t loss - Tr[3.17812] Va[3.17807] \t acc - Tr[4.17%] Va[4.01%]\n",
      "-----------------------------------------------------------------\n"
     ]
    },
    {
     "name": "stderr",
     "output_type": "stream",
     "text": [
      "Epoch: 5: 100%|██████████| 364/364 [01:18<00:00,  4.61it/s, acc=4.17%, loss=3.17827]\n",
      "  0%|          | 0/364 [00:00<?, ?it/s]"
     ]
    },
    {
     "name": "stdout",
     "output_type": "stream",
     "text": [
      "Epoch 5: (82.10299 s) \t loss - Tr[3.17827] Va[3.17807] \t acc - Tr[4.17%] Va[4.01%]\n",
      "-----------------------------------------------------------------\n"
     ]
    },
    {
     "name": "stderr",
     "output_type": "stream",
     "text": [
      "Epoch: 6: 100%|██████████| 364/364 [01:21<00:00,  4.47it/s, acc=4.17%, loss=3.17828]\n",
      "  0%|          | 0/364 [00:00<?, ?it/s]"
     ]
    },
    {
     "name": "stdout",
     "output_type": "stream",
     "text": [
      "Epoch 6: (85.28303 s) \t loss - Tr[3.17828] Va[3.17807] \t acc - Tr[4.17%] Va[4.01%]\n",
      "-----------------------------------------------------------------\n"
     ]
    },
    {
     "name": "stderr",
     "output_type": "stream",
     "text": [
      "Epoch: 7: 100%|██████████| 364/364 [01:19<00:00,  4.59it/s, acc=4.17%, loss=3.17828]\n",
      "  0%|          | 0/364 [00:00<?, ?it/s]"
     ]
    },
    {
     "name": "stdout",
     "output_type": "stream",
     "text": [
      "Epoch 7: (82.50509 s) \t loss - Tr[3.17828] Va[3.17807] \t acc - Tr[4.17%] Va[4.01%]\n",
      "-----------------------------------------------------------------\n"
     ]
    },
    {
     "name": "stderr",
     "output_type": "stream",
     "text": [
      "Epoch: 8: 100%|██████████| 364/364 [01:19<00:00,  4.59it/s, acc=4.17%, loss=3.17827]\n",
      "  0%|          | 0/364 [00:00<?, ?it/s]"
     ]
    },
    {
     "name": "stdout",
     "output_type": "stream",
     "text": [
      "Epoch 8: (82.49366 s) \t loss - Tr[3.17827] Va[3.17808] \t acc - Tr[4.17%] Va[4.01%]\n",
      "-----------------------------------------------------------------\n"
     ]
    },
    {
     "name": "stderr",
     "output_type": "stream",
     "text": [
      "Epoch: 9: 100%|██████████| 364/364 [01:19<00:00,  4.58it/s, acc=4.17%, loss=3.17828]\n",
      "  0%|          | 0/364 [00:00<?, ?it/s]"
     ]
    },
    {
     "name": "stdout",
     "output_type": "stream",
     "text": [
      "Epoch 9: (82.74896 s) \t loss - Tr[3.17828] Va[3.17807] \t acc - Tr[4.17%] Va[4.01%]\n",
      "-----------------------------------------------------------------\n"
     ]
    },
    {
     "name": "stderr",
     "output_type": "stream",
     "text": [
      "Epoch: 10: 100%|██████████| 364/364 [01:18<00:00,  4.61it/s, acc=4.17%, loss=3.17827]\n",
      "  0%|          | 0/364 [00:00<?, ?it/s]"
     ]
    },
    {
     "name": "stdout",
     "output_type": "stream",
     "text": [
      "Epoch 10: (82.16025 s) \t loss - Tr[3.17827] Va[3.17807] \t acc - Tr[4.17%] Va[4.01%]\n",
      "-----------------------------------------------------------------\n"
     ]
    },
    {
     "name": "stderr",
     "output_type": "stream",
     "text": [
      "Epoch: 11: 100%|██████████| 364/364 [01:19<00:00,  4.59it/s, acc=4.17%, loss=3.17827]\n",
      "  0%|          | 0/364 [00:00<?, ?it/s]"
     ]
    },
    {
     "name": "stdout",
     "output_type": "stream",
     "text": [
      "Epoch 11: (82.48239 s) \t loss - Tr[3.17827] Va[3.17807] \t acc - Tr[4.17%] Va[4.01%]\n",
      "-----------------------------------------------------------------\n"
     ]
    },
    {
     "name": "stderr",
     "output_type": "stream",
     "text": [
      "Epoch: 12: 100%|██████████| 364/364 [01:19<00:00,  4.60it/s, acc=4.17%, loss=3.17827]\n",
      "  0%|          | 0/364 [00:00<?, ?it/s]"
     ]
    },
    {
     "name": "stdout",
     "output_type": "stream",
     "text": [
      "Epoch 12: (82.46260 s) \t loss - Tr[3.17827] Va[3.17807] \t acc - Tr[4.17%] Va[4.01%]\n",
      "-----------------------------------------------------------------\n"
     ]
    },
    {
     "name": "stderr",
     "output_type": "stream",
     "text": [
      "Epoch: 13: 100%|██████████| 364/364 [01:19<00:00,  4.61it/s, acc=4.17%, loss=3.17827]\n",
      "  0%|          | 0/364 [00:00<?, ?it/s]"
     ]
    },
    {
     "name": "stdout",
     "output_type": "stream",
     "text": [
      "Epoch 13: (82.35193 s) \t loss - Tr[3.17827] Va[3.17807] \t acc - Tr[4.17%] Va[4.01%]\n",
      "-----------------------------------------------------------------\n"
     ]
    },
    {
     "name": "stderr",
     "output_type": "stream",
     "text": [
      "Epoch: 14: 100%|██████████| 364/364 [01:18<00:00,  4.62it/s, acc=4.17%, loss=3.17827]\n",
      "  0%|          | 0/364 [00:00<?, ?it/s]"
     ]
    },
    {
     "name": "stdout",
     "output_type": "stream",
     "text": [
      "Epoch 14: (82.07580 s) \t loss - Tr[3.17827] Va[3.17807] \t acc - Tr[4.17%] Va[4.01%]\n",
      "-----------------------------------------------------------------\n"
     ]
    },
    {
     "name": "stderr",
     "output_type": "stream",
     "text": [
      "Epoch: 15: 100%|██████████| 364/364 [01:19<00:00,  4.56it/s, acc=4.17%, loss=3.17827]\n",
      "  0%|          | 0/364 [00:00<?, ?it/s]"
     ]
    },
    {
     "name": "stdout",
     "output_type": "stream",
     "text": [
      "Epoch 15: (83.01693 s) \t loss - Tr[3.17827] Va[3.17807] \t acc - Tr[4.17%] Va[4.01%]\n",
      "-----------------------------------------------------------------\n"
     ]
    },
    {
     "name": "stderr",
     "output_type": "stream",
     "text": [
      "Epoch: 16: 100%|██████████| 364/364 [01:19<00:00,  4.58it/s, acc=4.17%, loss=3.17827]\n",
      "Epoch: 17:   0%|          | 1/364 [00:00<01:11,  5.05it/s, acc=0.01%, loss=0.00873]"
     ]
    },
    {
     "name": "stdout",
     "output_type": "stream",
     "text": [
      "Epoch 16: (82.82612 s) \t loss - Tr[3.17827] Va[3.17807] \t acc - Tr[4.17%] Va[4.01%]\n",
      "-----------------------------------------------------------------\n"
     ]
    },
    {
     "name": "stderr",
     "output_type": "stream",
     "text": [
      "Epoch: 17: 100%|██████████| 364/364 [01:10<00:00,  5.16it/s, acc=4.17%, loss=3.17827]\n",
      "Epoch: 18:   0%|          | 1/364 [00:00<01:07,  5.42it/s, acc=0.01%, loss=0.00873]"
     ]
    },
    {
     "name": "stdout",
     "output_type": "stream",
     "text": [
      "Epoch 17: (73.71064 s) \t loss - Tr[3.17827] Va[3.17807] \t acc - Tr[4.17%] Va[4.01%]\n",
      "-----------------------------------------------------------------\n"
     ]
    },
    {
     "name": "stderr",
     "output_type": "stream",
     "text": [
      "Epoch: 18: 100%|██████████| 364/364 [01:09<00:00,  5.24it/s, acc=4.17%, loss=3.17827]\n",
      "Epoch: 19:   0%|          | 1/364 [00:00<01:05,  5.52it/s, acc=0.01%, loss=0.00873]"
     ]
    },
    {
     "name": "stdout",
     "output_type": "stream",
     "text": [
      "Epoch 18: (72.52914 s) \t loss - Tr[3.17827] Va[3.17807] \t acc - Tr[4.17%] Va[4.01%]\n",
      "-----------------------------------------------------------------\n"
     ]
    },
    {
     "name": "stderr",
     "output_type": "stream",
     "text": [
      "Epoch: 19: 100%|██████████| 364/364 [01:08<00:00,  5.29it/s, acc=4.17%, loss=3.17952]\n",
      "Epoch: 20:   0%|          | 1/364 [00:00<01:06,  5.45it/s, acc=0.01%, loss=0.00873]"
     ]
    },
    {
     "name": "stdout",
     "output_type": "stream",
     "text": [
      "Epoch 19: (71.84036 s) \t loss - Tr[3.17952] Va[3.17806] \t acc - Tr[4.17%] Va[4.01%]\n",
      "-----------------------------------------------------------------\n"
     ]
    },
    {
     "name": "stderr",
     "output_type": "stream",
     "text": [
      "Epoch: 20: 100%|██████████| 364/364 [01:08<00:00,  5.30it/s, acc=4.17%, loss=3.17812]\n",
      "Epoch: 21:   0%|          | 1/364 [00:00<01:10,  5.13it/s, acc=0.01%, loss=0.00873]"
     ]
    },
    {
     "name": "stdout",
     "output_type": "stream",
     "text": [
      "Epoch 20: (71.71104 s) \t loss - Tr[3.17812] Va[3.17809] \t acc - Tr[4.17%] Va[4.01%]\n",
      "-----------------------------------------------------------------\n"
     ]
    },
    {
     "name": "stderr",
     "output_type": "stream",
     "text": [
      "Epoch: 21: 100%|██████████| 364/364 [01:13<00:00,  4.96it/s, acc=4.17%, loss=3.17828]\n",
      "  0%|          | 0/364 [00:00<?, ?it/s]"
     ]
    },
    {
     "name": "stdout",
     "output_type": "stream",
     "text": [
      "Epoch 21: (76.84342 s) \t loss - Tr[3.17828] Va[3.17808] \t acc - Tr[4.17%] Va[4.01%]\n",
      "-----------------------------------------------------------------\n"
     ]
    },
    {
     "name": "stderr",
     "output_type": "stream",
     "text": [
      "Epoch: 22: 100%|██████████| 364/364 [01:09<00:00,  5.25it/s, acc=4.17%, loss=3.17796]\n",
      "Epoch: 23:   0%|          | 1/364 [00:00<01:07,  5.41it/s, acc=0.01%, loss=0.00873]"
     ]
    },
    {
     "name": "stdout",
     "output_type": "stream",
     "text": [
      "Epoch 22: (72.32183 s) \t loss - Tr[3.17796] Va[3.17808] \t acc - Tr[4.17%] Va[4.01%]\n",
      "-----------------------------------------------------------------\n"
     ]
    },
    {
     "name": "stderr",
     "output_type": "stream",
     "text": [
      "Epoch: 23: 100%|██████████| 364/364 [01:08<00:00,  5.30it/s, acc=4.17%, loss=3.17828]\n",
      "Epoch: 24:   0%|          | 1/364 [00:00<01:06,  5.47it/s, acc=0.01%, loss=0.00873]"
     ]
    },
    {
     "name": "stdout",
     "output_type": "stream",
     "text": [
      "Epoch 23: (71.73722 s) \t loss - Tr[3.17828] Va[3.17808] \t acc - Tr[4.17%] Va[4.01%]\n",
      "-----------------------------------------------------------------\n"
     ]
    },
    {
     "name": "stderr",
     "output_type": "stream",
     "text": [
      "Epoch: 24: 100%|██████████| 364/364 [01:08<00:00,  5.34it/s, acc=4.17%, loss=3.17827]\n",
      "Epoch: 25:   0%|          | 1/364 [00:00<01:05,  5.58it/s, acc=0.01%, loss=0.00873]"
     ]
    },
    {
     "name": "stdout",
     "output_type": "stream",
     "text": [
      "Epoch 24: (71.31717 s) \t loss - Tr[3.17827] Va[3.17807] \t acc - Tr[4.17%] Va[4.01%]\n",
      "-----------------------------------------------------------------\n"
     ]
    },
    {
     "name": "stderr",
     "output_type": "stream",
     "text": [
      "Epoch: 25: 100%|██████████| 364/364 [01:11<00:00,  5.09it/s, acc=4.17%, loss=3.17827]\n",
      "  0%|          | 0/364 [00:00<?, ?it/s]"
     ]
    },
    {
     "name": "stdout",
     "output_type": "stream",
     "text": [
      "Epoch 25: (75.21633 s) \t loss - Tr[3.17827] Va[3.17807] \t acc - Tr[4.17%] Va[4.01%]\n",
      "-----------------------------------------------------------------\n"
     ]
    },
    {
     "name": "stderr",
     "output_type": "stream",
     "text": [
      "Epoch: 26: 100%|██████████| 364/364 [01:17<00:00,  4.71it/s, acc=4.17%, loss=3.17827]\n",
      "Epoch: 27:   0%|          | 0/364 [00:00<?, ?it/s]"
     ]
    },
    {
     "name": "stdout",
     "output_type": "stream",
     "text": [
      "Epoch 26: (80.77842 s) \t loss - Tr[3.17827] Va[3.17807] \t acc - Tr[4.17%] Va[4.01%]\n",
      "-----------------------------------------------------------------\n"
     ]
    },
    {
     "name": "stderr",
     "output_type": "stream",
     "text": [
      "Epoch: 27: 100%|██████████| 364/364 [01:10<00:00,  5.16it/s, acc=4.17%, loss=3.17827]\n",
      "Epoch: 28:   0%|          | 1/364 [00:00<01:02,  5.82it/s, acc=0.01%, loss=0.00873]"
     ]
    },
    {
     "name": "stdout",
     "output_type": "stream",
     "text": [
      "Epoch 27: (73.63806 s) \t loss - Tr[3.17827] Va[3.17807] \t acc - Tr[4.17%] Va[4.01%]\n",
      "-----------------------------------------------------------------\n"
     ]
    },
    {
     "name": "stderr",
     "output_type": "stream",
     "text": [
      "Epoch: 28:  97%|█████████▋| 354/364 [01:26<00:02,  4.08it/s, acc=4.09%, loss=3.09094]\n"
     ]
    },
    {
     "ename": "KeyboardInterrupt",
     "evalue": "",
     "output_type": "error",
     "traceback": [
      "\u001b[0;31m---------------------------------------------------------------------------\u001b[0m",
      "\u001b[0;31mKeyboardInterrupt\u001b[0m                         Traceback (most recent call last)",
      "\u001b[0;32m<ipython-input-328-20a88b9e635f>\u001b[0m in \u001b[0;36m<module>\u001b[0;34m\u001b[0m\n\u001b[1;32m      1\u001b[0m \u001b[0maug_model_1\u001b[0m \u001b[0;34m=\u001b[0m \u001b[0mModel1\u001b[0m\u001b[0;34m(\u001b[0m\u001b[0mdrop_out\u001b[0m\u001b[0;34m=\u001b[0m\u001b[0;36m0.5\u001b[0m\u001b[0;34m)\u001b[0m\u001b[0;34m\u001b[0m\u001b[0;34m\u001b[0m\u001b[0m\n\u001b[0;32m----> 2\u001b[0;31m \u001b[0maug_model_1\u001b[0m\u001b[0;34m.\u001b[0m\u001b[0mfit_gen\u001b[0m\u001b[0;34m(\u001b[0m\u001b[0maug_train_gen\u001b[0m\u001b[0;34m,\u001b[0m \u001b[0mo_valid_gen\u001b[0m\u001b[0;34m,\u001b[0m \u001b[0mepochs\u001b[0m\u001b[0;34m=\u001b[0m\u001b[0mEPOCH\u001b[0m\u001b[0;34m)\u001b[0m\u001b[0;34m\u001b[0m\u001b[0;34m\u001b[0m\u001b[0m\n\u001b[0m",
      "\u001b[0;32m<ipython-input-219-f832fd2979e5>\u001b[0m in \u001b[0;36mfit_gen\u001b[0;34m(self, train_gen, valid_gen, epochs)\u001b[0m\n\u001b[1;32m    187\u001b[0m                     }\n\u001b[1;32m    188\u001b[0m \u001b[0;34m\u001b[0m\u001b[0m\n\u001b[0;32m--> 189\u001b[0;31m                     \u001b[0mself\u001b[0m\u001b[0;34m.\u001b[0m\u001b[0msession\u001b[0m\u001b[0;34m.\u001b[0m\u001b[0mrun\u001b[0m\u001b[0;34m(\u001b[0m\u001b[0mself\u001b[0m\u001b[0;34m.\u001b[0m\u001b[0moptimizer\u001b[0m\u001b[0;34m,\u001b[0m \u001b[0mfeed_dict\u001b[0m\u001b[0;34m=\u001b[0m\u001b[0mfeed_data\u001b[0m\u001b[0;34m)\u001b[0m\u001b[0;34m\u001b[0m\u001b[0;34m\u001b[0m\u001b[0m\n\u001b[0m\u001b[1;32m    190\u001b[0m \u001b[0;34m\u001b[0m\u001b[0m\n\u001b[1;32m    191\u001b[0m \u001b[0;34m\u001b[0m\u001b[0m\n",
      "\u001b[0;32m/usr/local/lib/python3.7/site-packages/tensorflow/python/client/session.py\u001b[0m in \u001b[0;36mrun\u001b[0;34m(self, fetches, feed_dict, options, run_metadata)\u001b[0m\n\u001b[1;32m    948\u001b[0m     \u001b[0;32mtry\u001b[0m\u001b[0;34m:\u001b[0m\u001b[0;34m\u001b[0m\u001b[0;34m\u001b[0m\u001b[0m\n\u001b[1;32m    949\u001b[0m       result = self._run(None, fetches, feed_dict, options_ptr,\n\u001b[0;32m--> 950\u001b[0;31m                          run_metadata_ptr)\n\u001b[0m\u001b[1;32m    951\u001b[0m       \u001b[0;32mif\u001b[0m \u001b[0mrun_metadata\u001b[0m\u001b[0;34m:\u001b[0m\u001b[0;34m\u001b[0m\u001b[0;34m\u001b[0m\u001b[0m\n\u001b[1;32m    952\u001b[0m         \u001b[0mproto_data\u001b[0m \u001b[0;34m=\u001b[0m \u001b[0mtf_session\u001b[0m\u001b[0;34m.\u001b[0m\u001b[0mTF_GetBuffer\u001b[0m\u001b[0;34m(\u001b[0m\u001b[0mrun_metadata_ptr\u001b[0m\u001b[0;34m)\u001b[0m\u001b[0;34m\u001b[0m\u001b[0;34m\u001b[0m\u001b[0m\n",
      "\u001b[0;32m/usr/local/lib/python3.7/site-packages/tensorflow/python/client/session.py\u001b[0m in \u001b[0;36m_run\u001b[0;34m(self, handle, fetches, feed_dict, options, run_metadata)\u001b[0m\n\u001b[1;32m   1156\u001b[0m     \u001b[0;31m# Create a fetch handler to take care of the structure of fetches.\u001b[0m\u001b[0;34m\u001b[0m\u001b[0;34m\u001b[0m\u001b[0;34m\u001b[0m\u001b[0m\n\u001b[1;32m   1157\u001b[0m     fetch_handler = _FetchHandler(\n\u001b[0;32m-> 1158\u001b[0;31m         self._graph, fetches, feed_dict_tensor, feed_handles=feed_handles)\n\u001b[0m\u001b[1;32m   1159\u001b[0m \u001b[0;34m\u001b[0m\u001b[0m\n\u001b[1;32m   1160\u001b[0m     \u001b[0;31m# Run request and get response.\u001b[0m\u001b[0;34m\u001b[0m\u001b[0;34m\u001b[0m\u001b[0;34m\u001b[0m\u001b[0m\n",
      "\u001b[0;32m/usr/local/lib/python3.7/site-packages/tensorflow/python/client/session.py\u001b[0m in \u001b[0;36m__init__\u001b[0;34m(self, graph, fetches, feeds, feed_handles)\u001b[0m\n\u001b[1;32m    471\u001b[0m         \u001b[0mdirect\u001b[0m \u001b[0mfeeds\u001b[0m\u001b[0;34m.\u001b[0m\u001b[0;34m\u001b[0m\u001b[0;34m\u001b[0m\u001b[0m\n\u001b[1;32m    472\u001b[0m     \"\"\"\n\u001b[0;32m--> 473\u001b[0;31m     \u001b[0;32mwith\u001b[0m \u001b[0mgraph\u001b[0m\u001b[0;34m.\u001b[0m\u001b[0mas_default\u001b[0m\u001b[0;34m(\u001b[0m\u001b[0;34m)\u001b[0m\u001b[0;34m:\u001b[0m\u001b[0;34m\u001b[0m\u001b[0;34m\u001b[0m\u001b[0m\n\u001b[0m\u001b[1;32m    474\u001b[0m       \u001b[0mself\u001b[0m\u001b[0;34m.\u001b[0m\u001b[0m_fetch_mapper\u001b[0m \u001b[0;34m=\u001b[0m \u001b[0m_FetchMapper\u001b[0m\u001b[0;34m.\u001b[0m\u001b[0mfor_fetch\u001b[0m\u001b[0;34m(\u001b[0m\u001b[0mfetches\u001b[0m\u001b[0;34m)\u001b[0m\u001b[0;34m\u001b[0m\u001b[0;34m\u001b[0m\u001b[0m\n\u001b[1;32m    475\u001b[0m     \u001b[0mself\u001b[0m\u001b[0;34m.\u001b[0m\u001b[0m_fetches\u001b[0m \u001b[0;34m=\u001b[0m \u001b[0;34m[\u001b[0m\u001b[0;34m]\u001b[0m\u001b[0;34m\u001b[0m\u001b[0;34m\u001b[0m\u001b[0m\n",
      "\u001b[0;32m/usr/local/Cellar/python/3.7.6_1/Frameworks/Python.framework/Versions/3.7/lib/python3.7/contextlib.py\u001b[0m in \u001b[0;36m__enter__\u001b[0;34m(self)\u001b[0m\n\u001b[1;32m    110\u001b[0m         \u001b[0;32mdel\u001b[0m \u001b[0mself\u001b[0m\u001b[0;34m.\u001b[0m\u001b[0margs\u001b[0m\u001b[0;34m,\u001b[0m \u001b[0mself\u001b[0m\u001b[0;34m.\u001b[0m\u001b[0mkwds\u001b[0m\u001b[0;34m,\u001b[0m \u001b[0mself\u001b[0m\u001b[0;34m.\u001b[0m\u001b[0mfunc\u001b[0m\u001b[0;34m\u001b[0m\u001b[0;34m\u001b[0m\u001b[0m\n\u001b[1;32m    111\u001b[0m         \u001b[0;32mtry\u001b[0m\u001b[0;34m:\u001b[0m\u001b[0;34m\u001b[0m\u001b[0;34m\u001b[0m\u001b[0m\n\u001b[0;32m--> 112\u001b[0;31m             \u001b[0;32mreturn\u001b[0m \u001b[0mnext\u001b[0m\u001b[0;34m(\u001b[0m\u001b[0mself\u001b[0m\u001b[0;34m.\u001b[0m\u001b[0mgen\u001b[0m\u001b[0;34m)\u001b[0m\u001b[0;34m\u001b[0m\u001b[0;34m\u001b[0m\u001b[0m\n\u001b[0m\u001b[1;32m    113\u001b[0m         \u001b[0;32mexcept\u001b[0m \u001b[0mStopIteration\u001b[0m\u001b[0;34m:\u001b[0m\u001b[0;34m\u001b[0m\u001b[0;34m\u001b[0m\u001b[0m\n\u001b[1;32m    114\u001b[0m             \u001b[0;32mraise\u001b[0m \u001b[0mRuntimeError\u001b[0m\u001b[0;34m(\u001b[0m\u001b[0;34m\"generator didn't yield\"\u001b[0m\u001b[0;34m)\u001b[0m \u001b[0;32mfrom\u001b[0m \u001b[0;32mNone\u001b[0m\u001b[0;34m\u001b[0m\u001b[0;34m\u001b[0m\u001b[0m\n",
      "\u001b[0;32m/usr/local/lib/python3.7/site-packages/tensorflow/python/framework/ops.py\u001b[0m in \u001b[0;36mget_controller\u001b[0;34m(self, default)\u001b[0m\n\u001b[1;32m   5649\u001b[0m     \u001b[0;32mtry\u001b[0m\u001b[0;34m:\u001b[0m\u001b[0;34m\u001b[0m\u001b[0;34m\u001b[0m\u001b[0m\n\u001b[1;32m   5650\u001b[0m       with super(_DefaultGraphStack,\n\u001b[0;32m-> 5651\u001b[0;31m                  self).get_controller(default) as g, context.graph_mode():\n\u001b[0m\u001b[1;32m   5652\u001b[0m         \u001b[0;32myield\u001b[0m \u001b[0mg\u001b[0m\u001b[0;34m\u001b[0m\u001b[0;34m\u001b[0m\u001b[0m\n\u001b[1;32m   5653\u001b[0m     \u001b[0;32mfinally\u001b[0m\u001b[0;34m:\u001b[0m\u001b[0;34m\u001b[0m\u001b[0;34m\u001b[0m\u001b[0m\n",
      "\u001b[0;31mKeyboardInterrupt\u001b[0m: "
     ]
    }
   ],
   "source": [
    "aug_model_1 = Model1(drop_out=0.5)\n",
    "aug_model_1.fit_gen(aug_train_gen, o_valid_gen, epochs=EPOCH)"
   ]
  },
  {
   "cell_type": "code",
   "execution_count": null,
   "metadata": {
    "ExecuteTime": {
     "end_time": "2020-03-21T20:51:07.721388Z",
     "start_time": "2020-03-21T19:34:41.999Z"
    }
   },
   "outputs": [],
   "source": [
    "print_test('Aug model', aug_model_1)"
   ]
  },
  {
   "cell_type": "code",
   "execution_count": null,
   "metadata": {
    "ExecuteTime": {
     "end_time": "2020-03-21T20:51:07.723059Z",
     "start_time": "2020-03-21T19:34:42.087Z"
    }
   },
   "outputs": [],
   "source": [
    "plot_curves(f'Aug model - Accuracy', [aug_model_1.history['acc_train'], aug_model_1.history['acc_valid']], 'Accuracy', 'Epoch', ['Train', 'Valid'])\n"
   ]
  },
  {
   "cell_type": "code",
   "execution_count": null,
   "metadata": {
    "ExecuteTime": {
     "end_time": "2020-03-21T20:51:07.724727Z",
     "start_time": "2020-03-21T19:34:42.332Z"
    }
   },
   "outputs": [],
   "source": [
    "plot_curves(f'Aug model - Loss', [aug_model_1.history['loss_train'], aug_model_1.history['loss_valid']], 'Loss', 'Epoch', ['Train', 'Valid'])\n"
   ]
  },
  {
   "cell_type": "markdown",
   "metadata": {},
   "source": [
    "# Transfer Learning"
   ]
  },
  {
   "cell_type": "code",
   "execution_count": null,
   "metadata": {
    "ExecuteTime": {
     "end_time": "2020-03-21T20:51:07.726570Z",
     "start_time": "2020-03-21T19:34:42.602Z"
    }
   },
   "outputs": [],
   "source": [
    "import tensorflow.keras as keras\n",
    "from PIL import Image"
   ]
  },
  {
   "cell_type": "code",
   "execution_count": null,
   "metadata": {
    "ExecuteTime": {
     "end_time": "2020-03-21T20:51:07.727998Z",
     "start_time": "2020-03-21T19:34:42.924Z"
    }
   },
   "outputs": [],
   "source": [
    "def to_vgg16(data):\n",
    "    rgb_data = np.repeat(data, 3, 3)\n",
    "    padded_data = np.pad(rgb_data, ((0,0),(2,2),(2,2),(0,0)), 'constant')\n",
    "    return padded_data"
   ]
  },
  {
   "cell_type": "code",
   "execution_count": null,
   "metadata": {},
   "outputs": [],
   "source": []
  },
  {
   "cell_type": "code",
   "execution_count": null,
   "metadata": {
    "ExecuteTime": {
     "end_time": "2020-03-21T20:51:07.729171Z",
     "start_time": "2020-03-21T19:34:43.121Z"
    }
   },
   "outputs": [],
   "source": [
    "train_x_32 = to_vgg16(train_x)\n",
    "valid_x_32 = to_vgg16(valid_x)\n",
    "test_x_32 = to_vgg16(test_x)\n",
    "\n",
    "o_data_gen_3 = ImageDataGenerator(rescale=1.0/255.0,)\n",
    "\n",
    "o_train_gen_3 = o_data_gen_3.flow(x=train_x_32, y=train_y, batch_size=BATCH_SIZE, shuffle=True)\n",
    "o_valid_gen_3 = o_data_gen_3.flow(x=valid_x_32, y=valid_y, batch_size=VALID_BATCH_SIZE, shuffle=True)\n",
    "o_test_gen_3 = o_data_gen_3.flow(x=test_x_32, y=test_y, batch_size=VALID_BATCH_SIZE, shuffle=True)\n",
    "\n",
    "aug_data_gen_3 = ImageDataGenerator(\n",
    "    rescale=1.0/255.0,\n",
    "    rotation_range=40,\n",
    "    width_shift_range=0.2,\n",
    "    height_shift_range=0.2,\n",
    "    zoom_range=0.2,\n",
    "    horizontal_flip=True,\n",
    ")\n",
    "\n",
    "aug_train_gen_3 = aug_data_gen_3.flow(x=train_x_32, y=train_y, batch_size=BATCH_SIZE, shuffle=True)"
   ]
  },
  {
   "cell_type": "code",
   "execution_count": null,
   "metadata": {
    "ExecuteTime": {
     "end_time": "2020-03-21T20:51:07.730710Z",
     "start_time": "2020-03-21T19:34:43.321Z"
    }
   },
   "outputs": [],
   "source": [
    "plt.imshow(o_train_gen_3.next()[0][0])"
   ]
  },
  {
   "cell_type": "code",
   "execution_count": null,
   "metadata": {
    "ExecuteTime": {
     "end_time": "2020-03-21T20:51:07.732042Z",
     "start_time": "2020-03-21T19:34:43.856Z"
    }
   },
   "outputs": [],
   "source": [
    "def get_vgg16_model():\n",
    "    vgg16 = keras.applications.VGG16(weights='imagenet', include_top=False, input_shape=(32, 32, 3))\n",
    "    vgg16.trainable = True\n",
    "    trainable = False\n",
    "    for layer in vgg16.layers:\n",
    "        if layer.name == 'block5_conv1':\n",
    "            trainable = True\n",
    "        layer.trainable = trainable\n",
    "\n",
    "    model = keras.Sequential()\n",
    "\n",
    "    model.add(vgg16)\n",
    "    model.add(keras.layers.Flatten())\n",
    "    model.add(keras.layers.Dense(128, activation='relu'))\n",
    "    model.add(keras.layers.Dropout(0.5))\n",
    "    model.add(keras.layers.Dense(128, activation='relu'))\n",
    "    model.add(keras.layers.Dropout(0.5))\n",
    "    model.add(keras.layers.Dense(OUTPUT, activation='softmax'))\n",
    "\n",
    "    model.compile(loss='categorical_crossentropy',\n",
    "                  optimizer=keras.optimizers.Adam(lr=1e-5), \n",
    "                  metrics=['accuracy'])\n",
    "    return model"
   ]
  },
  {
   "cell_type": "code",
   "execution_count": null,
   "metadata": {
    "ExecuteTime": {
     "end_time": "2020-03-21T20:51:07.733529Z",
     "start_time": "2020-03-21T19:34:43.922Z"
    }
   },
   "outputs": [],
   "source": [
    "tr_l_model = get_vgg16_model()"
   ]
  },
  {
   "cell_type": "code",
   "execution_count": null,
   "metadata": {
    "ExecuteTime": {
     "end_time": "2020-03-21T20:51:07.734970Z",
     "start_time": "2020-03-21T19:34:43.999Z"
    }
   },
   "outputs": [],
   "source": [
    "tr_l_model.summary()"
   ]
  },
  {
   "cell_type": "code",
   "execution_count": null,
   "metadata": {
    "ExecuteTime": {
     "end_time": "2020-03-21T20:51:07.736297Z",
     "start_time": "2020-03-21T19:34:44.364Z"
    }
   },
   "outputs": [],
   "source": [
    "tr_l_model.fit_generator(\n",
    "    o_train_gen_3,\n",
    "    steps_per_epoch=len(o_train_gen_3),\n",
    "    epochs=TR_LAERN_EPOCH,\n",
    "    validation_data=o_valid_gen_3,\n",
    "    validation_steps=len(o_valid_gen_3)\n",
    ")"
   ]
  },
  {
   "cell_type": "code",
   "execution_count": null,
   "metadata": {
    "ExecuteTime": {
     "end_time": "2020-03-21T20:51:07.737726Z",
     "start_time": "2020-03-21T19:34:44.483Z"
    }
   },
   "outputs": [],
   "source": [
    "tr_l_loss, tr_l_acc = tr_l_model.evaluate_generator(o_test_gen_3, steps=len(o_test_gen_3))\n",
    "tr_l_loss, tr_l_acc"
   ]
  },
  {
   "cell_type": "code",
   "execution_count": null,
   "metadata": {
    "ExecuteTime": {
     "end_time": "2020-03-21T20:51:07.739266Z",
     "start_time": "2020-03-21T19:34:45.424Z"
    }
   },
   "outputs": [],
   "source": [
    "print(f'Transfer Learning vgg16: loss - {tr_l_loss:.4f}\\t Acc - {tr_l_acc:.02%}')"
   ]
  },
  {
   "cell_type": "code",
   "execution_count": null,
   "metadata": {
    "ExecuteTime": {
     "end_time": "2020-03-21T20:51:07.740755Z",
     "start_time": "2020-03-21T19:34:46.023Z"
    }
   },
   "outputs": [],
   "source": [
    "plot_curves(f'TR Learning model - Accuracy', [tr_l_model.history.history['acc'], tr_l_model.history.history['val_acc']], 'Accuracy', 'Epoch', ['Train', 'Valid'])\n"
   ]
  },
  {
   "cell_type": "code",
   "execution_count": null,
   "metadata": {
    "ExecuteTime": {
     "end_time": "2020-03-21T20:51:07.742739Z",
     "start_time": "2020-03-21T19:34:46.174Z"
    }
   },
   "outputs": [],
   "source": [
    "plot_curves(f'TR Learning model - Loss', [tr_l_model.history.history['loss'], tr_l_model.history.history['val_loss']], 'Loss', 'Epoch', ['Train', 'Valid'])\n"
   ]
  },
  {
   "cell_type": "code",
   "execution_count": null,
   "metadata": {},
   "outputs": [],
   "source": []
  },
  {
   "cell_type": "code",
   "execution_count": null,
   "metadata": {
    "ExecuteTime": {
     "end_time": "2020-03-21T20:51:07.744619Z",
     "start_time": "2020-03-21T19:34:47.118Z"
    }
   },
   "outputs": [],
   "source": [
    "tr_l_model_aug = get_vgg16_model()\n",
    "tr_l_model_aug.fit_generator(\n",
    "    aug_train_gen_3,\n",
    "    steps_per_epoch=len(aug_train_gen_3),\n",
    "    epochs=TR_LAERN_EPOCH,\n",
    "    validation_data=o_valid_gen_3,\n",
    "    validation_steps=len(o_valid_gen_3)\n",
    ")\n",
    "\n",
    "tr_l_loss_aug, tr_l_acc_aug = tr_l_model_aug.evaluate_generator(o_test_gen_3, steps=len(o_test_gen_3))\n",
    "tr_l_loss_aug, tr_l_acc_aug"
   ]
  },
  {
   "cell_type": "code",
   "execution_count": null,
   "metadata": {
    "ExecuteTime": {
     "end_time": "2020-03-21T20:51:07.746437Z",
     "start_time": "2020-03-21T19:34:47.274Z"
    }
   },
   "outputs": [],
   "source": [
    "print(f'Transfer Learning vgg16: loss - {tr_l_loss_aug:.4f}\\t Acc - {tr_l_acc_aug:.02%}')"
   ]
  },
  {
   "cell_type": "code",
   "execution_count": null,
   "metadata": {
    "ExecuteTime": {
     "end_time": "2020-03-21T20:51:07.747950Z",
     "start_time": "2020-03-21T19:34:47.977Z"
    }
   },
   "outputs": [],
   "source": [
    "plot_curves(f'TR Learning model (aug) - Accuracy', [tr_l_model_aug.history.history['acc'], tr_l_model_aug.history.history['val_acc']], 'Accuracy', 'Epoch', ['Train', 'Valid'])\n"
   ]
  },
  {
   "cell_type": "code",
   "execution_count": null,
   "metadata": {
    "ExecuteTime": {
     "end_time": "2020-03-21T20:51:07.749287Z",
     "start_time": "2020-03-21T19:34:48.502Z"
    }
   },
   "outputs": [],
   "source": [
    "plot_curves(f'TR Learning model (aug) - Loss', [tr_l_model_aug.history.history['loss'], tr_l_model_aug.history.history['val_loss']], 'Loss', 'Epoch', ['Train', 'Valid'])\n"
   ]
  },
  {
   "cell_type": "code",
   "execution_count": null,
   "metadata": {
    "ExecuteTime": {
     "end_time": "2020-03-21T20:51:07.750661Z",
     "start_time": "2020-03-21T19:34:48.983Z"
    }
   },
   "outputs": [],
   "source": [
    "_, aug_test_acc = aug_model_1.evaluate_gen(o_test_gen)"
   ]
  },
  {
   "cell_type": "code",
   "execution_count": null,
   "metadata": {
    "ExecuteTime": {
     "end_time": "2020-03-21T20:51:07.752113Z",
     "start_time": "2020-03-21T19:34:49.220Z"
    }
   },
   "outputs": [],
   "source": [
    "_, orig_test_acc = orig_model_1.evaluate_gen(o_test_gen)"
   ]
  },
  {
   "cell_type": "code",
   "execution_count": null,
   "metadata": {
    "ExecuteTime": {
     "end_time": "2020-03-21T20:51:07.753570Z",
     "start_time": "2020-03-21T19:34:49.720Z"
    }
   },
   "outputs": [],
   "source": [
    "labels = ['Original', 'Aug', 'VGG16_Or', 'VGG16_aug']\n",
    "test_acc = [orig_test_acc, aug_test_acc, tr_l_acc, tr_l_acc_aug]\n",
    "\n",
    "fig = plt.figure()\n",
    "ax = fig.add_axes([0,0,1,1])\n",
    "ax.bar(labels,test_acc, color=['Blue', 'Orange', 'Green'])\n",
    "plt.ylim(0.8, 0.99)\n",
    "plt.show()"
   ]
  },
  {
   "cell_type": "code",
   "execution_count": null,
   "metadata": {},
   "outputs": [],
   "source": []
  },
  {
   "cell_type": "code",
   "execution_count": null,
   "metadata": {},
   "outputs": [],
   "source": []
  }
 ],
 "metadata": {
  "kernelspec": {
   "display_name": "Python 3",
   "language": "python",
   "name": "python3"
  },
  "language_info": {
   "codemirror_mode": {
    "name": "ipython",
    "version": 3
   },
   "file_extension": ".py",
   "mimetype": "text/x-python",
   "name": "python",
   "nbconvert_exporter": "python",
   "pygments_lexer": "ipython3",
   "version": "3.7.6"
  }
 },
 "nbformat": 4,
 "nbformat_minor": 4
}
