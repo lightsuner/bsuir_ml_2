{
 "cells": [
  {
   "cell_type": "markdown",
   "metadata": {},
   "source": [
    "**Задание 1.**\n",
    "\n",
    "Реализуйте нейронную сеть с двумя сверточными слоями, и одним полносвязным с нейронами с кусочно-линейной функцией активации. Какова точность построенное модели?\n",
    "\n",
    "**Задание 2.**\n",
    "\n",
    "Замените один из сверточных слоев на слой, реализующий операцию пулинга (Pooling) с функцией максимума или среднего. Как это повлияло на точность классификатора?\n",
    "\n",
    "**Задание 3.**\n",
    "\n",
    "Реализуйте классическую архитектуру сверточных сетей LeNet-5 (http://yann.lecun.com/exdb/lenet/).\n",
    "\n",
    "**Задание 4.**\n",
    "\n",
    "Сравните максимальные точности моделей, построенных в лабораторных работах 1-3. Как можно объяснить полученные различия?\n"
   ]
  },
  {
   "cell_type": "code",
   "execution_count": 103,
   "metadata": {
    "ExecuteTime": {
     "end_time": "2020-03-09T21:49:39.252814Z",
     "start_time": "2020-03-09T21:49:39.249596Z"
    }
   },
   "outputs": [],
   "source": [
    "import warnings\n",
    "warnings.simplefilter(action='ignore', category=FutureWarning)\n",
    "warnings.simplefilter(action='ignore', category=Warning)"
   ]
  },
  {
   "cell_type": "code",
   "execution_count": 104,
   "metadata": {
    "ExecuteTime": {
     "end_time": "2020-03-09T21:49:39.761239Z",
     "start_time": "2020-03-09T21:49:39.757826Z"
    }
   },
   "outputs": [],
   "source": [
    "import numpy as np\n",
    "import tensorflow as tf\n",
    "import scipy.io\n",
    "import matplotlib.pyplot as plt\n",
    "from sklearn import preprocessing\n",
    "from sklearn.utils import resample\n",
    "from sklearn.model_selection import train_test_split\n",
    "import random\n",
    "import string"
   ]
  },
  {
   "cell_type": "code",
   "execution_count": 5,
   "metadata": {
    "ExecuteTime": {
     "end_time": "2020-03-09T20:41:34.376213Z",
     "start_time": "2020-03-09T20:41:34.371573Z"
    }
   },
   "outputs": [
    {
     "data": {
      "text/plain": [
       "'1.14.0'"
      ]
     },
     "execution_count": 5,
     "metadata": {},
     "output_type": "execute_result"
    }
   ],
   "source": [
    "tf.__version__"
   ]
  },
  {
   "cell_type": "code",
   "execution_count": 6,
   "metadata": {
    "ExecuteTime": {
     "end_time": "2020-03-09T20:41:34.380836Z",
     "start_time": "2020-03-09T20:41:34.377860Z"
    }
   },
   "outputs": [],
   "source": [
    "large_dataset_path = '../../lab_1/src/notMNIST_large_clean.mat'\n",
    "small_dataset_path = '../../lab_1/src/notMNIST_small_uniq.mat'"
   ]
  },
  {
   "cell_type": "code",
   "execution_count": 7,
   "metadata": {
    "ExecuteTime": {
     "end_time": "2020-03-09T20:41:34.392489Z",
     "start_time": "2020-03-09T20:41:34.382787Z"
    }
   },
   "outputs": [],
   "source": [
    "chars = ['A', 'B', 'C', 'D', 'E', 'F', 'G', 'H', 'I', 'J']\n",
    "def prepare_dataset(dataset, records=None):\n",
    "    data = list()\n",
    "    labels = list()\n",
    "\n",
    "    lb = preprocessing.LabelBinarizer()\n",
    "    lb.fit(chars)\n",
    "    \n",
    "    if records:\n",
    "        one = int(records / len(chars))\n",
    "        #check\n",
    "        for ch in chars:\n",
    "            ch_len = len(dataset[ch])\n",
    "            assert ch_len >= one, f'\"{ch}\" has {ch_len} items but required {one}'\n",
    "        #print(one)\n",
    "        for ch in chars:\n",
    "            indexes = np.random.choice(len(dataset[ch]), one)\n",
    "            picked_elements = dataset[ch][indexes] / 255\n",
    "            data.extend(picked_elements)\n",
    "            labels.extend(np.tile(lb.transform([ch])[0], (one, 1)))\n",
    "    else:\n",
    "        for ch in chars:\n",
    "            data.extend(dataset[ch]/255)\n",
    "            labels.extend(np.tile(lb.transform([ch])[0], (len(dataset[ch]), 1)))\n",
    "    \n",
    "    data = np.array(data)\n",
    "    labels = np.array(labels)\n",
    "    \n",
    "    return resample(data, labels)"
   ]
  },
  {
   "cell_type": "code",
   "execution_count": 8,
   "metadata": {
    "ExecuteTime": {
     "end_time": "2020-03-09T20:41:34.400412Z",
     "start_time": "2020-03-09T20:41:34.394123Z"
    }
   },
   "outputs": [],
   "source": [
    "def plot_curves(title, data, y_title, x_title='Epoch', legend=[], x_labels_offset = 0):\n",
    "    fig = plt.figure(figsize=(8, 4))\n",
    "        \n",
    "    for row in data:\n",
    "        x = range(x_labels_offset, len(row))\n",
    "        plt.plot(x, row[x_labels_offset:])\n",
    "    \n",
    "    plt.title(title)\n",
    "    plt.ylabel(y_title)\n",
    "    plt.xlabel(x_title)\n",
    "    plt.grid(True)\n",
    "    plt.legend(legend, loc='upper left')\n",
    "    plt.show()"
   ]
  },
  {
   "cell_type": "code",
   "execution_count": 9,
   "metadata": {
    "ExecuteTime": {
     "end_time": "2020-03-09T20:41:34.467825Z",
     "start_time": "2020-03-09T20:41:34.402816Z"
    }
   },
   "outputs": [
    {
     "data": {
      "text/plain": [
       "(2000, 784)"
      ]
     },
     "execution_count": 9,
     "metadata": {},
     "output_type": "execute_result"
    }
   ],
   "source": [
    "small_data = scipy.io.loadmat(small_dataset_path)\n",
    "test_X, test_y = prepare_dataset(small_data, 2000)\n",
    "test_X.shape"
   ]
  },
  {
   "cell_type": "code",
   "execution_count": 71,
   "metadata": {
    "ExecuteTime": {
     "end_time": "2020-03-09T21:36:43.915662Z",
     "start_time": "2020-03-09T21:36:43.272317Z"
    }
   },
   "outputs": [
    {
     "data": {
      "text/plain": [
       "(10000, 784)"
      ]
     },
     "execution_count": 71,
     "metadata": {},
     "output_type": "execute_result"
    }
   ],
   "source": [
    "large_data = scipy.io.loadmat(large_dataset_path)\n",
    "train_X, train_y = prepare_dataset(large_data, 10000)\n",
    "train_X.shape"
   ]
  },
  {
   "cell_type": "code",
   "execution_count": 11,
   "metadata": {
    "ExecuteTime": {
     "end_time": "2020-03-09T20:41:35.144765Z",
     "start_time": "2020-03-09T20:41:35.140262Z"
    }
   },
   "outputs": [],
   "source": [
    "def rand_str(str_len=20):\n",
    "    return ''.join(random.choices(string.ascii_uppercase + string.digits, k=str_len))"
   ]
  },
  {
   "cell_type": "code",
   "execution_count": 107,
   "metadata": {
    "ExecuteTime": {
     "end_time": "2020-03-09T21:56:40.854985Z",
     "start_time": "2020-03-09T21:56:40.819484Z"
    }
   },
   "outputs": [],
   "source": [
    "class BaseModel():\n",
    "    def __init__(self):\n",
    "        self.init_basic_params()\n",
    "        \n",
    "        self.compile()\n",
    "        \n",
    "        self.tf_writer.add_graph(self.session.graph)\n",
    "    \n",
    "    def init_basic_params(self):\n",
    "        tf.reset_default_graph()\n",
    "        self.logs_path = './tf_board/' + self.__class__.__name__\n",
    "        self.var_scope = rand_str()\n",
    "        self.print_separator = '-' * 65\n",
    "        self.session = None\n",
    "        self.dropout_rate_tf = tf.placeholder(tf.float32)\n",
    "        \n",
    "        self.input_size = 784\n",
    "        self.output_size = 10\n",
    "        \n",
    "        self.dropout_rate = 0.1\n",
    "        \n",
    "        self.start_learning_rate = 0.01\n",
    "        \n",
    "        self.tf_writer = tf.summary.FileWriter(self.logs_path)\n",
    "    \n",
    "    def __del__(self): \n",
    "        print('object del')\n",
    "        if self.session:\n",
    "            tf.reset_default_graph()\n",
    "            self.session.close()\n",
    "    \n",
    "    def reset_internal_params(self):\n",
    "        self.hidden_layers = {}\n",
    "        self.hidden_layers_W = {}\n",
    "        self.hidden_layers_b = {}\n",
    "        self.history = {\n",
    "            'acc_train': [],\n",
    "            'acc_valid': [],\n",
    "            'loss_train': [],\n",
    "            'loss_valid': []\n",
    "        }\n",
    "        \n",
    "        self.global_step = tf.Variable(0, trainable=False)\n",
    "        self.decay_steps = tf.Variable(100000, trainable=False)\n",
    "    \n",
    "    def get_W(self, layer_id, shape):\n",
    "        #with tf.variable_scope(self.var_scope, reuse=tf.AUTO_REUSE):\n",
    "        W = tf.Variable(tf.truncated_normal(shape, stddev=0.1, mean=0), name=f'W_{layer_id}')\n",
    "        self.hidden_layers_W[layer_id] = W\n",
    "\n",
    "        return self.hidden_layers_W[layer_id]\n",
    "\n",
    "    def get_b(self, layer_id, shape):\n",
    "        #with tf.variable_scope(self.var_scope, reuse=tf.AUTO_REUSE):\n",
    "        self.hidden_layers_b[layer_id] = tf.Variable(tf.zeros(shape), name=f'b_{layer_id}')\n",
    "        \n",
    "        return self.hidden_layers_b[layer_id]\n",
    "        \n",
    "    def get_dense_layer(self, layer_id, prev_layer, units_count, activ=tf.nn.relu):\n",
    "        input_size = prev_layer.get_shape().as_list()[1]\n",
    "        \n",
    "        W = self.get_W(layer_id, [input_size, units_count])\n",
    "        b = self.get_b(layer_id, [units_count])\n",
    "        \n",
    "        layer = tf.matmul(prev_layer, W) + b\n",
    "        \n",
    "        if activ:\n",
    "            layer = activ(layer, name=f'Lay_Dense_{layer_id}')\n",
    "        \n",
    "        return layer\n",
    "    \n",
    "    def get_conv2_layer(self, layer_id, prev_layer, kernel_size, output_channels, strides=1, padding='SAME', activ=tf.nn.relu):\n",
    "        input_channels = prev_layer.get_shape().as_list()[3]\n",
    "        \n",
    "        # 5x5 conv, 1 input, 32 outputs\n",
    "        # [filter_height, filter_width, in_channels, out_channels]\n",
    "        filter_shape = [kernel_size[0], kernel_size[1], input_channels, output_channels]\n",
    "\n",
    "        W = self.get_W(layer_id, filter_shape)\n",
    "        b = self.get_b(layer_id, [output_channels])\n",
    "        \n",
    "        layer = tf.nn.conv2d(prev_layer, W, [1, strides, strides, 1], padding) + b\n",
    "        \n",
    "        if activ:\n",
    "            layer = activ(layer, name=f'Lay_Conv2d_{layer_id}')  \n",
    "        \n",
    "        return layer\n",
    "    \n",
    "    def next_batch(self, x, y, batch_size, iteration):\n",
    "        start = iteration * batch_size\n",
    "        end = (iteration + 1) * batch_size\n",
    "        \n",
    "        return x[start:end], y[start:end]\n",
    "    \n",
    "    def flatten(self, input):\n",
    "        shape = input.get_shape().as_list()\n",
    "        shape = np.array(shape)\n",
    "        size = shape[shape != None].prod()\n",
    "        \n",
    "        return tf.reshape(input, [-1, size], name='Flatten')\n",
    "    \n",
    "    def get_max_pooling(self, layer_id, input, ksize, stride=1, padding='SAME'):\n",
    "        return tf.nn.max_pool(input, [1, ksize, ksize, 1], [1, stride, stride, 1], padding, name=f'max_pool_{layer_id}')\n",
    "\n",
    "    def get_avg_pooling(self, layer_id, input, ksize, stride=1, padding='SAME'):\n",
    "        return tf.nn.avg_pool(input, [1, ksize, ksize, 1], [1, stride, stride, 1], padding, name=f'avg_pool_{layer_id}')\n",
    "    \n",
    "    def pre_compile():\n",
    "        print('precompile')\n",
    "    \n",
    "    def compile(self):\n",
    "        \n",
    "        self.lr = tf.placeholder(tf.float32, shape=[])\n",
    "        \n",
    "        self.pre_compile()\n",
    "        \n",
    "        self.prediction = tf.nn.softmax(self.layer_output, name='Output')\n",
    "        self.accuracy = tf.reduce_mean(\n",
    "            tf.cast(\n",
    "                tf.equal(tf.argmax(self.prediction, 1), tf.argmax(self.expected_output, 1)),\n",
    "                tf.float32,\n",
    "            ),\n",
    "            name='Accuracy'\n",
    "        )\n",
    "                \n",
    "        self.session = tf.Session()\n",
    "        self.vars = tf.global_variables_initializer()\n",
    "        self.session.run(tf.global_variables_initializer())\n",
    "        \n",
    "    def fit(self, x=None, y=None, batch_size=64, epochs=1):\n",
    "        \n",
    "        valid_size = 0.3\n",
    "        \n",
    "        if len(y) * valid_size > 20_000:\n",
    "            valid_size = 20_000\n",
    "        \n",
    "        x_train, x_valid, y_train, y_valid = train_test_split(x, y, test_size=valid_size, random_state=50)\n",
    "        \n",
    "        print(f'Train size: {len(y_train)},\\t Valid size: {len(y_valid)}')\n",
    "        \n",
    "        iterations = int(len(y_train) / batch_size)\n",
    "        \n",
    "        display_info = int(iterations / 2)\n",
    "        \n",
    "        print(self.print_separator)\n",
    "        print(f'Epochs: {epochs}\\t| Iterations: {iterations}\\t| Batch: {batch_size}')\n",
    "        print(self.print_separator)\n",
    "        \n",
    "        self.session.run(self.decay_steps.assign(iterations))\n",
    "        \n",
    "        for epoch in range(epochs):\n",
    "            x_train_epoch, y_train_epoch = resample(x_train, y_train)\n",
    "            \n",
    "            for iteration in range(iterations):\n",
    "                x_batch, y_batch = self.next_batch(x_train_epoch, y_train_epoch, batch_size, iteration)\n",
    "\n",
    "                feed_data = { \n",
    "                    self.input: x_batch, \n",
    "                    self.expected_output: y_batch,\n",
    "                    self.dropout_rate_tf: self.dropout_rate\n",
    "                }\n",
    "                \n",
    "                self.session.run(self.optimizer, feed_dict=feed_data)\n",
    "\n",
    "            \n",
    "            feed_data_train = { self.input: x_train, self.expected_output: y_train, self.dropout_rate_tf: 0}\n",
    "            loss_train, acc_train = self.session.run([self.loss, self.accuracy], feed_dict=feed_data_train)\n",
    "            \n",
    "            # print(self.session.run([self.global_step, self.decay_steps, self.lr]))\n",
    "            \n",
    "            self.history['acc_train'].append(acc_train)\n",
    "            self.history['loss_train'].append(loss_train)\n",
    "\n",
    "            feed_data_valid = { self.input: x_valid, self.expected_output: y_valid, self.dropout_rate_tf: 0}\n",
    "            loss_valid, acc_valid = self.session.run([self.loss, self.accuracy], feed_dict=feed_data_valid)\n",
    "\n",
    "            self.history['acc_valid'].append(acc_valid)\n",
    "            self.history['loss_valid'].append(loss_valid)\n",
    "\n",
    "            print(f'Epoch {epoch + 1}: loss - Tr[{loss_train:.3f}] Va[{loss_valid:.3f}] \\t acc - Tr[{acc_train:.01%}] Va[{acc_valid:.01%}]')\n",
    "            print(self.print_separator)\n",
    "            \n",
    "    def evaluate(self, x=None, y=None):\n",
    "        feed_data = { self.input: x, self.expected_output: y, self.dropout_rate_tf: 0}\n",
    "        return self.session.run([self.loss, self.accuracy], feed_dict=feed_data)"
   ]
  },
  {
   "cell_type": "code",
   "execution_count": 108,
   "metadata": {
    "ExecuteTime": {
     "end_time": "2020-03-09T21:56:43.525119Z",
     "start_time": "2020-03-09T21:56:43.515671Z"
    }
   },
   "outputs": [],
   "source": [
    "class Model1CCD(BaseModel):\n",
    "    def __init__(self):\n",
    "        BaseModel.__init__(self)\n",
    "\n",
    "    def pre_compile(self):\n",
    "        self.reset_internal_params()\n",
    "        \n",
    "        self.input = tf.placeholder(tf.float32, shape=[None, self.input_size], name=\"Input\")\n",
    "        self.expected_output = tf.placeholder(tf.float32, shape=[None, self.output_size], name=\"Y_actual\")\n",
    "        \n",
    "        # [batch, in_height, in_width, in_channels]\n",
    "        layer_1_pre = tf.reshape(self.input, [-1, 28, 28, 1])\n",
    "        \n",
    "        layer_1 = self.get_conv2_layer(1, layer_1_pre, [4, 4], 20, strides=1)\n",
    "        \n",
    "        layer_2 = self.get_conv2_layer(2, layer_1, [4, 4], 20, strides=1)\n",
    "                    \n",
    "        layer_3_pre = self.flatten(layer_2)\n",
    "        \n",
    "        layer_3 = self.get_dense_layer(3, layer_3_pre, 120)\n",
    "        layer_3_do = tf.nn.dropout(layer_3, rate=self.dropout_rate_tf)\n",
    "        \n",
    "        self.layer_output = self.get_dense_layer(4, layer_3_do, 10, activ=None)\n",
    "        \n",
    "        self.loss = tf.reduce_mean(\n",
    "            tf.nn.softmax_cross_entropy_with_logits_v2(labels=self.expected_output, logits=self.layer_output),\n",
    "            name='Loss'\n",
    "        )\n",
    "        \n",
    "        self.lr = tf.compat.v1.train.exponential_decay(self.start_learning_rate, self.global_step, self.decay_steps, 0.96)\n",
    "        \n",
    "        self.optimizer = tf.train.GradientDescentOptimizer(self.lr).minimize(self.loss, global_step=self.global_step)\n"
   ]
  },
  {
   "cell_type": "code",
   "execution_count": 112,
   "metadata": {
    "ExecuteTime": {
     "end_time": "2020-03-09T21:57:49.733913Z",
     "start_time": "2020-03-09T21:57:49.725153Z"
    }
   },
   "outputs": [],
   "source": [
    "class Model2CPD(BaseModel):\n",
    "    def __init__(self):\n",
    "        BaseModel.__init__(self)\n",
    "\n",
    "    def pre_compile(self):\n",
    "        self.reset_internal_params()\n",
    "        \n",
    "        self.input = tf.placeholder(tf.float32, shape=[None, self.input_size], name=\"Input\")\n",
    "        self.expected_output = tf.placeholder(tf.float32, shape=[None, self.output_size], name=\"Y_actual\")\n",
    "        \n",
    "        # [batch, in_height, in_width, in_channels]\n",
    "        layer_1_pre = tf.reshape(self.input, [-1, 28, 28, 1])\n",
    "        \n",
    "        layer_1 = self.get_conv2_layer(1, layer_1_pre, [4, 4], 20, strides=2)\n",
    "        \n",
    "        layer_2 = self.get_max_pooling(2, layer_1, 3)\n",
    "                    \n",
    "        layer_3_pre = self.flatten(layer_2)\n",
    "        \n",
    "        layer_3 = self.get_dense_layer(3, layer_3_pre, 120)\n",
    "        layer_3_do = tf.nn.dropout(layer_3, rate=self.dropout_rate_tf)\n",
    "        \n",
    "        self.layer_output = self.get_dense_layer(4, layer_3_do, 10, activ=None)\n",
    "        \n",
    "        self.loss = tf.reduce_mean(\n",
    "            tf.nn.softmax_cross_entropy_with_logits_v2(labels=self.expected_output, logits=self.layer_output),\n",
    "            name='Loss'\n",
    "        )\n",
    "        \n",
    "        self.lr = tf.compat.v1.train.exponential_decay(self.start_learning_rate, self.global_step, self.decay_steps, 0.96)\n",
    "        \n",
    "        self.optimizer = tf.train.GradientDescentOptimizer(self.lr).minimize(self.loss, global_step=self.global_step)   "
   ]
  },
  {
   "cell_type": "code",
   "execution_count": 133,
   "metadata": {
    "ExecuteTime": {
     "end_time": "2020-03-09T22:05:42.463004Z",
     "start_time": "2020-03-09T22:05:42.447451Z"
    }
   },
   "outputs": [],
   "source": [
    "class LeNet5(BaseModel):\n",
    "    def __init__(self):\n",
    "        BaseModel.__init__(self)\n",
    "    \n",
    "    def init_basic_params(self):\n",
    "        super().init_basic_params()\n",
    "        self.input_size = [32, 32, 1]\n",
    "    \n",
    "    def pad_x(self, x):\n",
    "        temp = x.reshape(-1, 28, 28, 1)\n",
    "        return np.pad(temp, ((0,0),(2,2),(2,2),(0,0)), 'constant')\n",
    "    \n",
    "    def fit(self, x=None, y=None, batch_size=64, epochs=1):\n",
    "        x_pad = self.pad_x(x)\n",
    "        super().fit(x=x_pad, y=y, batch_size=batch_size, epochs=epochs) \n",
    "        \n",
    "    def evaluate(self, x=None, y=None):\n",
    "        x_pad = self.pad_x(x)\n",
    "        return super().evaluate(x=x_pad, y=y) \n",
    "        \n",
    "    def pre_compile(self):\n",
    "        self.reset_internal_params()\n",
    "\n",
    "        self.input = tf.placeholder(tf.float32, shape=[None, *self.input_size], name=\"Input\")\n",
    "        self.expected_output = tf.placeholder(tf.float32, shape=[None, self.output_size], name=\"Y_actual\")\n",
    "   \n",
    "        # Conv. out - 6, kernel - 5x5, stride = 1\n",
    "        layer_1 = self.get_conv2_layer(1, self.input, [5, 5], 6, strides=1, padding='VALID', activ=tf.nn.tanh)\n",
    "        \n",
    "        # avg pool. filter = 2x2, stride = 2\n",
    "        layer_2 = self.get_avg_pooling(2, layer_1, 2, stride=2, padding='VALID')\n",
    "        \n",
    "        # Conv. out - 16, kernel - 5x5, stride = 1\n",
    "        layer_3 = self.get_conv2_layer(3, layer_2, [5, 5], 16, strides=1, padding='VALID', activ=tf.nn.tanh)\n",
    "        \n",
    "        # avg pool. filter = 2x2, stride = 2\n",
    "        layer_4 = self.get_avg_pooling(4, layer_3, 2, stride=2, padding='VALID')\n",
    "        \n",
    "        # Conv. out - 120, kernel - 5x5, stride = 1\n",
    "        layer_5 = self.get_conv2_layer(5, layer_4, [5, 5], 120, strides=1, padding='VALID', activ=tf.nn.tanh)\n",
    "        \n",
    "        # Dense - 84\n",
    "        layer_6_pre = self.flatten(layer_5)\n",
    "        \n",
    "        layer_6 = self.get_dense_layer(6, layer_6_pre, 84, activ=tf.nn.tanh)\n",
    "        \n",
    "        self.layer_output = self.get_dense_layer(4, layer_6, 10, activ=None)\n",
    "        \n",
    "        self.loss = tf.reduce_mean(\n",
    "            tf.nn.softmax_cross_entropy_with_logits_v2(labels=self.expected_output, logits=self.layer_output),\n",
    "            name='Loss'\n",
    "        )\n",
    "        \n",
    "        self.lr = tf.compat.v1.train.exponential_decay(self.start_learning_rate, self.global_step, self.decay_steps, 0.96)\n",
    "        self.optimizer = tf.train.GradientDescentOptimizer(self.lr).minimize(self.loss, global_step=self.global_step)"
   ]
  },
  {
   "cell_type": "code",
   "execution_count": null,
   "metadata": {
    "ExecuteTime": {
     "end_time": "2020-03-09T21:38:27.193014Z",
     "start_time": "2020-03-09T21:38:27.188514Z"
    }
   },
   "outputs": [],
   "source": []
  },
  {
   "cell_type": "code",
   "execution_count": 134,
   "metadata": {
    "ExecuteTime": {
     "end_time": "2020-03-09T22:05:45.161136Z",
     "start_time": "2020-03-09T22:05:44.429702Z"
    }
   },
   "outputs": [
    {
     "name": "stdout",
     "output_type": "stream",
     "text": [
      "object del\n",
      "object del\n",
      "object del\n"
     ]
    }
   ],
   "source": [
    "models = {\n",
    "    'conv + conv + dense': Model1CCD(),\n",
    "    'conv + max pool + dense': Model2CPD(),\n",
    "    'LeNet5': LeNet5(),\n",
    "}\n",
    "\n",
    "# loss, accuracy\n",
    "evaluation = {}"
   ]
  },
  {
   "cell_type": "code",
   "execution_count": 128,
   "metadata": {
    "ExecuteTime": {
     "end_time": "2020-03-09T22:03:57.173773Z",
     "start_time": "2020-03-09T22:03:57.169485Z"
    }
   },
   "outputs": [],
   "source": [
    "train_epochs = 5\n",
    "train_batch_size = 128\n",
    "\n",
    "def train_and_evaluate(name):\n",
    "    print('train_and_evaluate')\n",
    "    print('-------------------')\n",
    "    print(f'Model: {name}')\n",
    "    print('-------------------')\n",
    "    \n",
    "    m = models[name]\n",
    "    m.fit(train_X, train_y, batch_size=train_batch_size, epochs=train_epochs)\n",
    "    evaluation[name] = m.evaluate(test_X, test_y)"
   ]
  },
  {
   "cell_type": "code",
   "execution_count": 137,
   "metadata": {
    "ExecuteTime": {
     "end_time": "2020-03-09T22:08:13.815275Z",
     "start_time": "2020-03-09T22:07:28.766293Z"
    }
   },
   "outputs": [
    {
     "name": "stdout",
     "output_type": "stream",
     "text": [
      "train_and_evaluate\n",
      "-------------------\n",
      "Model: conv + conv + dense\n",
      "-------------------\n",
      "Train size: 7000,\t Valid size: 3000\n",
      "-----------------------------------------------------------------\n",
      "Epochs: 5\t| Iterations: 54\t| Batch: 128\n",
      "-----------------------------------------------------------------\n",
      "Epoch 1: loss - Tr[1.622] Va[1.639] \t acc - Tr[49.8%] Va[49.5%]\n",
      "-----------------------------------------------------------------\n",
      "Epoch 2: loss - Tr[1.046] Va[1.089] \t acc - Tr[70.8%] Va[69.6%]\n",
      "-----------------------------------------------------------------\n",
      "Epoch 3: loss - Tr[0.905] Va[0.955] \t acc - Tr[74.7%] Va[73.5%]\n",
      "-----------------------------------------------------------------\n",
      "Epoch 4: loss - Tr[0.831] Va[0.886] \t acc - Tr[77.0%] Va[75.8%]\n",
      "-----------------------------------------------------------------\n",
      "Epoch 5: loss - Tr[0.788] Va[0.850] \t acc - Tr[78.3%] Va[77.2%]\n",
      "-----------------------------------------------------------------\n"
     ]
    }
   ],
   "source": [
    "train_and_evaluate('conv + conv + dense')"
   ]
  },
  {
   "cell_type": "code",
   "execution_count": 138,
   "metadata": {
    "ExecuteTime": {
     "end_time": "2020-03-09T22:08:20.368035Z",
     "start_time": "2020-03-09T22:08:13.817784Z"
    }
   },
   "outputs": [
    {
     "name": "stdout",
     "output_type": "stream",
     "text": [
      "train_and_evaluate\n",
      "-------------------\n",
      "Model: conv + max pool + dense\n",
      "-------------------\n",
      "Train size: 7000,\t Valid size: 3000\n",
      "-----------------------------------------------------------------\n",
      "Epochs: 5\t| Iterations: 54\t| Batch: 128\n",
      "-----------------------------------------------------------------\n",
      "Epoch 1: loss - Tr[1.765] Va[1.771] \t acc - Tr[51.2%] Va[50.7%]\n",
      "-----------------------------------------------------------------\n",
      "Epoch 2: loss - Tr[1.287] Va[1.325] \t acc - Tr[63.4%] Va[62.1%]\n",
      "-----------------------------------------------------------------\n",
      "Epoch 3: loss - Tr[1.065] Va[1.102] \t acc - Tr[70.8%] Va[69.8%]\n",
      "-----------------------------------------------------------------\n",
      "Epoch 4: loss - Tr[0.971] Va[1.014] \t acc - Tr[74.1%] Va[72.8%]\n",
      "-----------------------------------------------------------------\n",
      "Epoch 5: loss - Tr[0.907] Va[0.959] \t acc - Tr[75.9%] Va[74.0%]\n",
      "-----------------------------------------------------------------\n"
     ]
    }
   ],
   "source": [
    "train_and_evaluate('conv + max pool + dense')"
   ]
  },
  {
   "cell_type": "code",
   "execution_count": 135,
   "metadata": {
    "ExecuteTime": {
     "end_time": "2020-03-09T22:06:02.305226Z",
     "start_time": "2020-03-09T22:05:49.795859Z"
    }
   },
   "outputs": [
    {
     "name": "stdout",
     "output_type": "stream",
     "text": [
      "train_and_evaluate\n",
      "-------------------\n",
      "Model: LeNet5\n",
      "-------------------\n",
      "Train size: 7000,\t Valid size: 3000\n",
      "-----------------------------------------------------------------\n",
      "Epochs: 5\t| Iterations: 54\t| Batch: 128\n",
      "-----------------------------------------------------------------\n",
      "Epoch 1: loss - Tr[2.154] Va[2.159] \t acc - Tr[34.4%] Va[34.7%]\n",
      "-----------------------------------------------------------------\n",
      "Epoch 2: loss - Tr[1.987] Va[1.999] \t acc - Tr[47.3%] Va[46.2%]\n",
      "-----------------------------------------------------------------\n",
      "Epoch 3: loss - Tr[1.778] Va[1.796] \t acc - Tr[55.6%] Va[54.9%]\n",
      "-----------------------------------------------------------------\n",
      "Epoch 4: loss - Tr[1.589] Va[1.612] \t acc - Tr[60.9%] Va[59.6%]\n",
      "-----------------------------------------------------------------\n",
      "Epoch 5: loss - Tr[1.439] Va[1.464] \t acc - Tr[64.2%] Va[63.6%]\n",
      "-----------------------------------------------------------------\n"
     ]
    }
   ],
   "source": [
    "train_and_evaluate('LeNet5')"
   ]
  },
  {
   "cell_type": "code",
   "execution_count": 139,
   "metadata": {
    "ExecuteTime": {
     "end_time": "2020-03-09T22:08:20.378691Z",
     "start_time": "2020-03-09T22:08:20.370566Z"
    }
   },
   "outputs": [
    {
     "data": {
      "text/plain": [
       "{'LeNet5': [1.2744762, 0.7405],\n",
       " 'conv + conv + dense': [0.5175378, 0.8705],\n",
       " 'conv + max pool + dense': [0.6660131, 0.8405]}"
      ]
     },
     "execution_count": 139,
     "metadata": {},
     "output_type": "execute_result"
    }
   ],
   "source": [
    "evaluation"
   ]
  },
  {
   "cell_type": "code",
   "execution_count": 141,
   "metadata": {
    "ExecuteTime": {
     "end_time": "2020-03-09T22:17:31.491065Z",
     "start_time": "2020-03-09T22:17:30.015090Z"
    }
   },
   "outputs": [
    {
     "data": {
      "image/png": "[encoded data removed]",
      "text/plain": [
       "<Figure size 576x288 with 1 Axes>"
      ]
     },
     "metadata": {
      "needs_background": "light"
     },
     "output_type": "display_data"
    },
    {
     "data": {
      "image/png": "[encoded data removed]",
      "text/plain": [
       "<Figure size 576x288 with 1 Axes>"
      ]
     },
     "metadata": {
      "needs_background": "light"
     },
     "output_type": "display_data"
    },
    {
     "data": {
      "image/png": "[encoded data removed]",
      "text/plain": [
       "<Figure size 576x288 with 1 Axes>"
      ]
     },
     "metadata": {
      "needs_background": "light"
     },
     "output_type": "display_data"
    },
    {
     "data": {
      "image/png": "[encoded data removed]",
      "text/plain": [
       "<Figure size 576x288 with 1 Axes>"
      ]
     },
     "metadata": {
      "needs_background": "light"
     },
     "output_type": "display_data"
    },
    {
     "data": {
      "image/png": "[encoded data removed]",
      "text/plain": [
       "<Figure size 576x288 with 1 Axes>"
      ]
     },
     "metadata": {
      "needs_background": "light"
     },
     "output_type": "display_data"
    },
    {
     "data": {
      "image/png": "[encoded data removed]",
      "text/plain": [
       "<Figure size 576x288 with 1 Axes>"
      ]
     },
     "metadata": {
      "needs_background": "light"
     },
     "output_type": "display_data"
    }
   ],
   "source": [
    "for name in models:\n",
    "    offset = 50\n",
    "    m = models[name]\n",
    "    \n",
    "    plot_curves(f'{name} - Accuracy', [m.history['acc_train'], m.history['acc_valid']], 'Accuracy', 'Epoch', ['Train', 'Valid'])\n",
    "    # plot_curves(f'{name} - Accuracy', [m.history['acc_train'], m.history['acc_valid']], 'Accuracy', 'Epoch', ['Train', 'Valid'], x_labels_offset=offset)\n",
    "    plot_curves(f'{name} - Loss', [m.history['loss_train'], m.history['loss_valid']], 'Loss', 'Epoch', ['Train', 'Valid'])\n",
    "    # plot_curves(f'{name} - Loss', [m.history['loss_train'], m.history['loss_valid']], 'Loss', 'Epoch', ['Train', 'Valid'], x_labels_offset=offset)"
   ]
  },
  {
   "cell_type": "code",
   "execution_count": null,
   "metadata": {},
   "outputs": [],
   "source": []
  }
 ],
 "metadata": {
  "kernelspec": {
   "display_name": "Python 3",
   "language": "python",
   "name": "python3"
  },
  "language_info": {
   "codemirror_mode": {
    "name": "ipython",
    "version": 3
   },
   "file_extension": ".py",
   "mimetype": "text/x-python",
   "name": "python",
   "nbconvert_exporter": "python",
   "pygments_lexer": "ipython3",
   "version": "3.7.6"
  }
 },
 "nbformat": 4,
 "nbformat_minor": 4
}
