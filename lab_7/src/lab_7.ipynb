{
  "nbformat": 4,
  "nbformat_minor": 0,
  "metadata": {
    "colab": {
      "name": "lab_7.ipynb",
      "provenance": [],
      "collapsed_sections": [],
      "machine_shape": "hm"
    },
    "kernelspec": {
      "name": "python3",
      "display_name": "Python 3"
    },
    "accelerator": "GPU"
  },
  "cells": [
    {
      "cell_type": "code",
      "metadata": {
        "id": "Y35rYeGted85",
        "colab_type": "code",
        "outputId": "8b431203-2e5d-4e77-9d19-fbe9a08e3bf4",
        "colab": {
          "base_uri": "https://localhost:8080/",
          "height": 204
        }
      },
      "source": [
        "!wget 'https://ai.stanford.edu/~amaas/data/sentiment/aclImdb_v1.tar.gz'"
      ],
      "execution_count": 1,
      "outputs": [
        {
          "output_type": "stream",
          "text": [
            "--2020-04-05 08:57:43--  https://ai.stanford.edu/~amaas/data/sentiment/aclImdb_v1.tar.gz\n",
            "Resolving ai.stanford.edu (ai.stanford.edu)... 171.64.68.10\n",
            "Connecting to ai.stanford.edu (ai.stanford.edu)|171.64.68.10|:443... connected.\n",
            "HTTP request sent, awaiting response... 200 OK\n",
            "Length: 84125825 (80M) [application/x-gzip]\n",
            "Saving to: ‘aclImdb_v1.tar.gz’\n",
            "\n",
            "aclImdb_v1.tar.gz   100%[===================>]  80.23M  23.2MB/s    in 3.5s    \n",
            "\n",
            "2020-04-05 08:57:47 (23.2 MB/s) - ‘aclImdb_v1.tar.gz’ saved [84125825/84125825]\n",
            "\n"
          ],
          "name": "stdout"
        }
      ]
    },
    {
      "cell_type": "code",
      "metadata": {
        "id": "sH2rWaadgi2i",
        "colab_type": "code",
        "colab": {}
      },
      "source": [
        "%%capture\n",
        "!tar xvzf aclImdb_v1.tar.gz"
      ],
      "execution_count": 0,
      "outputs": []
    },
    {
      "cell_type": "code",
      "metadata": {
        "id": "9b0K4_Pbld-J",
        "colab_type": "code",
        "colab": {}
      },
      "source": [
        "import os \n",
        "from sklearn.datasets import load_svmlight_file\n",
        "import numpy as np\n",
        "import re\n",
        "import pandas as pd\n",
        "from nltk.corpus import stopwords\n",
        "from nltk.stem import WordNetLemmatizer\n",
        "import string"
      ],
      "execution_count": 0,
      "outputs": []
    },
    {
      "cell_type": "code",
      "metadata": {
        "id": "Tox_ZAnB8QJ7",
        "colab_type": "code",
        "outputId": "d7d51031-aeef-4199-975e-6364842ce67a",
        "colab": {
          "base_uri": "https://localhost:8080/",
          "height": 102
        }
      },
      "source": [
        "import nltk\n",
        "nltk.download('stopwords')\n",
        "nltk.download('wordnet')\n"
      ],
      "execution_count": 16,
      "outputs": [
        {
          "output_type": "stream",
          "text": [
            "[nltk_data] Downloading package stopwords to /root/nltk_data...\n",
            "[nltk_data]   Package stopwords is already up-to-date!\n",
            "[nltk_data] Downloading package wordnet to /root/nltk_data...\n",
            "[nltk_data]   Unzipping corpora/wordnet.zip.\n"
          ],
          "name": "stdout"
        },
        {
          "output_type": "execute_result",
          "data": {
            "text/plain": [
              "True"
            ]
          },
          "metadata": {
            "tags": []
          },
          "execution_count": 16
        }
      ]
    },
    {
      "cell_type": "code",
      "metadata": {
        "id": "c51l8orsq_uK",
        "colab_type": "code",
        "colab": {}
      },
      "source": [
        "MAX_WORDS = 50000\n",
        "\n",
        "def make_vocab_dict():\n",
        "    \n",
        "    vocab_dict = {}\n",
        "    vocab_dict_revers = {}\n",
        "    \n",
        "    padding = 1\n",
        "\n",
        "    with open('./aclImdb/imdb.vocab', encoding='utf8') as f:\n",
        "        for index, word in enumerate(f):\n",
        "            if (index + padding) >= MAX_WORDS:\n",
        "              break\n",
        "            idx = index + padding\n",
        "            w = word.strip().lower()\n",
        "            vocab_dict[w] = idx\n",
        "            vocab_dict_revers[idx] = w\n",
        "             \n",
        "    \n",
        "    return vocab_dict, vocab_dict_revers"
      ],
      "execution_count": 0,
      "outputs": []
    },
    {
      "cell_type": "code",
      "metadata": {
        "id": "o_rLiotnrHQS",
        "colab_type": "code",
        "outputId": "c5b42eb8-e1fa-4f91-f218-955a9b6cab31",
        "colab": {
          "base_uri": "https://localhost:8080/",
          "height": 34
        }
      },
      "source": [
        "imdb_vocab, imdb_vocab_rev  = make_vocab_dict()\n",
        "len(imdb_vocab.keys())"
      ],
      "execution_count": 25,
      "outputs": [
        {
          "output_type": "execute_result",
          "data": {
            "text/plain": [
              "49999"
            ]
          },
          "metadata": {
            "tags": []
          },
          "execution_count": 25
        }
      ]
    },
    {
      "cell_type": "code",
      "metadata": {
        "id": "sJu3Vbs3rNUD",
        "colab_type": "code",
        "colab": {}
      },
      "source": [
        "def rm_tags(text):\n",
        "    re_tags = re.compile(r'<[^>]+>')\n",
        "    return re_tags.sub(' ',text)"
      ],
      "execution_count": 0,
      "outputs": []
    },
    {
      "cell_type": "code",
      "metadata": {
        "id": "SLQQj2kkgkfn",
        "colab_type": "code",
        "colab": {}
      },
      "source": [
        "def dataset_to_df(dataset):\n",
        "  base_path = 'aclImdb'\n",
        "  \n",
        "  texts = []\n",
        "  ranks = []\n",
        "  ids = []\n",
        "  labels = []\n",
        "\n",
        "  for category in ['pos', 'neg']:\n",
        "        path = f'./{base_path}/{dataset}/{category}'\n",
        "        for fname in os.listdir(path):\n",
        "            if fname.endswith('.txt'):\n",
        "              id, rank = os.path.splitext(fname)[0].split('_')\n",
        "              with open(os.path.join(path, fname)) as f:\n",
        "                content = rm_tags(f.read())\n",
        "                #content = f.read()\n",
        "                texts.append(content)\n",
        "                labels.append(0 if category == 'neg' else 1)\n",
        "                ids.append(int(id))\n",
        "                ranks.append(int(rank))\n",
        "    \n",
        "  dict = {'label': labels, 'rank': ranks, 'id': ids, 'text': texts}  \n",
        "  \n",
        "  #return pd.DataFrame(dict).sample(frac=1)\n",
        "  return pd.DataFrame(dict)"
      ],
      "execution_count": 0,
      "outputs": []
    },
    {
      "cell_type": "code",
      "metadata": {
        "id": "MY4fFpBGo4cA",
        "colab_type": "code",
        "outputId": "c002dc39-9f6b-409c-9001-bf7e316937bc",
        "colab": {
          "base_uri": "https://localhost:8080/",
          "height": 204
        }
      },
      "source": [
        "original_train_df = dataset_to_df('train')\n",
        "original_train_df.head()"
      ],
      "execution_count": 28,
      "outputs": [
        {
          "output_type": "execute_result",
          "data": {
            "text/html": [
              "<div>\n",
              "<style scoped>\n",
              "    .dataframe tbody tr th:only-of-type {\n",
              "        vertical-align: middle;\n",
              "    }\n",
              "\n",
              "    .dataframe tbody tr th {\n",
              "        vertical-align: top;\n",
              "    }\n",
              "\n",
              "    .dataframe thead th {\n",
              "        text-align: right;\n",
              "    }\n",
              "</style>\n",
              "<table border=\"1\" class=\"dataframe\">\n",
              "  <thead>\n",
              "    <tr style=\"text-align: right;\">\n",
              "      <th></th>\n",
              "      <th>label</th>\n",
              "      <th>rank</th>\n",
              "      <th>id</th>\n",
              "      <th>text</th>\n",
              "    </tr>\n",
              "  </thead>\n",
              "  <tbody>\n",
              "    <tr>\n",
              "      <th>0</th>\n",
              "      <td>1</td>\n",
              "      <td>10</td>\n",
              "      <td>1926</td>\n",
              "      <td>In 1967 I visited the Lake Elsinore glider-por...</td>\n",
              "    </tr>\n",
              "    <tr>\n",
              "      <th>1</th>\n",
              "      <td>1</td>\n",
              "      <td>9</td>\n",
              "      <td>6677</td>\n",
              "      <td>A film about wannabee's, never-were's and less...</td>\n",
              "    </tr>\n",
              "    <tr>\n",
              "      <th>2</th>\n",
              "      <td>1</td>\n",
              "      <td>10</td>\n",
              "      <td>11812</td>\n",
              "      <td>This movies is the best movie to watch for com...</td>\n",
              "    </tr>\n",
              "    <tr>\n",
              "      <th>3</th>\n",
              "      <td>1</td>\n",
              "      <td>7</td>\n",
              "      <td>9567</td>\n",
              "      <td>I watched the DVD of this movie which also com...</td>\n",
              "    </tr>\n",
              "    <tr>\n",
              "      <th>4</th>\n",
              "      <td>1</td>\n",
              "      <td>9</td>\n",
              "      <td>4511</td>\n",
              "      <td>I just picked up the DVD release of this movie...</td>\n",
              "    </tr>\n",
              "  </tbody>\n",
              "</table>\n",
              "</div>"
            ],
            "text/plain": [
              "   label  rank     id                                               text\n",
              "0      1    10   1926  In 1967 I visited the Lake Elsinore glider-por...\n",
              "1      1     9   6677  A film about wannabee's, never-were's and less...\n",
              "2      1    10  11812  This movies is the best movie to watch for com...\n",
              "3      1     7   9567  I watched the DVD of this movie which also com...\n",
              "4      1     9   4511  I just picked up the DVD release of this movie..."
            ]
          },
          "metadata": {
            "tags": []
          },
          "execution_count": 28
        }
      ]
    },
    {
      "cell_type": "code",
      "metadata": {
        "id": "RPtn_zqypAC4",
        "colab_type": "code",
        "outputId": "05ba8ee6-03dc-4805-feb1-4a0164a2f177",
        "colab": {
          "base_uri": "https://localhost:8080/",
          "height": 204
        }
      },
      "source": [
        "original_test_df = dataset_to_df('test')\n",
        "original_test_df.head()"
      ],
      "execution_count": 29,
      "outputs": [
        {
          "output_type": "execute_result",
          "data": {
            "text/html": [
              "<div>\n",
              "<style scoped>\n",
              "    .dataframe tbody tr th:only-of-type {\n",
              "        vertical-align: middle;\n",
              "    }\n",
              "\n",
              "    .dataframe tbody tr th {\n",
              "        vertical-align: top;\n",
              "    }\n",
              "\n",
              "    .dataframe thead th {\n",
              "        text-align: right;\n",
              "    }\n",
              "</style>\n",
              "<table border=\"1\" class=\"dataframe\">\n",
              "  <thead>\n",
              "    <tr style=\"text-align: right;\">\n",
              "      <th></th>\n",
              "      <th>label</th>\n",
              "      <th>rank</th>\n",
              "      <th>id</th>\n",
              "      <th>text</th>\n",
              "    </tr>\n",
              "  </thead>\n",
              "  <tbody>\n",
              "    <tr>\n",
              "      <th>0</th>\n",
              "      <td>1</td>\n",
              "      <td>8</td>\n",
              "      <td>10503</td>\n",
              "      <td>First, let me review the movie. This movie cre...</td>\n",
              "    </tr>\n",
              "    <tr>\n",
              "      <th>1</th>\n",
              "      <td>1</td>\n",
              "      <td>10</td>\n",
              "      <td>10347</td>\n",
              "      <td>Recovery is an incredibly moving piece of work...</td>\n",
              "    </tr>\n",
              "    <tr>\n",
              "      <th>2</th>\n",
              "      <td>1</td>\n",
              "      <td>10</td>\n",
              "      <td>7684</td>\n",
              "      <td>When is ART going to overcome racism? I believ...</td>\n",
              "    </tr>\n",
              "    <tr>\n",
              "      <th>3</th>\n",
              "      <td>1</td>\n",
              "      <td>7</td>\n",
              "      <td>9567</td>\n",
              "      <td>Well in to 2002 I've got some catching up to d...</td>\n",
              "    </tr>\n",
              "    <tr>\n",
              "      <th>4</th>\n",
              "      <td>1</td>\n",
              "      <td>9</td>\n",
              "      <td>8606</td>\n",
              "      <td>Shohei Imamaura's Black Rain was released in 1...</td>\n",
              "    </tr>\n",
              "  </tbody>\n",
              "</table>\n",
              "</div>"
            ],
            "text/plain": [
              "   label  rank     id                                               text\n",
              "0      1     8  10503  First, let me review the movie. This movie cre...\n",
              "1      1    10  10347  Recovery is an incredibly moving piece of work...\n",
              "2      1    10   7684  When is ART going to overcome racism? I believ...\n",
              "3      1     7   9567  Well in to 2002 I've got some catching up to d...\n",
              "4      1     9   8606  Shohei Imamaura's Black Rain was released in 1..."
            ]
          },
          "metadata": {
            "tags": []
          },
          "execution_count": 29
        }
      ]
    },
    {
      "cell_type": "code",
      "metadata": {
        "id": "w27LPeaC5tu4",
        "colab_type": "code",
        "colab": {}
      },
      "source": [
        "stop_words = set(stopwords.words(\"english\")) \n",
        "lemmatizer = WordNetLemmatizer()\n",
        "\n",
        "stop_words = set(stopwords.words(\"english\")) \n",
        "lemmatizer = WordNetLemmatizer()\n",
        "\n",
        "def clean_text(text):\n",
        "    text = re.sub(r'[^\\w\\s]','',text, re.UNICODE)\n",
        "    text = text.lower()\n",
        "    text = [lemmatizer.lemmatize(token) for token in text.split(\" \")]\n",
        "    text = [lemmatizer.lemmatize(token, \"v\") for token in text]\n",
        "    text = [word for word in text if not word in stop_words]\n",
        "\n",
        "    # table = str.maketrans('', '', string.punctuation)\n",
        "    # text = [w.translate(table) for w in text]\n",
        "\n",
        "    # text = [word.lower() for word in text if word.isalpha()]\n",
        "    # text = [word for word in text if len(word) > 1]\n",
        "\n",
        "    #text = \" \".join(text)\n",
        "    return text"
      ],
      "execution_count": 0,
      "outputs": []
    },
    {
      "cell_type": "code",
      "metadata": {
        "id": "A2xaN_JW7ghX",
        "colab_type": "code",
        "colab": {}
      },
      "source": [
        "def df_clean_text(df):\n",
        "  df['text'] = df['text'].apply(clean_text)\n",
        "\n",
        "  return df"
      ],
      "execution_count": 0,
      "outputs": []
    },
    {
      "cell_type": "code",
      "metadata": {
        "id": "-_kSkEDw9Dx-",
        "colab_type": "code",
        "colab": {}
      },
      "source": [
        "def tokens_to_num(tokens):\n",
        "  output = []\n",
        "\n",
        "  for token in tokens:\n",
        "    if token in imdb_vocab:\n",
        "      output.append(imdb_vocab[token])\n",
        "    else:\n",
        "      output.append(2)\n",
        "\n",
        "  return output"
      ],
      "execution_count": 0,
      "outputs": []
    },
    {
      "cell_type": "code",
      "metadata": {
        "id": "3aXJGKbY76Qp",
        "colab_type": "code",
        "colab": {}
      },
      "source": [
        "def df_tokens_to_vec(df):\n",
        "  df['text'] = df['text'].apply(tokens_to_num)\n",
        "\n",
        "  return df"
      ],
      "execution_count": 0,
      "outputs": []
    },
    {
      "cell_type": "code",
      "metadata": {
        "id": "0FhsJMnF9-bw",
        "colab_type": "code",
        "outputId": "16f3d4b2-c61c-4d14-fa3c-f65c1ec98688",
        "colab": {
          "base_uri": "https://localhost:8080/",
          "height": 204
        }
      },
      "source": [
        "train_df = df_clean_text(original_train_df.copy())\n",
        "train_df.head()"
      ],
      "execution_count": 34,
      "outputs": [
        {
          "output_type": "execute_result",
          "data": {
            "text/html": [
              "<div>\n",
              "<style scoped>\n",
              "    .dataframe tbody tr th:only-of-type {\n",
              "        vertical-align: middle;\n",
              "    }\n",
              "\n",
              "    .dataframe tbody tr th {\n",
              "        vertical-align: top;\n",
              "    }\n",
              "\n",
              "    .dataframe thead th {\n",
              "        text-align: right;\n",
              "    }\n",
              "</style>\n",
              "<table border=\"1\" class=\"dataframe\">\n",
              "  <thead>\n",
              "    <tr style=\"text-align: right;\">\n",
              "      <th></th>\n",
              "      <th>label</th>\n",
              "      <th>rank</th>\n",
              "      <th>id</th>\n",
              "      <th>text</th>\n",
              "    </tr>\n",
              "  </thead>\n",
              "  <tbody>\n",
              "    <tr>\n",
              "      <th>0</th>\n",
              "      <td>1</td>\n",
              "      <td>10</td>\n",
              "      <td>1926</td>\n",
              "      <td>[1967, visit, lake, elsinore, gliderport, fly,...</td>\n",
              "    </tr>\n",
              "    <tr>\n",
              "      <th>1</th>\n",
              "      <td>1</td>\n",
              "      <td>9</td>\n",
              "      <td>6677</td>\n",
              "      <td>[film, wannabee, neverweres, lessthanheroes, m...</td>\n",
              "    </tr>\n",
              "    <tr>\n",
              "      <th>2</th>\n",
              "      <td>1</td>\n",
              "      <td>10</td>\n",
              "      <td>11812</td>\n",
              "      <td>[movie, best, movie, watch, comic, book, feel,...</td>\n",
              "    </tr>\n",
              "    <tr>\n",
              "      <th>3</th>\n",
              "      <td>1</td>\n",
              "      <td>7</td>\n",
              "      <td>9567</td>\n",
              "      <td>[watch, dvd, movie, also, come, excellent, com...</td>\n",
              "    </tr>\n",
              "    <tr>\n",
              "      <th>4</th>\n",
              "      <td>1</td>\n",
              "      <td>9</td>\n",
              "      <td>4511</td>\n",
              "      <td>[pick, dvd, release, movie, holiday, norway, h...</td>\n",
              "    </tr>\n",
              "  </tbody>\n",
              "</table>\n",
              "</div>"
            ],
            "text/plain": [
              "   label  rank     id                                               text\n",
              "0      1    10   1926  [1967, visit, lake, elsinore, gliderport, fly,...\n",
              "1      1     9   6677  [film, wannabee, neverweres, lessthanheroes, m...\n",
              "2      1    10  11812  [movie, best, movie, watch, comic, book, feel,...\n",
              "3      1     7   9567  [watch, dvd, movie, also, come, excellent, com...\n",
              "4      1     9   4511  [pick, dvd, release, movie, holiday, norway, h..."
            ]
          },
          "metadata": {
            "tags": []
          },
          "execution_count": 34
        }
      ]
    },
    {
      "cell_type": "code",
      "metadata": {
        "id": "zFMpqHb-l3VG",
        "colab_type": "code",
        "colab": {}
      },
      "source": [
        ""
      ],
      "execution_count": 0,
      "outputs": []
    },
    {
      "cell_type": "code",
      "metadata": {
        "id": "LPS-_jXe8BhF",
        "colab_type": "code",
        "outputId": "597b0d2c-4d11-4469-f97c-4ee79c36eb4d",
        "colab": {
          "base_uri": "https://localhost:8080/",
          "height": 204
        }
      },
      "source": [
        "train_df = df_tokens_to_vec(train_df)\n",
        "train_df.head()"
      ],
      "execution_count": 35,
      "outputs": [
        {
          "output_type": "execute_result",
          "data": {
            "text/html": [
              "<div>\n",
              "<style scoped>\n",
              "    .dataframe tbody tr th:only-of-type {\n",
              "        vertical-align: middle;\n",
              "    }\n",
              "\n",
              "    .dataframe tbody tr th {\n",
              "        vertical-align: top;\n",
              "    }\n",
              "\n",
              "    .dataframe thead th {\n",
              "        text-align: right;\n",
              "    }\n",
              "</style>\n",
              "<table border=\"1\" class=\"dataframe\">\n",
              "  <thead>\n",
              "    <tr style=\"text-align: right;\">\n",
              "      <th></th>\n",
              "      <th>label</th>\n",
              "      <th>rank</th>\n",
              "      <th>id</th>\n",
              "      <th>text</th>\n",
              "    </tr>\n",
              "  </thead>\n",
              "  <tbody>\n",
              "    <tr>\n",
              "      <th>0</th>\n",
              "      <td>1</td>\n",
              "      <td>10</td>\n",
              "      <td>1926</td>\n",
              "      <td>[2, 1945, 2025, 45586, 2, 2271, 4287, 21450, 3...</td>\n",
              "    </tr>\n",
              "    <tr>\n",
              "      <th>1</th>\n",
              "      <td>1</td>\n",
              "      <td>9</td>\n",
              "      <td>6677</td>\n",
              "      <td>[18, 28859, 2, 2, 95, 3985, 809, 2329, 23917, ...</td>\n",
              "    </tr>\n",
              "    <tr>\n",
              "      <th>2</th>\n",
              "      <td>1</td>\n",
              "      <td>10</td>\n",
              "      <td>11812</td>\n",
              "      <td>[16, 116, 16, 104, 716, 264, 232, 281, 2255, 1...</td>\n",
              "    </tr>\n",
              "    <tr>\n",
              "      <th>3</th>\n",
              "      <td>1</td>\n",
              "      <td>7</td>\n",
              "      <td>9567</td>\n",
              "      <td>[104, 279, 16, 80, 211, 310, 1639, 1392, 641, ...</td>\n",
              "    </tr>\n",
              "    <tr>\n",
              "      <th>4</th>\n",
              "      <td>1</td>\n",
              "      <td>9</td>\n",
              "      <td>4511</td>\n",
              "      <td>[1272, 279, 764, 16, 3134, 13041, 2916, 764, 6...</td>\n",
              "    </tr>\n",
              "  </tbody>\n",
              "</table>\n",
              "</div>"
            ],
            "text/plain": [
              "   label  rank     id                                               text\n",
              "0      1    10   1926  [2, 1945, 2025, 45586, 2, 2271, 4287, 21450, 3...\n",
              "1      1     9   6677  [18, 28859, 2, 2, 95, 3985, 809, 2329, 23917, ...\n",
              "2      1    10  11812  [16, 116, 16, 104, 716, 264, 232, 281, 2255, 1...\n",
              "3      1     7   9567  [104, 279, 16, 80, 211, 310, 1639, 1392, 641, ...\n",
              "4      1     9   4511  [1272, 279, 764, 16, 3134, 13041, 2916, 764, 6..."
            ]
          },
          "metadata": {
            "tags": []
          },
          "execution_count": 35
        }
      ]
    },
    {
      "cell_type": "code",
      "metadata": {
        "id": "3bXOIu2l-NpQ",
        "colab_type": "code",
        "outputId": "0e3ada73-20a4-4b60-ced3-0b99202247ad",
        "colab": {
          "base_uri": "https://localhost:8080/",
          "height": 204
        }
      },
      "source": [
        "test_df = df_clean_text(original_test_df.copy())\n",
        "test_df.head()"
      ],
      "execution_count": 36,
      "outputs": [
        {
          "output_type": "execute_result",
          "data": {
            "text/html": [
              "<div>\n",
              "<style scoped>\n",
              "    .dataframe tbody tr th:only-of-type {\n",
              "        vertical-align: middle;\n",
              "    }\n",
              "\n",
              "    .dataframe tbody tr th {\n",
              "        vertical-align: top;\n",
              "    }\n",
              "\n",
              "    .dataframe thead th {\n",
              "        text-align: right;\n",
              "    }\n",
              "</style>\n",
              "<table border=\"1\" class=\"dataframe\">\n",
              "  <thead>\n",
              "    <tr style=\"text-align: right;\">\n",
              "      <th></th>\n",
              "      <th>label</th>\n",
              "      <th>rank</th>\n",
              "      <th>id</th>\n",
              "      <th>text</th>\n",
              "    </tr>\n",
              "  </thead>\n",
              "  <tbody>\n",
              "    <tr>\n",
              "      <th>0</th>\n",
              "      <td>1</td>\n",
              "      <td>8</td>\n",
              "      <td>10503</td>\n",
              "      <td>[first, let, review, movie, movie, creep, dont...</td>\n",
              "    </tr>\n",
              "    <tr>\n",
              "      <th>1</th>\n",
              "      <td>1</td>\n",
              "      <td>10</td>\n",
              "      <td>10347</td>\n",
              "      <td>[recovery, incredibly, move, piece, work, hand...</td>\n",
              "    </tr>\n",
              "    <tr>\n",
              "      <th>2</th>\n",
              "      <td>1</td>\n",
              "      <td>10</td>\n",
              "      <td>7684</td>\n",
              "      <td>[art, go, overcome, racism, believe, american,...</td>\n",
              "    </tr>\n",
              "    <tr>\n",
              "      <th>3</th>\n",
              "      <td>1</td>\n",
              "      <td>7</td>\n",
              "      <td>9567</td>\n",
              "      <td>[well, 2002, ive, get, catch, look, back, lack...</td>\n",
              "    </tr>\n",
              "    <tr>\n",
              "      <th>4</th>\n",
              "      <td>1</td>\n",
              "      <td>9</td>\n",
              "      <td>8606</td>\n",
              "      <td>[shohei, imamauras, black, rain, wa, release, ...</td>\n",
              "    </tr>\n",
              "  </tbody>\n",
              "</table>\n",
              "</div>"
            ],
            "text/plain": [
              "   label  rank     id                                               text\n",
              "0      1     8  10503  [first, let, review, movie, movie, creep, dont...\n",
              "1      1    10  10347  [recovery, incredibly, move, piece, work, hand...\n",
              "2      1    10   7684  [art, go, overcome, racism, believe, american,...\n",
              "3      1     7   9567  [well, 2002, ive, get, catch, look, back, lack...\n",
              "4      1     9   8606  [shohei, imamauras, black, rain, wa, release, ..."
            ]
          },
          "metadata": {
            "tags": []
          },
          "execution_count": 36
        }
      ]
    },
    {
      "cell_type": "code",
      "metadata": {
        "id": "x0k_TE0Msxvv",
        "colab_type": "code",
        "outputId": "7f2fb360-93ff-44cd-f88f-3249679e8d10",
        "colab": {
          "base_uri": "https://localhost:8080/",
          "height": 204
        }
      },
      "source": [
        "test_df = df_tokens_to_vec(test_df)\n",
        "test_df.head()"
      ],
      "execution_count": 37,
      "outputs": [
        {
          "output_type": "execute_result",
          "data": {
            "text/html": [
              "<div>\n",
              "<style scoped>\n",
              "    .dataframe tbody tr th:only-of-type {\n",
              "        vertical-align: middle;\n",
              "    }\n",
              "\n",
              "    .dataframe tbody tr th {\n",
              "        vertical-align: top;\n",
              "    }\n",
              "\n",
              "    .dataframe thead th {\n",
              "        text-align: right;\n",
              "    }\n",
              "</style>\n",
              "<table border=\"1\" class=\"dataframe\">\n",
              "  <thead>\n",
              "    <tr style=\"text-align: right;\">\n",
              "      <th></th>\n",
              "      <th>label</th>\n",
              "      <th>rank</th>\n",
              "      <th>id</th>\n",
              "      <th>text</th>\n",
              "    </tr>\n",
              "  </thead>\n",
              "  <tbody>\n",
              "    <tr>\n",
              "      <th>0</th>\n",
              "      <td>1</td>\n",
              "      <td>8</td>\n",
              "      <td>10503</td>\n",
              "      <td>[85, 272, 708, 16, 16, 4729, 5300, 54, 256, 14...</td>\n",
              "    </tr>\n",
              "    <tr>\n",
              "      <th>1</th>\n",
              "      <td>1</td>\n",
              "      <td>10</td>\n",
              "      <td>10347</td>\n",
              "      <td>[15485, 929, 815, 405, 161, 2819, 2, 927, 1281...</td>\n",
              "    </tr>\n",
              "    <tr>\n",
              "      <th>2</th>\n",
              "      <td>1</td>\n",
              "      <td>10</td>\n",
              "      <td>7684</td>\n",
              "      <td>[512, 138, 2985, 3004, 256, 312, 76, 2223, 228...</td>\n",
              "    </tr>\n",
              "    <tr>\n",
              "      <th>3</th>\n",
              "      <td>1</td>\n",
              "      <td>7</td>\n",
              "      <td>9567</td>\n",
              "      <td>[72, 2, 18621, 75, 1248, 164, 142, 15053, 318,...</td>\n",
              "    </tr>\n",
              "    <tr>\n",
              "      <th>4</th>\n",
              "      <td>1</td>\n",
              "      <td>9</td>\n",
              "      <td>8606</td>\n",
              "      <td>[19305, 2, 321, 2411, 27558, 764, 2, 15287, 42...</td>\n",
              "    </tr>\n",
              "  </tbody>\n",
              "</table>\n",
              "</div>"
            ],
            "text/plain": [
              "   label  rank     id                                               text\n",
              "0      1     8  10503  [85, 272, 708, 16, 16, 4729, 5300, 54, 256, 14...\n",
              "1      1    10  10347  [15485, 929, 815, 405, 161, 2819, 2, 927, 1281...\n",
              "2      1    10   7684  [512, 138, 2985, 3004, 256, 312, 76, 2223, 228...\n",
              "3      1     7   9567  [72, 2, 18621, 75, 1248, 164, 142, 15053, 318,...\n",
              "4      1     9   8606  [19305, 2, 321, 2411, 27558, 764, 2, 15287, 42..."
            ]
          },
          "metadata": {
            "tags": []
          },
          "execution_count": 37
        }
      ]
    },
    {
      "cell_type": "code",
      "metadata": {
        "id": "QX2yiam-mDAE",
        "colab_type": "code",
        "colab": {}
      },
      "source": [
        "train_df.to_csv('train_df.csv')\n",
        "test_df.to_csv('test_df.csv')"
      ],
      "execution_count": 0,
      "outputs": []
    },
    {
      "cell_type": "code",
      "metadata": {
        "id": "2T6pPoYE_NX_",
        "colab_type": "code",
        "colab": {}
      },
      "source": [
        "import matplotlib.pyplot as plt"
      ],
      "execution_count": 0,
      "outputs": []
    },
    {
      "cell_type": "code",
      "metadata": {
        "id": "xlCAyAaj-WfK",
        "colab_type": "code",
        "outputId": "9730d8c9-f489-4a9c-f4c1-f132e1acd9f5",
        "colab": {
          "base_uri": "https://localhost:8080/",
          "height": 279
        }
      },
      "source": [
        "train_df['label'].value_counts().plot.bar(color=['Orange', 'Green'])"
      ],
      "execution_count": 42,
      "outputs": [
        {
          "output_type": "execute_result",
          "data": {
            "text/plain": [
              "<matplotlib.axes._subplots.AxesSubplot at 0x7f9939d89d68>"
            ]
          },
          "metadata": {
            "tags": []
          },
          "execution_count": 42
        },
        {
          "output_type": "display_data",
          "data": {
            "image/png": "[encoded data removed]",
            "text/plain": [
              "<Figure size 432x288 with 1 Axes>"
            ]
          },
          "metadata": {
            "tags": []
          }
        }
      ]
    },
    {
      "cell_type": "code",
      "metadata": {
        "id": "xaWRlsht-rUc",
        "colab_type": "code",
        "outputId": "308322dc-e3d1-44b7-f40f-3ddd160a5cc6",
        "colab": {
          "base_uri": "https://localhost:8080/",
          "height": 296
        }
      },
      "source": [
        "plt.figure(figsize=(8, 4))\n",
        "train_df['text'].apply(len).value_counts().plot.hist(bins=12)\n",
        "plt.ylabel('# of reviews')\n",
        "plt.xlabel('Len of review (in words)')"
      ],
      "execution_count": 190,
      "outputs": [
        {
          "output_type": "execute_result",
          "data": {
            "text/plain": [
              "Text(0.5, 0, 'Len of review (in words)')"
            ]
          },
          "metadata": {
            "tags": []
          },
          "execution_count": 190
        },
        {
          "output_type": "display_data",
          "data": {
            "image/png": "[encoded data removed]",
            "text/plain": [
              "<Figure size 576x288 with 1 Axes>"
            ]
          },
          "metadata": {
            "tags": []
          }
        }
      ]
    },
    {
      "cell_type": "code",
      "metadata": {
        "id": "g5eR59f2aslY",
        "colab_type": "code",
        "colab": {}
      },
      "source": [
        "def plot_curves(title, data, y_title, x_title='Epoch', legend=[], x_labels_offset = 0):\n",
        "    fig = plt.figure(figsize=(8, 4))\n",
        "        \n",
        "    for row in data:\n",
        "        x = range(x_labels_offset, len(row))\n",
        "        plt.plot(x, row[x_labels_offset:])\n",
        "    \n",
        "    plt.title(title)\n",
        "    plt.ylabel(y_title)\n",
        "    plt.xlabel(x_title)\n",
        "    plt.grid(True)\n",
        "    plt.legend(legend, loc='upper left')\n",
        "    plt.show()"
      ],
      "execution_count": 0,
      "outputs": []
    },
    {
      "cell_type": "code",
      "metadata": {
        "id": "22DwiE3Za3KC",
        "colab_type": "code",
        "colab": {}
      },
      "source": [
        "def print_loss(history, title=''):\n",
        "  plot_curves(f'{title} - Loss', \n",
        "            [\n",
        "              history.history['loss'], history.history['val_loss']\n",
        "            ], 'Loss', 'Epoch',\n",
        "            [\n",
        "              'Train', 'Valid'\n",
        "            ]\n",
        "            )"
      ],
      "execution_count": 0,
      "outputs": []
    },
    {
      "cell_type": "code",
      "metadata": {
        "id": "VsKt3KLsa7Xb",
        "colab_type": "code",
        "colab": {}
      },
      "source": [
        "def print_acc(history, title=''):\n",
        "  plot_curves(\n",
        "      f'{title} - Accuracy', \n",
        "      [history.history['accuracy'], history.history['val_accuracy']], \n",
        "      'Accuracy', 'Epoch', \n",
        "      ['Train', 'Valid']\n",
        "      )"
      ],
      "execution_count": 0,
      "outputs": []
    },
    {
      "cell_type": "code",
      "metadata": {
        "id": "cm_PgMaBEsYk",
        "colab_type": "code",
        "colab": {}
      },
      "source": [
        "%tensorflow_version 2.x\n",
        "from tensorflow.keras.preprocessing.sequence import pad_sequences"
      ],
      "execution_count": 0,
      "outputs": []
    },
    {
      "cell_type": "code",
      "metadata": {
        "id": "OiKd2yy0OQU6",
        "colab_type": "code",
        "colab": {}
      },
      "source": [
        "REVIEW_WORD_LEN = 130"
      ],
      "execution_count": 0,
      "outputs": []
    },
    {
      "cell_type": "code",
      "metadata": {
        "id": "NxWxBHsC5Rqy",
        "colab_type": "code",
        "colab": {}
      },
      "source": [
        "def add_start_marker(list):\n",
        "  if (len(list) < REVIEW_WORD_LEN):\n",
        "    list.insert(0, 1)\n",
        "\n",
        "  return list"
      ],
      "execution_count": 0,
      "outputs": []
    },
    {
      "cell_type": "code",
      "metadata": {
        "id": "iTzMWchGE7hb",
        "colab_type": "code",
        "colab": {}
      },
      "source": [
        "def df_get_x_y(df):\n",
        "  #df['text'] = df['text'].apply(add_start_marker)\n",
        "  return pad_sequences(df['text'].values, maxlen=REVIEW_WORD_LEN), train_df['label'].values"
      ],
      "execution_count": 0,
      "outputs": []
    },
    {
      "cell_type": "code",
      "metadata": {
        "id": "hhTi1bxl_y_t",
        "colab_type": "code",
        "outputId": "60986854-cbc0-4726-bc36-c3d4d202f299",
        "colab": {
          "base_uri": "https://localhost:8080/",
          "height": 34
        }
      },
      "source": [
        "train_x, train_y = df_get_x_y(train_df)\n",
        "\n",
        "train_x.shape, train_y.shape"
      ],
      "execution_count": 54,
      "outputs": [
        {
          "output_type": "execute_result",
          "data": {
            "text/plain": [
              "((25000, 130), (25000,))"
            ]
          },
          "metadata": {
            "tags": []
          },
          "execution_count": 54
        }
      ]
    },
    {
      "cell_type": "code",
      "metadata": {
        "id": "4Oqx5Fe8_0YF",
        "colab_type": "code",
        "outputId": "2ed182ea-06d8-4887-9cf4-4cfd1f631735",
        "colab": {
          "base_uri": "https://localhost:8080/",
          "height": 34
        }
      },
      "source": [
        "test_x, test_y = df_get_x_y(test_df)\n",
        "\n",
        "test_x.shape, test_y.shape"
      ],
      "execution_count": 55,
      "outputs": [
        {
          "output_type": "execute_result",
          "data": {
            "text/plain": [
              "((25000, 130), (25000,))"
            ]
          },
          "metadata": {
            "tags": []
          },
          "execution_count": 55
        }
      ]
    },
    {
      "cell_type": "code",
      "metadata": {
        "id": "RMicGOJ_nD3D",
        "colab_type": "code",
        "colab": {}
      },
      "source": [
        "np.savez('train.npz', train_x, train_y)"
      ],
      "execution_count": 0,
      "outputs": []
    },
    {
      "cell_type": "code",
      "metadata": {
        "id": "5mfaWkRjnI_9",
        "colab_type": "code",
        "colab": {}
      },
      "source": [
        "np.savez('test.npz', test_x, test_y)"
      ],
      "execution_count": 0,
      "outputs": []
    },
    {
      "cell_type": "code",
      "metadata": {
        "id": "7ErXmQKqqkSV",
        "colab_type": "code",
        "colab": {}
      },
      "source": [
        "from google.colab import files"
      ],
      "execution_count": 0,
      "outputs": []
    },
    {
      "cell_type": "code",
      "metadata": {
        "id": "YOlFB6PUqmIx",
        "colab_type": "code",
        "colab": {}
      },
      "source": [
        "files.download('./test.npz') "
      ],
      "execution_count": 0,
      "outputs": []
    },
    {
      "cell_type": "code",
      "metadata": {
        "id": "om3h8o7oqzgG",
        "colab_type": "code",
        "colab": {}
      },
      "source": [
        "files.download('./train.npz') "
      ],
      "execution_count": 0,
      "outputs": []
    },
    {
      "cell_type": "code",
      "metadata": {
        "id": "Yza6Ohx_aD3q",
        "colab_type": "code",
        "colab": {}
      },
      "source": [
        "from tensorflow.keras.utils import plot_model\n",
        "from IPython.display import Image "
      ],
      "execution_count": 0,
      "outputs": []
    },
    {
      "cell_type": "code",
      "metadata": {
        "id": "EL6hAa-OQB85",
        "colab_type": "code",
        "colab": {}
      },
      "source": [
        "from tensorflow.keras.models import Sequential,  load_model, Model\n",
        "from tensorflow.keras.layers import Input, Dense, Dropout, LSTM, GRU, Embedding, Bidirectional, Activation, SpatialDropout1D, GlobalMaxPool1D\n",
        "from tensorflow.keras.callbacks import ModelCheckpoint\n",
        "from tensorflow.keras.regularizers import L1L2\n",
        "from tensorflow.keras import initializers\n",
        "from tensorflow.keras.layers import InputSpec, Layer, concatenate\n",
        "from tensorflow.keras import backend as K\n",
        "from tensorflow.keras.callbacks import ModelCheckpoint"
      ],
      "execution_count": 0,
      "outputs": []
    },
    {
      "cell_type": "markdown",
      "metadata": {
        "id": "kZEf-bpnfeVu",
        "colab_type": "text"
      },
      "source": [
        "**Simple LSTM**"
      ]
    },
    {
      "cell_type": "code",
      "metadata": {
        "id": "qp6jI11tOaoi",
        "colab_type": "code",
        "outputId": "83975909-16e7-4ccd-a10c-427a9cef1646",
        "colab": {
          "base_uri": "https://localhost:8080/",
          "height": 289
        }
      },
      "source": [
        "m1 = Sequential()\n",
        "m1.add(Embedding(MAX_WORDS, 2, input_length=REVIEW_WORD_LEN))\n",
        "m1.add(Bidirectional(LSTM(64)))\n",
        "m1.add(Dropout(0.5))\n",
        "m1.add(Dense(1, activation='sigmoid'))\n",
        "  \n",
        "m1.compile(optimizer='adam', loss='binary_crossentropy', metrics=['accuracy'])\n",
        "\n",
        "m1_cp = ModelCheckpoint('m1.hdf5', verbose=1, save_best_only=True)\n",
        "m1.summary()"
      ],
      "execution_count": 88,
      "outputs": [
        {
          "output_type": "stream",
          "text": [
            "Model: \"sequential_6\"\n",
            "_________________________________________________________________\n",
            "Layer (type)                 Output Shape              Param #   \n",
            "=================================================================\n",
            "embedding_6 (Embedding)      (None, 130, 2)            100000    \n",
            "_________________________________________________________________\n",
            "bidirectional_6 (Bidirection (None, 128)               34304     \n",
            "_________________________________________________________________\n",
            "dropout_5 (Dropout)          (None, 128)               0         \n",
            "_________________________________________________________________\n",
            "dense_9 (Dense)              (None, 1)                 129       \n",
            "=================================================================\n",
            "Total params: 134,433\n",
            "Trainable params: 134,433\n",
            "Non-trainable params: 0\n",
            "_________________________________________________________________\n"
          ],
          "name": "stdout"
        }
      ]
    },
    {
      "cell_type": "code",
      "metadata": {
        "id": "_ikgRkJpaFHI",
        "colab_type": "code",
        "outputId": "3819fea2-34a9-482c-8815-6a81b342831b",
        "colab": {
          "base_uri": "https://localhost:8080/",
          "height": 533
        }
      },
      "source": [
        "plot_model(m1,  to_file='m1.png', show_shapes=True, show_layer_names=True)\n",
        "Image('m1.png')"
      ],
      "execution_count": 89,
      "outputs": [
        {
          "output_type": "execute_result",
          "data": {
            "image/png": "[encoded data removed]",
            "text/plain": [
              "<IPython.core.display.Image object>"
            ]
          },
          "metadata": {
            "tags": []
          },
          "execution_count": 89
        }
      ]
    },
    {
      "cell_type": "code",
      "metadata": {
        "id": "lNe1zdwiP7rb",
        "colab_type": "code",
        "outputId": "fe76609a-b794-4f53-b27c-f13edad36f7c",
        "colab": {
          "base_uri": "https://localhost:8080/",
          "height": 377
        }
      },
      "source": [
        "m1_hist = m1.fit(train_x, train_y, epochs=5, batch_size=64, validation_split=0.2, callbacks=[m1_cp])"
      ],
      "execution_count": 90,
      "outputs": [
        {
          "output_type": "stream",
          "text": [
            "Epoch 1/5\n",
            "311/313 [============================>.] - ETA: 0s - loss: 0.5289 - accuracy: 0.7282\n",
            "Epoch 00001: val_loss improved from inf to 0.55937, saving model to m1.hdf5\n",
            "313/313 [==============================] - 6s 20ms/step - loss: 0.5279 - accuracy: 0.7290 - val_loss: 0.5594 - val_accuracy: 0.7102\n",
            "Epoch 2/5\n",
            "310/313 [============================>.] - ETA: 0s - loss: 0.2610 - accuracy: 0.8986\n",
            "Epoch 00002: val_loss improved from 0.55937 to 0.51585, saving model to m1.hdf5\n",
            "313/313 [==============================] - 6s 18ms/step - loss: 0.2609 - accuracy: 0.8987 - val_loss: 0.5159 - val_accuracy: 0.7726\n",
            "Epoch 3/5\n",
            "310/313 [============================>.] - ETA: 0s - loss: 0.1891 - accuracy: 0.9354\n",
            "Epoch 00003: val_loss improved from 0.51585 to 0.48680, saving model to m1.hdf5\n",
            "313/313 [==============================] - 6s 18ms/step - loss: 0.1888 - accuracy: 0.9354 - val_loss: 0.4868 - val_accuracy: 0.8084\n",
            "Epoch 4/5\n",
            "313/313 [==============================] - ETA: 0s - loss: 0.1470 - accuracy: 0.9538\n",
            "Epoch 00004: val_loss did not improve from 0.48680\n",
            "313/313 [==============================] - 6s 18ms/step - loss: 0.1470 - accuracy: 0.9538 - val_loss: 0.5474 - val_accuracy: 0.8002\n",
            "Epoch 5/5\n",
            "311/313 [============================>.] - ETA: 0s - loss: 0.0988 - accuracy: 0.9703\n",
            "Epoch 00005: val_loss did not improve from 0.48680\n",
            "313/313 [==============================] - 6s 18ms/step - loss: 0.0988 - accuracy: 0.9703 - val_loss: 0.5217 - val_accuracy: 0.8048\n"
          ],
          "name": "stdout"
        }
      ]
    },
    {
      "cell_type": "code",
      "metadata": {
        "id": "vCx6X3U0b0dP",
        "colab_type": "code",
        "outputId": "409c8a91-503b-4161-9629-2e0f2e0bc13a",
        "colab": {
          "base_uri": "https://localhost:8080/",
          "height": 88
        }
      },
      "source": [
        "m1 = load_model('m1.hdf5')\n",
        "m1_loss, m1_acc = m1.evaluate(test_x, test_y)\n",
        "m1_loss, m1_acc"
      ],
      "execution_count": 91,
      "outputs": [
        {
          "output_type": "stream",
          "text": [
            "WARNING:tensorflow:Error in loading the saved optimizer state. As a result, your model is starting with a freshly initialized optimizer.\n",
            "782/782 [==============================] - 5s 7ms/step - loss: 0.3605 - accuracy: 0.8552\n"
          ],
          "name": "stdout"
        },
        {
          "output_type": "execute_result",
          "data": {
            "text/plain": [
              "(0.3604758679866791, 0.8551599979400635)"
            ]
          },
          "metadata": {
            "tags": []
          },
          "execution_count": 91
        }
      ]
    },
    {
      "cell_type": "code",
      "metadata": {
        "id": "TUa6XM2JP-6m",
        "colab_type": "code",
        "outputId": "5972b52a-1230-418c-910a-d61f27443dc6",
        "colab": {
          "base_uri": "https://localhost:8080/",
          "height": 295
        }
      },
      "source": [
        "print_acc(m1_hist, 'm1 - lstm')"
      ],
      "execution_count": 92,
      "outputs": [
        {
          "output_type": "display_data",
          "data": {
            "image/png": "[encoded data removed]",
            "text/plain": [
              "<Figure size 576x288 with 1 Axes>"
            ]
          },
          "metadata": {
            "tags": []
          }
        }
      ]
    },
    {
      "cell_type": "code",
      "metadata": {
        "id": "1D93PammQb0r",
        "colab_type": "code",
        "outputId": "2d71a6fe-dc6d-435b-9ed6-4d146ea0caaa",
        "colab": {
          "base_uri": "https://localhost:8080/",
          "height": 295
        }
      },
      "source": [
        "print_loss(m1_hist, 'm1 - lstm')"
      ],
      "execution_count": 93,
      "outputs": [
        {
          "output_type": "display_data",
          "data": {
            "image/png": "[encoded data removed]",
            "text/plain": [
              "<Figure size 576x288 with 1 Axes>"
            ]
          },
          "metadata": {
            "tags": []
          }
        }
      ]
    },
    {
      "cell_type": "markdown",
      "metadata": {
        "id": "NSPvDeGsfbM7",
        "colab_type": "text"
      },
      "source": [
        "**Simple GRU**"
      ]
    },
    {
      "cell_type": "code",
      "metadata": {
        "id": "pKkMZvFeQfRm",
        "colab_type": "code",
        "outputId": "7ec7c9e6-a199-4fe1-d48f-8b86337b768a",
        "colab": {
          "base_uri": "https://localhost:8080/",
          "height": 289
        }
      },
      "source": [
        "m2 = Sequential()\n",
        "m2.add(Embedding(MAX_WORDS, 2, input_length=REVIEW_WORD_LEN))\n",
        "m2.add(Bidirectional(GRU(64)))\n",
        "m2.add(Dropout(0.5))\n",
        "m2.add(Dense(1, activation='sigmoid'))\n",
        "  \n",
        "m2.compile(optimizer='adam', loss='binary_crossentropy', metrics=['accuracy'])\n",
        "\n",
        "m2_cp = ModelCheckpoint('m2.hdf5', verbose=1, save_best_only=True)\n",
        "m2.summary()"
      ],
      "execution_count": 94,
      "outputs": [
        {
          "output_type": "stream",
          "text": [
            "Model: \"sequential_7\"\n",
            "_________________________________________________________________\n",
            "Layer (type)                 Output Shape              Param #   \n",
            "=================================================================\n",
            "embedding_7 (Embedding)      (None, 130, 2)            100000    \n",
            "_________________________________________________________________\n",
            "bidirectional_7 (Bidirection (None, 128)               26112     \n",
            "_________________________________________________________________\n",
            "dropout_6 (Dropout)          (None, 128)               0         \n",
            "_________________________________________________________________\n",
            "dense_10 (Dense)             (None, 1)                 129       \n",
            "=================================================================\n",
            "Total params: 126,241\n",
            "Trainable params: 126,241\n",
            "Non-trainable params: 0\n",
            "_________________________________________________________________\n"
          ],
          "name": "stdout"
        }
      ]
    },
    {
      "cell_type": "code",
      "metadata": {
        "id": "WwP1xVN2bDEU",
        "colab_type": "code",
        "outputId": "f1312316-2414-4db7-ed42-4d75da78d081",
        "colab": {
          "base_uri": "https://localhost:8080/",
          "height": 533
        }
      },
      "source": [
        "plot_model(m2,  to_file='m2.png', show_shapes=True, show_layer_names=True)\n",
        "Image('m2.png')"
      ],
      "execution_count": 95,
      "outputs": [
        {
          "output_type": "execute_result",
          "data": {
            "image/png": "[encoded data removed]",
            "text/plain": [
              "<IPython.core.display.Image object>"
            ]
          },
          "metadata": {
            "tags": []
          },
          "execution_count": 95
        }
      ]
    },
    {
      "cell_type": "code",
      "metadata": {
        "id": "PyvZpCWbbnFU",
        "colab_type": "code",
        "outputId": "7ed7fac4-a05c-43d1-9c3e-7a5d0cfa62b5",
        "colab": {
          "base_uri": "https://localhost:8080/",
          "height": 377
        }
      },
      "source": [
        "m2_hist = m2.fit(train_x, train_y, epochs=5, batch_size=64, validation_split=0.2, callbacks=[m2_cp])"
      ],
      "execution_count": 96,
      "outputs": [
        {
          "output_type": "stream",
          "text": [
            "Epoch 1/5\n",
            "312/313 [============================>.] - ETA: 0s - loss: 0.6230 - accuracy: 0.6533\n",
            "Epoch 00001: val_loss improved from inf to 0.57401, saving model to m2.hdf5\n",
            "313/313 [==============================] - 7s 22ms/step - loss: 0.6221 - accuracy: 0.6536 - val_loss: 0.5740 - val_accuracy: 0.7548\n",
            "Epoch 2/5\n",
            "312/313 [============================>.] - ETA: 0s - loss: 0.3228 - accuracy: 0.8670\n",
            "Epoch 00002: val_loss improved from 0.57401 to 0.41578, saving model to m2.hdf5\n",
            "313/313 [==============================] - 5s 17ms/step - loss: 0.3224 - accuracy: 0.8672 - val_loss: 0.4158 - val_accuracy: 0.8226\n",
            "Epoch 3/5\n",
            "313/313 [==============================] - ETA: 0s - loss: 0.2042 - accuracy: 0.9244\n",
            "Epoch 00003: val_loss improved from 0.41578 to 0.35564, saving model to m2.hdf5\n",
            "313/313 [==============================] - 5s 17ms/step - loss: 0.2042 - accuracy: 0.9244 - val_loss: 0.3556 - val_accuracy: 0.8486\n",
            "Epoch 4/5\n",
            "313/313 [==============================] - ETA: 0s - loss: 0.1454 - accuracy: 0.9503\n",
            "Epoch 00004: val_loss did not improve from 0.35564\n",
            "313/313 [==============================] - 5s 17ms/step - loss: 0.1454 - accuracy: 0.9503 - val_loss: 0.4177 - val_accuracy: 0.8438\n",
            "Epoch 5/5\n",
            "311/313 [============================>.] - ETA: 0s - loss: 0.1052 - accuracy: 0.9671\n",
            "Epoch 00005: val_loss did not improve from 0.35564\n",
            "313/313 [==============================] - 5s 17ms/step - loss: 0.1052 - accuracy: 0.9671 - val_loss: 0.4592 - val_accuracy: 0.8472\n"
          ],
          "name": "stdout"
        }
      ]
    },
    {
      "cell_type": "code",
      "metadata": {
        "id": "LcSK2CPubs3v",
        "colab_type": "code",
        "outputId": "24587388-afc1-47f1-a409-7eaae6ca2e5f",
        "colab": {
          "base_uri": "https://localhost:8080/",
          "height": 88
        }
      },
      "source": [
        "m2 = load_model('m2.hdf5')\n",
        "m2_loss, m2_acc = m2.evaluate(test_x, test_y)\n",
        "m2_loss, m2_acc"
      ],
      "execution_count": 97,
      "outputs": [
        {
          "output_type": "stream",
          "text": [
            "WARNING:tensorflow:Error in loading the saved optimizer state. As a result, your model is starting with a freshly initialized optimizer.\n",
            "782/782 [==============================] - 5s 7ms/step - loss: 0.3391 - accuracy: 0.8539\n"
          ],
          "name": "stdout"
        },
        {
          "output_type": "execute_result",
          "data": {
            "text/plain": [
              "(0.33913764357566833, 0.8539199829101562)"
            ]
          },
          "metadata": {
            "tags": []
          },
          "execution_count": 97
        }
      ]
    },
    {
      "cell_type": "code",
      "metadata": {
        "id": "tb_uODP1b0FM",
        "colab_type": "code",
        "outputId": "c46a463f-5d93-4153-aaf3-88298ac2a2dc",
        "colab": {
          "base_uri": "https://localhost:8080/",
          "height": 295
        }
      },
      "source": [
        "print_acc(m2_hist, 'm2 - gru')"
      ],
      "execution_count": 98,
      "outputs": [
        {
          "output_type": "display_data",
          "data": {
            "image/png": "[encoded data removed]",
            "text/plain": [
              "<Figure size 576x288 with 1 Axes>"
            ]
          },
          "metadata": {
            "tags": []
          }
        }
      ]
    },
    {
      "cell_type": "code",
      "metadata": {
        "id": "2MfhSgMyb4v4",
        "colab_type": "code",
        "outputId": "d876fd76-076d-4855-b801-cb67ad9bb2fe",
        "colab": {
          "base_uri": "https://localhost:8080/",
          "height": 295
        }
      },
      "source": [
        "print_loss(m2_hist, 'm2 - gru')"
      ],
      "execution_count": 99,
      "outputs": [
        {
          "output_type": "display_data",
          "data": {
            "image/png": "[encoded data removed]",
            "text/plain": [
              "<Figure size 576x288 with 1 Axes>"
            ]
          },
          "metadata": {
            "tags": []
          }
        }
      ]
    },
    {
      "cell_type": "code",
      "metadata": {
        "id": "fh7krBHJb_MC",
        "colab_type": "code",
        "colab": {}
      },
      "source": [
        ""
      ],
      "execution_count": 0,
      "outputs": []
    },
    {
      "cell_type": "markdown",
      "metadata": {
        "id": "clKSzL54fSki",
        "colab_type": "text"
      },
      "source": [
        "**Glove**"
      ]
    },
    {
      "cell_type": "code",
      "metadata": {
        "id": "8thMLv_KcLw1",
        "colab_type": "code",
        "outputId": "59902c45-ed54-49df-cf33-33988c04aaf3",
        "colab": {
          "base_uri": "https://localhost:8080/",
          "height": 357
        }
      },
      "source": [
        "! wget http://nlp.stanford.edu/data/glove.6B.zip"
      ],
      "execution_count": 100,
      "outputs": [
        {
          "output_type": "stream",
          "text": [
            "--2020-04-05 09:22:42--  http://nlp.stanford.edu/data/glove.6B.zip\n",
            "Resolving nlp.stanford.edu (nlp.stanford.edu)... 171.64.67.140\n",
            "Connecting to nlp.stanford.edu (nlp.stanford.edu)|171.64.67.140|:80... connected.\n",
            "HTTP request sent, awaiting response... 302 Found\n",
            "Location: https://nlp.stanford.edu/data/glove.6B.zip [following]\n",
            "--2020-04-05 09:22:43--  https://nlp.stanford.edu/data/glove.6B.zip\n",
            "Connecting to nlp.stanford.edu (nlp.stanford.edu)|171.64.67.140|:443... connected.\n",
            "HTTP request sent, awaiting response... 301 Moved Permanently\n",
            "Location: http://downloads.cs.stanford.edu/nlp/data/glove.6B.zip [following]\n",
            "--2020-04-05 09:22:43--  http://downloads.cs.stanford.edu/nlp/data/glove.6B.zip\n",
            "Resolving downloads.cs.stanford.edu (downloads.cs.stanford.edu)... 171.64.64.22\n",
            "Connecting to downloads.cs.stanford.edu (downloads.cs.stanford.edu)|171.64.64.22|:80... connected.\n",
            "HTTP request sent, awaiting response... 200 OK\n",
            "Length: 862182613 (822M) [application/zip]\n",
            "Saving to: ‘glove.6B.zip’\n",
            "\n",
            "glove.6B.zip        100%[===================>] 822.24M  2.03MB/s    in 6m 28s  \n",
            "\n",
            "2020-04-05 09:29:11 (2.12 MB/s) - ‘glove.6B.zip’ saved [862182613/862182613]\n",
            "\n"
          ],
          "name": "stdout"
        }
      ]
    },
    {
      "cell_type": "code",
      "metadata": {
        "id": "Vb78lh8JfYUr",
        "colab_type": "code",
        "outputId": "2770c78d-fe38-42fe-f7fa-1b8d40f459e3",
        "colab": {
          "base_uri": "https://localhost:8080/",
          "height": 102
        }
      },
      "source": [
        "!unzip glove.6B.zip"
      ],
      "execution_count": 101,
      "outputs": [
        {
          "output_type": "stream",
          "text": [
            "Archive:  glove.6B.zip\n",
            "  inflating: glove.6B.50d.txt        \n",
            "  inflating: glove.6B.100d.txt       \n",
            "  inflating: glove.6B.200d.txt       \n",
            "  inflating: glove.6B.300d.txt       \n"
          ],
          "name": "stdout"
        }
      ]
    },
    {
      "cell_type": "code",
      "metadata": {
        "id": "qL_mAewshIMI",
        "colab_type": "code",
        "colab": {}
      },
      "source": [
        "glove_embeddings_index = dict()\n",
        "f = open('glove.6B.100d.txt')\n",
        "for line in f:\n",
        "    values = line.split()\n",
        "    word = values[0]\n",
        "    coefs = np.asarray(values[1:], dtype='float32')\n",
        "    glove_embeddings_index[word] = coefs\n",
        "f.close()"
      ],
      "execution_count": 0,
      "outputs": []
    },
    {
      "cell_type": "code",
      "metadata": {
        "id": "pa8b3jWci1Ej",
        "colab_type": "code",
        "outputId": "96143028-cf78-451d-f535-5a25f71835c8",
        "colab": {
          "base_uri": "https://localhost:8080/",
          "height": 34
        }
      },
      "source": [
        "len(glove_embeddings_index.keys())"
      ],
      "execution_count": 103,
      "outputs": [
        {
          "output_type": "execute_result",
          "data": {
            "text/plain": [
              "400000"
            ]
          },
          "metadata": {
            "tags": []
          },
          "execution_count": 103
        }
      ]
    },
    {
      "cell_type": "code",
      "metadata": {
        "id": "eh67MpLCjDcw",
        "colab_type": "code",
        "colab": {}
      },
      "source": [
        "glove_embedding_matrix = np.zeros((MAX_WORDS, 100))\n",
        "\n",
        "for word, i in imdb_vocab.items():\n",
        "    embedding_vector = glove_embeddings_index.get(word)\n",
        "    if embedding_vector is not None:\n",
        "        glove_embedding_matrix[i] = embedding_vector"
      ],
      "execution_count": 0,
      "outputs": []
    },
    {
      "cell_type": "code",
      "metadata": {
        "id": "JNXa3Ok8jibJ",
        "colab_type": "code",
        "colab": {}
      },
      "source": [
        "m3 = Sequential()\n",
        "m3.add(Embedding(MAX_WORDS, 100, input_length=REVIEW_WORD_LEN, weights=[glove_embedding_matrix], trainable=False))\n",
        "m3.add(Bidirectional(LSTM(64)))\n",
        "m3.add(Dropout(0.5))\n",
        "m3.add(Dense(1, activation='sigmoid'))\n",
        "  \n",
        "m3.compile(optimizer='adam', loss='binary_crossentropy', metrics=['accuracy'])\n",
        "\n",
        "m3_cp = ModelCheckpoint('m3.hdf5', verbose=1, save_best_only=True)"
      ],
      "execution_count": 0,
      "outputs": []
    },
    {
      "cell_type": "code",
      "metadata": {
        "id": "DvMxYm4a1cc4",
        "colab_type": "code",
        "colab": {
          "base_uri": "https://localhost:8080/",
          "height": 289
        },
        "outputId": "6b7cb880-3ba8-4b06-d185-74891666ccd6"
      },
      "source": [
        "m3.summary()"
      ],
      "execution_count": 192,
      "outputs": [
        {
          "output_type": "stream",
          "text": [
            "Model: \"sequential_8\"\n",
            "_________________________________________________________________\n",
            "Layer (type)                 Output Shape              Param #   \n",
            "=================================================================\n",
            "embedding_8 (Embedding)      (None, 130, 100)          5000000   \n",
            "_________________________________________________________________\n",
            "bidirectional_8 (Bidirection (None, 128)               84480     \n",
            "_________________________________________________________________\n",
            "dropout_7 (Dropout)          (None, 128)               0         \n",
            "_________________________________________________________________\n",
            "dense_11 (Dense)             (None, 1)                 129       \n",
            "=================================================================\n",
            "Total params: 5,084,609\n",
            "Trainable params: 84,609\n",
            "Non-trainable params: 5,000,000\n",
            "_________________________________________________________________\n"
          ],
          "name": "stdout"
        }
      ]
    },
    {
      "cell_type": "code",
      "metadata": {
        "id": "uqGu--tlk7yE",
        "colab_type": "code",
        "outputId": "708929cf-e9d2-41e4-9399-0f56f02fc0ef",
        "colab": {
          "base_uri": "https://localhost:8080/",
          "height": 581
        }
      },
      "source": [
        "m3_hist = m3.fit(train_x, train_y, epochs=8, batch_size=64, validation_split=0.2, callbacks=[m3_cp])"
      ],
      "execution_count": 106,
      "outputs": [
        {
          "output_type": "stream",
          "text": [
            "Epoch 1/8\n",
            "313/313 [==============================] - ETA: 0s - loss: 0.5471 - accuracy: 0.7212\n",
            "Epoch 00001: val_loss improved from inf to 0.66660, saving model to m3.hdf5\n",
            "313/313 [==============================] - 6s 20ms/step - loss: 0.5471 - accuracy: 0.7212 - val_loss: 0.6666 - val_accuracy: 0.6274\n",
            "Epoch 2/8\n",
            "310/313 [============================>.] - ETA: 0s - loss: 0.4376 - accuracy: 0.8030\n",
            "Epoch 00002: val_loss improved from 0.66660 to 0.47134, saving model to m3.hdf5\n",
            "313/313 [==============================] - 5s 18ms/step - loss: 0.4374 - accuracy: 0.8033 - val_loss: 0.4713 - val_accuracy: 0.7840\n",
            "Epoch 3/8\n",
            "310/313 [============================>.] - ETA: 0s - loss: 0.3937 - accuracy: 0.8277\n",
            "Epoch 00003: val_loss did not improve from 0.47134\n",
            "313/313 [==============================] - 5s 18ms/step - loss: 0.3930 - accuracy: 0.8281 - val_loss: 0.5254 - val_accuracy: 0.7658\n",
            "Epoch 4/8\n",
            "313/313 [==============================] - ETA: 0s - loss: 0.3629 - accuracy: 0.8440\n",
            "Epoch 00004: val_loss did not improve from 0.47134\n",
            "313/313 [==============================] - 5s 17ms/step - loss: 0.3629 - accuracy: 0.8440 - val_loss: 0.5055 - val_accuracy: 0.7444\n",
            "Epoch 5/8\n",
            "312/313 [============================>.] - ETA: 0s - loss: 0.3425 - accuracy: 0.8545\n",
            "Epoch 00005: val_loss did not improve from 0.47134\n",
            "313/313 [==============================] - 5s 17ms/step - loss: 0.3422 - accuracy: 0.8546 - val_loss: 0.5236 - val_accuracy: 0.7490\n",
            "Epoch 6/8\n",
            "310/313 [============================>.] - ETA: 0s - loss: 0.3229 - accuracy: 0.8649\n",
            "Epoch 00006: val_loss improved from 0.47134 to 0.39143, saving model to m3.hdf5\n",
            "313/313 [==============================] - 6s 18ms/step - loss: 0.3225 - accuracy: 0.8650 - val_loss: 0.3914 - val_accuracy: 0.8320\n",
            "Epoch 7/8\n",
            "311/313 [============================>.] - ETA: 0s - loss: 0.3079 - accuracy: 0.8723\n",
            "Epoch 00007: val_loss did not improve from 0.39143\n",
            "313/313 [==============================] - 5s 17ms/step - loss: 0.3074 - accuracy: 0.8725 - val_loss: 0.4991 - val_accuracy: 0.7656\n",
            "Epoch 8/8\n",
            "310/313 [============================>.] - ETA: 0s - loss: 0.2890 - accuracy: 0.8817\n",
            "Epoch 00008: val_loss did not improve from 0.39143\n",
            "313/313 [==============================] - 5s 17ms/step - loss: 0.2890 - accuracy: 0.8820 - val_loss: 0.4074 - val_accuracy: 0.8230\n"
          ],
          "name": "stdout"
        }
      ]
    },
    {
      "cell_type": "code",
      "metadata": {
        "id": "4rTNAjjElDm9",
        "colab_type": "code",
        "outputId": "040fbea3-c7df-4186-9c22-19bd1bb2c0b2",
        "colab": {
          "base_uri": "https://localhost:8080/",
          "height": 88
        }
      },
      "source": [
        "m3 = load_model('m3.hdf5')\n",
        "m3_loss, m3_acc = m3.evaluate(test_x, test_y)\n",
        "m3_loss, m3_acc"
      ],
      "execution_count": 107,
      "outputs": [
        {
          "output_type": "stream",
          "text": [
            "WARNING:tensorflow:Error in loading the saved optimizer state. As a result, your model is starting with a freshly initialized optimizer.\n",
            "782/782 [==============================] - 6s 7ms/step - loss: 0.3567 - accuracy: 0.8467\n"
          ],
          "name": "stdout"
        },
        {
          "output_type": "execute_result",
          "data": {
            "text/plain": [
              "(0.3567250370979309, 0.8467199802398682)"
            ]
          },
          "metadata": {
            "tags": []
          },
          "execution_count": 107
        }
      ]
    },
    {
      "cell_type": "code",
      "metadata": {
        "id": "LWHLUlwFmAOg",
        "colab_type": "code",
        "outputId": "ae453286-75a8-43fa-9c89-8ca45972b76e",
        "colab": {
          "base_uri": "https://localhost:8080/",
          "height": 295
        }
      },
      "source": [
        "print_acc(m3_hist, 'm3 - GloVe')"
      ],
      "execution_count": 108,
      "outputs": [
        {
          "output_type": "display_data",
          "data": {
            "image/png": "[encoded data removed]",
            "text/plain": [
              "<Figure size 576x288 with 1 Axes>"
            ]
          },
          "metadata": {
            "tags": []
          }
        }
      ]
    },
    {
      "cell_type": "code",
      "metadata": {
        "id": "HlQSwdf5mH5W",
        "colab_type": "code",
        "outputId": "4b48b92a-3dad-44df-fad5-3b4296ea5d75",
        "colab": {
          "base_uri": "https://localhost:8080/",
          "height": 295
        }
      },
      "source": [
        "print_loss(m3_hist, 'm3 - GloVe')"
      ],
      "execution_count": 109,
      "outputs": [
        {
          "output_type": "display_data",
          "data": {
            "image/png": "[encoded data removed]",
            "text/plain": [
              "<Figure size 576x288 with 1 Axes>"
            ]
          },
          "metadata": {
            "tags": []
          }
        }
      ]
    },
    {
      "cell_type": "code",
      "metadata": {
        "id": "BEA-D3FzmM1e",
        "colab_type": "code",
        "colab": {}
      },
      "source": [
        ""
      ],
      "execution_count": 0,
      "outputs": []
    },
    {
      "cell_type": "markdown",
      "metadata": {
        "id": "HXVAXq9_xMCz",
        "colab_type": "text"
      },
      "source": [
        "**Word 2 Vec**"
      ]
    },
    {
      "cell_type": "code",
      "metadata": {
        "id": "iJ47loURxOK8",
        "colab_type": "code",
        "colab": {}
      },
      "source": [
        "from gensim.models import Word2Vec, KeyedVectors"
      ],
      "execution_count": 0,
      "outputs": []
    },
    {
      "cell_type": "code",
      "metadata": {
        "id": "JvKyHEfXy0z_",
        "colab_type": "code",
        "colab": {}
      },
      "source": [
        "w2v_df = df_clean_text(original_train_df.copy())"
      ],
      "execution_count": 0,
      "outputs": []
    },
    {
      "cell_type": "code",
      "metadata": {
        "id": "bUaMuXDYszBF",
        "colab_type": "code",
        "colab": {}
      },
      "source": [
        "EMB_VEC_LEN=100"
      ],
      "execution_count": 0,
      "outputs": []
    },
    {
      "cell_type": "code",
      "metadata": {
        "id": "F9S_18-uzvnq",
        "colab_type": "code",
        "colab": {}
      },
      "source": [
        "w2v_model = Word2Vec(sentences=w2v_df['text'].values, size=EMB_VEC_LEN, min_count=0, window=5)"
      ],
      "execution_count": 0,
      "outputs": []
    },
    {
      "cell_type": "code",
      "metadata": {
        "id": "Y7qNf5GU04IT",
        "colab_type": "code",
        "colab": {}
      },
      "source": [
        "word_vectors = w2v_model.wv"
      ],
      "execution_count": 0,
      "outputs": []
    },
    {
      "cell_type": "code",
      "metadata": {
        "id": "-868yoLF2JH2",
        "colab_type": "code",
        "colab": {}
      },
      "source": [
        "w2v_embedding_matrix = np.zeros((MAX_WORDS, EMB_VEC_LEN))\n",
        "\n",
        "for word, i in imdb_vocab.items():\n",
        "    if word in word_vectors:\n",
        "        w2v_embedding_matrix[i] = word_vectors[word]"
      ],
      "execution_count": 0,
      "outputs": []
    },
    {
      "cell_type": "code",
      "metadata": {
        "id": "pUnjvazq2dhn",
        "colab_type": "code",
        "colab": {}
      },
      "source": [
        "m4 = Sequential()\n",
        "m4.add(Embedding(MAX_WORDS, EMB_VEC_LEN, input_length=REVIEW_WORD_LEN, weights=[w2v_embedding_matrix], trainable=False))\n",
        "m4.add(Bidirectional(LSTM(120)))\n",
        "m4.add(Dropout(0.5))\n",
        "m4.add(Dense(1, activation='sigmoid'))\n",
        "  \n",
        "m4.compile(optimizer='adam', loss='binary_crossentropy', metrics=['accuracy'])\n",
        "\n",
        "m4_cp = ModelCheckpoint('m4.hdf5', verbose=1, save_best_only=True)\n",
        "#m3.summary()"
      ],
      "execution_count": 0,
      "outputs": []
    },
    {
      "cell_type": "code",
      "metadata": {
        "id": "OPiBwnQK6Uup",
        "colab_type": "code",
        "outputId": "b4fa8600-93e8-4c21-b042-1a387f8be734",
        "colab": {
          "base_uri": "https://localhost:8080/",
          "height": 377
        }
      },
      "source": [
        "m4_hist = m4.fit(train_x, train_y, epochs=5, batch_size=64, validation_split=0.2, callbacks=[m4_cp])"
      ],
      "execution_count": 155,
      "outputs": [
        {
          "output_type": "stream",
          "text": [
            "Epoch 1/5\n",
            "313/313 [==============================] - ETA: 0s - loss: 0.4926 - accuracy: 0.7639\n",
            "Epoch 00001: val_loss improved from inf to 0.57061, saving model to m4.hdf5\n",
            "313/313 [==============================] - 7s 23ms/step - loss: 0.4926 - accuracy: 0.7639 - val_loss: 0.5706 - val_accuracy: 0.7132\n",
            "Epoch 2/5\n",
            "313/313 [==============================] - ETA: 0s - loss: 0.3994 - accuracy: 0.8249\n",
            "Epoch 00002: val_loss did not improve from 0.57061\n",
            "313/313 [==============================] - 6s 20ms/step - loss: 0.3994 - accuracy: 0.8249 - val_loss: 0.5946 - val_accuracy: 0.7100\n",
            "Epoch 3/5\n",
            "313/313 [==============================] - ETA: 0s - loss: 0.3634 - accuracy: 0.8439\n",
            "Epoch 00003: val_loss improved from 0.57061 to 0.51042, saving model to m4.hdf5\n",
            "313/313 [==============================] - 6s 21ms/step - loss: 0.3634 - accuracy: 0.8439 - val_loss: 0.5104 - val_accuracy: 0.7398\n",
            "Epoch 4/5\n",
            "313/313 [==============================] - ETA: 0s - loss: 0.3348 - accuracy: 0.8586\n",
            "Epoch 00004: val_loss improved from 0.51042 to 0.46751, saving model to m4.hdf5\n",
            "313/313 [==============================] - 6s 21ms/step - loss: 0.3348 - accuracy: 0.8586 - val_loss: 0.4675 - val_accuracy: 0.7450\n",
            "Epoch 5/5\n",
            "313/313 [==============================] - ETA: 0s - loss: 0.3204 - accuracy: 0.8655\n",
            "Epoch 00005: val_loss improved from 0.46751 to 0.43204, saving model to m4.hdf5\n",
            "313/313 [==============================] - 6s 21ms/step - loss: 0.3204 - accuracy: 0.8655 - val_loss: 0.4320 - val_accuracy: 0.8218\n"
          ],
          "name": "stdout"
        }
      ]
    },
    {
      "cell_type": "code",
      "metadata": {
        "id": "VrmX0rgo7BPs",
        "colab_type": "code",
        "outputId": "91f76b49-3f3b-47dc-d17d-94f0c249149a",
        "colab": {
          "base_uri": "https://localhost:8080/",
          "height": 88
        }
      },
      "source": [
        "m4 = load_model('m4.hdf5')\n",
        "m4_loss, m4_acc = m4.evaluate(test_x, test_y)\n",
        "m4_loss, m4_acc"
      ],
      "execution_count": 156,
      "outputs": [
        {
          "output_type": "stream",
          "text": [
            "WARNING:tensorflow:Error in loading the saved optimizer state. As a result, your model is starting with a freshly initialized optimizer.\n",
            "782/782 [==============================] - 6s 8ms/step - loss: 0.3393 - accuracy: 0.8543\n"
          ],
          "name": "stdout"
        },
        {
          "output_type": "execute_result",
          "data": {
            "text/plain": [
              "(0.3392564654350281, 0.8542799949645996)"
            ]
          },
          "metadata": {
            "tags": []
          },
          "execution_count": 156
        }
      ]
    },
    {
      "cell_type": "code",
      "metadata": {
        "id": "cwNmiwES8Obe",
        "colab_type": "code",
        "outputId": "67ee4b34-29de-489e-f34e-5c9c71ae09f1",
        "colab": {
          "base_uri": "https://localhost:8080/",
          "height": 295
        }
      },
      "source": [
        "print_acc(m4_hist, 'm4 - Word2Vec')"
      ],
      "execution_count": 157,
      "outputs": [
        {
          "output_type": "display_data",
          "data": {
            "image/png": "[encoded data removed]",
            "text/plain": [
              "<Figure size 576x288 with 1 Axes>"
            ]
          },
          "metadata": {
            "tags": []
          }
        }
      ]
    },
    {
      "cell_type": "code",
      "metadata": {
        "id": "REAegwUlAeIo",
        "colab_type": "code",
        "outputId": "57f4372c-10b8-45b7-cab1-e8994f5c367a",
        "colab": {
          "base_uri": "https://localhost:8080/",
          "height": 295
        }
      },
      "source": [
        "print_loss(m4_hist, 'm4 - Word2Vec')"
      ],
      "execution_count": 158,
      "outputs": [
        {
          "output_type": "display_data",
          "data": {
            "image/png": "[encoded data removed]",
            "text/plain": [
              "<Figure size 576x288 with 1 Axes>"
            ]
          },
          "metadata": {
            "tags": []
          }
        }
      ]
    },
    {
      "cell_type": "code",
      "metadata": {
        "id": "H_H_J2qouvf5",
        "colab_type": "code",
        "colab": {}
      },
      "source": [
        "m5 = Sequential()\n",
        "m5.add(Embedding(MAX_WORDS, EMB_VEC_LEN, input_length=REVIEW_WORD_LEN, weights=[w2v_embedding_matrix], trainable=False))\n",
        "m5.add(Bidirectional(LSTM(64, return_sequences=True)))\n",
        "m5.add(Bidirectional(LSTM(32)))\n",
        "m5.add(Dropout(0.5))\n",
        "m5.add(Dense(1, activation='sigmoid'))\n",
        "  \n",
        "m5.compile(optimizer='adam', loss='binary_crossentropy', metrics=['accuracy'])\n",
        "\n",
        "m5_cp = ModelCheckpoint('m5.hdf5', verbose=1, save_best_only=True)"
      ],
      "execution_count": 0,
      "outputs": []
    },
    {
      "cell_type": "code",
      "metadata": {
        "id": "mUlhlpIs4EVu",
        "colab_type": "code",
        "colab": {
          "base_uri": "https://localhost:8080/",
          "height": 323
        },
        "outputId": "8e2691b4-2612-4fc3-bc60-4dc603530b7e"
      },
      "source": [
        "m5.summary()"
      ],
      "execution_count": 193,
      "outputs": [
        {
          "output_type": "stream",
          "text": [
            "Model: \"sequential_20\"\n",
            "_________________________________________________________________\n",
            "Layer (type)                 Output Shape              Param #   \n",
            "=================================================================\n",
            "embedding_20 (Embedding)     (None, 130, 100)          5000000   \n",
            "_________________________________________________________________\n",
            "bidirectional_21 (Bidirectio (None, 130, 128)          84480     \n",
            "_________________________________________________________________\n",
            "bidirectional_22 (Bidirectio (None, 64)                41216     \n",
            "_________________________________________________________________\n",
            "dropout_19 (Dropout)         (None, 64)                0         \n",
            "_________________________________________________________________\n",
            "dense_23 (Dense)             (None, 1)                 65        \n",
            "=================================================================\n",
            "Total params: 5,125,761\n",
            "Trainable params: 125,761\n",
            "Non-trainable params: 5,000,000\n",
            "_________________________________________________________________\n"
          ],
          "name": "stdout"
        }
      ]
    },
    {
      "cell_type": "code",
      "metadata": {
        "id": "AKt8m0_Su54v",
        "colab_type": "code",
        "colab": {
          "base_uri": "https://localhost:8080/",
          "height": 377
        },
        "outputId": "34f28930-c0e2-454a-8a13-f8a24281da55"
      },
      "source": [
        "m5_hist = m5.fit(train_x, train_y, epochs=5, batch_size=64, validation_split=0.2, callbacks=[m5_cp])"
      ],
      "execution_count": 166,
      "outputs": [
        {
          "output_type": "stream",
          "text": [
            "Epoch 1/5\n",
            "313/313 [==============================] - ETA: 0s - loss: 0.5032 - accuracy: 0.7555\n",
            "Epoch 00001: val_loss improved from inf to 0.56758, saving model to m5.hdf5\n",
            "313/313 [==============================] - 11s 35ms/step - loss: 0.5032 - accuracy: 0.7555 - val_loss: 0.5676 - val_accuracy: 0.6872\n",
            "Epoch 2/5\n",
            "313/313 [==============================] - ETA: 0s - loss: 0.3959 - accuracy: 0.8248\n",
            "Epoch 00002: val_loss did not improve from 0.56758\n",
            "313/313 [==============================] - 10s 31ms/step - loss: 0.3959 - accuracy: 0.8248 - val_loss: 0.6539 - val_accuracy: 0.6500\n",
            "Epoch 3/5\n",
            "313/313 [==============================] - ETA: 0s - loss: 0.3523 - accuracy: 0.8482\n",
            "Epoch 00003: val_loss did not improve from 0.56758\n",
            "313/313 [==============================] - 10s 30ms/step - loss: 0.3523 - accuracy: 0.8482 - val_loss: 0.6029 - val_accuracy: 0.6794\n",
            "Epoch 4/5\n",
            "313/313 [==============================] - ETA: 0s - loss: 0.3355 - accuracy: 0.8594\n",
            "Epoch 00004: val_loss improved from 0.56758 to 0.41262, saving model to m5.hdf5\n",
            "313/313 [==============================] - 10s 31ms/step - loss: 0.3355 - accuracy: 0.8594 - val_loss: 0.4126 - val_accuracy: 0.8120\n",
            "Epoch 5/5\n",
            "313/313 [==============================] - ETA: 0s - loss: 0.3158 - accuracy: 0.8681\n",
            "Epoch 00005: val_loss did not improve from 0.41262\n",
            "313/313 [==============================] - 10s 30ms/step - loss: 0.3158 - accuracy: 0.8681 - val_loss: 0.5767 - val_accuracy: 0.6996\n"
          ],
          "name": "stdout"
        }
      ]
    },
    {
      "cell_type": "code",
      "metadata": {
        "id": "klLwMnZ5u9dU",
        "colab_type": "code",
        "colab": {
          "base_uri": "https://localhost:8080/",
          "height": 88
        },
        "outputId": "c8bef771-9eb3-4a6d-a867-9ecaae0e6b2f"
      },
      "source": [
        "m5 = load_model('m5.hdf5')\n",
        "m5_loss, m5_acc = m5.evaluate(test_x, test_y)\n",
        "m5_loss, m5_acc"
      ],
      "execution_count": 167,
      "outputs": [
        {
          "output_type": "stream",
          "text": [
            "WARNING:tensorflow:Error in loading the saved optimizer state. As a result, your model is starting with a freshly initialized optimizer.\n",
            "782/782 [==============================] - 9s 12ms/step - loss: 0.3371 - accuracy: 0.8503\n"
          ],
          "name": "stdout"
        },
        {
          "output_type": "execute_result",
          "data": {
            "text/plain": [
              "(0.3371092677116394, 0.8502799868583679)"
            ]
          },
          "metadata": {
            "tags": []
          },
          "execution_count": 167
        }
      ]
    },
    {
      "cell_type": "code",
      "metadata": {
        "id": "OOV-Kt3IvBw5",
        "colab_type": "code",
        "colab": {}
      },
      "source": [
        "labels = [\n",
        "    'Base - LSTM',\n",
        "    'Base - GRU',\n",
        "    'Glove - LSTM',\n",
        "    'Word2Vec - LSTM',\n",
        "    'Word2Vec - LSTMx2',\n",
        "    'DeepMoji - scratch',\n",
        "    'DeepMoji - pretrained'\n",
        "]\n",
        "\n",
        "test_acc = [\n",
        "    m1_acc,\n",
        "    m2_acc,\n",
        "    m3_acc,\n",
        "    m4_acc,\n",
        "    m5_acc,\n",
        "    0.8401600122451782,\n",
        "    0.5067\n",
        "]"
      ],
      "execution_count": 0,
      "outputs": []
    },
    {
      "cell_type": "code",
      "metadata": {
        "id": "40Hs-h4IwMFF",
        "colab_type": "code",
        "colab": {
          "base_uri": "https://localhost:8080/",
          "height": 324
        },
        "outputId": "db7a2e73-1feb-46ee-9001-06be58639088"
      },
      "source": [
        "plt.figure(figsize=(16, 5))\n",
        "#ax = fig.add_axes([0,0,1,1])\n",
        "plt.bar(labels,test_acc, color=['Blue', 'Orange', 'Green', 'Red'])\n",
        "plt.ylim(0.4, 0.9)\n",
        "plt.show()"
      ],
      "execution_count": 202,
      "outputs": [
        {
          "output_type": "display_data",
          "data": {
            "image/png": "[encoded data removed]",
            "text/plain": [
              "<Figure size 1152x360 with 1 Axes>"
            ]
          },
          "metadata": {
            "tags": []
          }
        }
      ]
    },
    {
      "cell_type": "code",
      "metadata": {
        "id": "JxksFn5qwqf8",
        "colab_type": "code",
        "colab": {}
      },
      "source": [
        ""
      ],
      "execution_count": 0,
      "outputs": []
    }
  ]
}