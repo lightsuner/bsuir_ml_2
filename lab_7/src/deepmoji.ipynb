{
  "nbformat": 4,
  "nbformat_minor": 0,
  "metadata": {
    "colab": {
      "name": "deepmoji.ipynb",
      "provenance": [],
      "collapsed_sections": []
    },
    "kernelspec": {
      "name": "python3",
      "display_name": "Python 3"
    },
    "accelerator": "GPU"
  },
  "cells": [
    {
      "cell_type": "code",
      "metadata": {
        "id": "5poKPWR962_1",
        "colab_type": "code",
        "colab": {}
      },
      "source": [
        "from tensorflow.keras.models import Sequential,  load_model, Model\n",
        "from tensorflow.keras.layers import Input, Dense, Dropout, LSTM, GRU, Embedding, Bidirectional, Activation, SpatialDropout1D, TimeDistributed\n",
        "from tensorflow.keras.callbacks import ModelCheckpoint\n",
        "from tensorflow.keras.regularizers import L1L2\n",
        "from tensorflow.keras import initializers\n",
        "from tensorflow.keras.layers import InputSpec, Layer, concatenate\n",
        "from tensorflow.keras import backend as K\n",
        "import numpy as np\n",
        "import matplotlib.pyplot as plt\n",
        "from tensorflow.keras.callbacks import ModelCheckpoint"
      ],
      "execution_count": 0,
      "outputs": []
    },
    {
      "cell_type": "code",
      "metadata": {
        "id": "iJ7tLrr_E-iI",
        "colab_type": "code",
        "colab": {}
      },
      "source": [
        "from sklearn.utils import shuffle"
      ],
      "execution_count": 0,
      "outputs": []
    },
    {
      "cell_type": "code",
      "metadata": {
        "id": "x0MXHB8z8H4Y",
        "colab_type": "code",
        "colab": {}
      },
      "source": [
        "class AttentionWeightedAverage(Layer):\n",
        "    \"\"\"\n",
        "    Computes a weighted average of the different channels across timesteps.\n",
        "    Uses 1 parameter pr. channel to compute the attention value for a single timestep.\n",
        "    \"\"\"\n",
        "\n",
        "    def __init__(self, return_attention=False, **kwargs):\n",
        "        self.init = initializers.get('uniform')\n",
        "        self.supports_masking = True\n",
        "        self.return_attention = return_attention\n",
        "        super(AttentionWeightedAverage, self).__init__(** kwargs)\n",
        "\n",
        "    def build(self, input_shape):\n",
        "        self.input_spec = [InputSpec(ndim=3)]\n",
        "        assert len(input_shape) == 3\n",
        "\n",
        "        self.W = self.add_weight(shape=(input_shape[2], 1),\n",
        "                                 name='{}_W'.format(self.name),\n",
        "                                 initializer=self.init,\n",
        "                                 trainable=True)\n",
        "        #self.trainable_weights = [self.W]\n",
        "        super(AttentionWeightedAverage, self).build(input_shape)\n",
        "\n",
        "    def call(self, x, mask=None):\n",
        "        # computes a probability distribution over the timesteps\n",
        "        # uses 'max trick' for numerical stability\n",
        "        # reshape is done to avoid issue with Tensorflow\n",
        "        # and 1-dimensional weights\n",
        "        logits = K.dot(x, self.W)\n",
        "        x_shape = K.shape(x)\n",
        "        logits = K.reshape(logits, (x_shape[0], x_shape[1]))\n",
        "        ai = K.exp(logits - K.max(logits, axis=-1, keepdims=True))\n",
        "\n",
        "        # masked timesteps have zero weight\n",
        "        if mask is not None:\n",
        "            mask = K.cast(mask, K.floatx())\n",
        "            ai = ai * mask\n",
        "        att_weights = ai / K.sum(ai, axis=1, keepdims=True)\n",
        "        weighted_input = x * K.expand_dims(att_weights)\n",
        "        result = K.sum(weighted_input, axis=1)\n",
        "        if self.return_attention:\n",
        "            return [result, att_weights]\n",
        "        return result\n",
        "\n",
        "    def get_output_shape_for(self, input_shape):\n",
        "        return self.compute_output_shape(input_shape)\n",
        "\n",
        "    def compute_output_shape(self, input_shape):\n",
        "        output_len = input_shape[2]\n",
        "        if self.return_attention:\n",
        "            return [(input_shape[0], output_len), (input_shape[0], input_shape[1])]\n",
        "        return (input_shape[0], output_len)\n",
        "\n",
        "    def compute_mask(self, input, input_mask=None):\n",
        "        if isinstance(input_mask, list):\n",
        "            return [None] * len(input_mask)\n",
        "        else:\n",
        "            return None"
      ],
      "execution_count": 0,
      "outputs": []
    },
    {
      "cell_type": "code",
      "metadata": {
        "id": "sNcsmz9D64nT",
        "colab_type": "code",
        "colab": {}
      },
      "source": [
        "def deepmoji_architecture(nb_classes, nb_tokens, maxlen, feature_output=False, embed_dropout_rate=0, final_dropout_rate=0, embed_l2=1E-6, return_attention=False):\n",
        "    \"\"\"\n",
        "    Returns the DeepMoji architecture uninitialized and\n",
        "    without using the pretrained model weights.\n",
        "    # Arguments:\n",
        "        nb_classes: Number of classes in the dataset.\n",
        "        nb_tokens: Number of tokens in the dataset (i.e. vocabulary size).\n",
        "        maxlen: Maximum length of a token.\n",
        "        feature_output: If True the model returns the penultimate\n",
        "                        feature vector rather than Softmax probabilities\n",
        "                        (defaults to False).\n",
        "        embed_dropout_rate: Dropout rate for the embedding layer.\n",
        "        final_dropout_rate: Dropout rate for the final Softmax layer.\n",
        "        embed_l2: L2 regularization for the embedding layerl.\n",
        "    # Returns:\n",
        "        Model with the given parameters.\n",
        "    \"\"\"\n",
        "    # define embedding layer that turns word tokens into vectors\n",
        "    # an activation function is used to bound the values of the embedding\n",
        "    model_input = Input(shape=(maxlen,), dtype='int32')\n",
        "    embed_reg = L1L2(l2=embed_l2) if embed_l2 != 0 else None\n",
        "    embed = Embedding(input_dim=nb_tokens,\n",
        "                      output_dim=256,\n",
        "                      mask_zero=True,\n",
        "                      input_length=maxlen,\n",
        "                      embeddings_regularizer=embed_reg,\n",
        "                      name='embedding')\n",
        "\n",
        "    x = embed(model_input)\n",
        "    x = Activation('tanh')(x)\n",
        "\n",
        "    # entire embedding channels are dropped out instead of the\n",
        "    # normal Keras embedding dropout, which drops all channels for entire words\n",
        "    # many of the datasets contain so few words that losing one or more words can alter the emotions completely\n",
        "    if embed_dropout_rate != 0:\n",
        "        embed_drop = SpatialDropout1D(embed_dropout_rate, name='embed_drop')\n",
        "        x = embed_drop(x)\n",
        "\n",
        "    # skip-connection from embedding to output eases gradient-flow and allows access to lower-level features\n",
        "    # ordering of the way the merge is done is important for consistency with the pretrained model\n",
        "    lstm_0_output = Bidirectional(LSTM(512, return_sequences=True), name=\"bi_lstm_0\")(x)\n",
        "    lstm_1_output = Bidirectional(LSTM(512, return_sequences=True), name=\"bi_lstm_1\")(lstm_0_output)\n",
        "    x = concatenate([lstm_1_output, lstm_0_output, x])\n",
        "\n",
        "    # if return_attention is True in AttentionWeightedAverage, an additional tensor\n",
        "    # representing the weight at each timestep is returned\n",
        "    weights = None\n",
        "    x = AttentionWeightedAverage(name='attlayer', return_attention=return_attention)(x)\n",
        "    if return_attention:\n",
        "        x, weights = x\n",
        "\n",
        "    if feature_output == False:\n",
        "        # output class probabilities\n",
        "        if final_dropout_rate != 0:\n",
        "            x = Dropout(final_dropout_rate)(x)\n",
        "\n",
        "        if nb_classes > 2:\n",
        "            outputs = [Dense(nb_classes, activation='softmax', name='softmax')(x)]\n",
        "        else:\n",
        "            outputs = [Dense(1, activation='sigmoid', name='softmax')(x)]\n",
        "    else:\n",
        "        # output penultimate feature vector\n",
        "        outputs = [x]\n",
        "\n",
        "    if return_attention:\n",
        "        # add the attention weights to the outputs if required\n",
        "        outputs.append(weights)\n",
        "\n",
        "    return Model(inputs=[model_input], outputs=outputs, name=\"DeepMoji\")"
      ],
      "execution_count": 0,
      "outputs": []
    },
    {
      "cell_type": "code",
      "metadata": {
        "id": "9GlSAH7F8lu0",
        "colab_type": "code",
        "colab": {}
      },
      "source": [
        "def plot_curves(title, data, y_title, x_title='Epoch', legend=[], x_labels_offset = 0):\n",
        "    fig = plt.figure(figsize=(8, 4))\n",
        "        \n",
        "    for row in data:\n",
        "        x = range(x_labels_offset, len(row))\n",
        "        plt.plot(x, row[x_labels_offset:])\n",
        "    \n",
        "    plt.title(title)\n",
        "    plt.ylabel(y_title)\n",
        "    plt.xlabel(x_title)\n",
        "    plt.grid(True)\n",
        "    plt.legend(legend, loc='upper left')\n",
        "    plt.show()\n",
        "\n",
        "def print_loss(history, title=''):\n",
        "  plot_curves(f'{title} - Loss', \n",
        "            [\n",
        "              history.history['loss'], history.history['val_loss']\n",
        "            ], 'Loss', 'Epoch',\n",
        "            [\n",
        "              'Train', 'Valid'\n",
        "            ]\n",
        "            )\n",
        "  \n",
        "def print_acc(history, title=''):\n",
        "  plot_curves(\n",
        "      f'{title} - Accuracy', \n",
        "      [history.history['accuracy'], history.history['val_accuracy']], \n",
        "      'Accuracy', 'Epoch', \n",
        "      ['Train', 'Valid']\n",
        "      )"
      ],
      "execution_count": 0,
      "outputs": []
    },
    {
      "cell_type": "code",
      "metadata": {
        "id": "Vl7pVpEC8_Wy",
        "colab_type": "code",
        "outputId": "d973f7c3-17a7-4c72-da49-90b2392da759",
        "colab": {
          "base_uri": "https://localhost:8080/",
          "height": 34
        }
      },
      "source": [
        "train_data = np.load('./train.npz')\n",
        "train_x, train_y = train_data['arr_0'], train_data['arr_1']\n",
        "train_x.shape, train_y.shape"
      ],
      "execution_count": 8,
      "outputs": [
        {
          "output_type": "execute_result",
          "data": {
            "text/plain": [
              "((25000, 130), (25000,))"
            ]
          },
          "metadata": {
            "tags": []
          },
          "execution_count": 8
        }
      ]
    },
    {
      "cell_type": "code",
      "metadata": {
        "id": "G7z7VPzd9Eca",
        "colab_type": "code",
        "outputId": "c6fa8120-5a6c-4dbd-d289-c755253763e2",
        "colab": {
          "base_uri": "https://localhost:8080/",
          "height": 34
        }
      },
      "source": [
        "test_data = np.load('./test.npz')\n",
        "test_x, test_y = test_data['arr_0'], test_data['arr_1']\n",
        "test_x.shape, test_y.shape"
      ],
      "execution_count": 7,
      "outputs": [
        {
          "output_type": "execute_result",
          "data": {
            "text/plain": [
              "((25000, 130), (25000,))"
            ]
          },
          "metadata": {
            "tags": []
          },
          "execution_count": 7
        }
      ]
    },
    {
      "cell_type": "code",
      "metadata": {
        "id": "7J_t0v5OFBZs",
        "colab_type": "code",
        "colab": {}
      },
      "source": [
        "test_x, test_y = shuffle(test_x, test_y, random_state=42)"
      ],
      "execution_count": 0,
      "outputs": []
    },
    {
      "cell_type": "code",
      "metadata": {
        "id": "jplWWSXpFGQo",
        "colab_type": "code",
        "colab": {}
      },
      "source": [
        "train_x, train_y = shuffle(train_x, train_y, random_state=42)"
      ],
      "execution_count": 0,
      "outputs": []
    },
    {
      "cell_type": "code",
      "metadata": {
        "id": "oMC95P_n9F-C",
        "colab_type": "code",
        "outputId": "d1258b9d-049d-48cd-b33d-dd83da1699c7",
        "colab": {
          "base_uri": "https://localhost:8080/",
          "height": 459
        }
      },
      "source": [
        "model1 = deepmoji_architecture(nb_classes=2, nb_tokens=50000, maxlen=130)\n",
        "model1.summary()\n",
        "\n",
        "model1.compile(loss='binary_crossentropy',\n",
        "              optimizer='adam',\n",
        "              metrics=['accuracy'])\n",
        "\n",
        "model1_cp = ModelCheckpoint('dpmj.hdf5', verbose=1, save_best_only=True)"
      ],
      "execution_count": 44,
      "outputs": [
        {
          "output_type": "stream",
          "text": [
            "Model: \"DeepMoji\"\n",
            "__________________________________________________________________________________________________\n",
            "Layer (type)                    Output Shape         Param #     Connected to                     \n",
            "==================================================================================================\n",
            "input_10 (InputLayer)           [(None, 130)]        0                                            \n",
            "__________________________________________________________________________________________________\n",
            "embedding (Embedding)           (None, 130, 256)     12800000    input_10[0][0]                   \n",
            "__________________________________________________________________________________________________\n",
            "activation_9 (Activation)       (None, 130, 256)     0           embedding[0][0]                  \n",
            "__________________________________________________________________________________________________\n",
            "bi_lstm_0 (Bidirectional)       (None, 130, 1024)    3149824     activation_9[0][0]               \n",
            "__________________________________________________________________________________________________\n",
            "bi_lstm_1 (Bidirectional)       (None, 130, 1024)    6295552     bi_lstm_0[0][0]                  \n",
            "__________________________________________________________________________________________________\n",
            "concatenate_9 (Concatenate)     (None, 130, 2304)    0           bi_lstm_1[0][0]                  \n",
            "                                                                 bi_lstm_0[0][0]                  \n",
            "                                                                 activation_9[0][0]               \n",
            "__________________________________________________________________________________________________\n",
            "attlayer (AttentionWeightedAver (None, 2304)         2304        concatenate_9[0][0]              \n",
            "__________________________________________________________________________________________________\n",
            "softmax (Dense)                 (None, 1)            2305        attlayer[0][0]                   \n",
            "==================================================================================================\n",
            "Total params: 22,249,985\n",
            "Trainable params: 22,249,985\n",
            "Non-trainable params: 0\n",
            "__________________________________________________________________________________________________\n"
          ],
          "name": "stdout"
        }
      ]
    },
    {
      "cell_type": "code",
      "metadata": {
        "id": "RpY3g3fl9KAl",
        "colab_type": "code",
        "outputId": "d4183f06-541f-449e-a6d2-9e82e3267e22",
        "colab": {
          "base_uri": "https://localhost:8080/",
          "height": 139
        }
      },
      "source": [
        "model1_hist = model1.fit(train_x, train_y, batch_size=64, epochs=2, validation_split=0.2)"
      ],
      "execution_count": 45,
      "outputs": [
        {
          "output_type": "stream",
          "text": [
            "Epoch 1/2\n"
          ],
          "name": "stdout"
        },
        {
          "output_type": "stream",
          "text": [
            "/usr/local/lib/python3.6/dist-packages/tensorflow/python/framework/indexed_slices.py:434: UserWarning: Converting sparse IndexedSlices to a dense Tensor of unknown shape. This may consume a large amount of memory.\n",
            "  \"Converting sparse IndexedSlices to a dense Tensor of unknown shape. \"\n"
          ],
          "name": "stderr"
        },
        {
          "output_type": "stream",
          "text": [
            "313/313 [==============================] - 334s 1s/step - loss: 0.4059 - accuracy: 0.8192 - val_loss: 0.3174 - val_accuracy: 0.8670\n",
            "Epoch 2/2\n",
            "313/313 [==============================] - 328s 1s/step - loss: 0.1987 - accuracy: 0.9283 - val_loss: 0.3531 - val_accuracy: 0.8692\n"
          ],
          "name": "stdout"
        }
      ]
    },
    {
      "cell_type": "code",
      "metadata": {
        "id": "00fpdvxQ_fOe",
        "colab_type": "code",
        "colab": {
          "base_uri": "https://localhost:8080/",
          "height": 51
        },
        "outputId": "88502434-3fe0-46c7-9a64-f95cab3b7aeb"
      },
      "source": [
        "m1_loss, m1_acc = model1.evaluate(test_x, test_y)\n",
        "m1_loss, m1_acc"
      ],
      "execution_count": 46,
      "outputs": [
        {
          "output_type": "stream",
          "text": [
            "782/782 [==============================] - 113s 145ms/step - loss: 0.4061 - accuracy: 0.8434\n"
          ],
          "name": "stdout"
        },
        {
          "output_type": "execute_result",
          "data": {
            "text/plain": [
              "(0.4060816168785095, 0.8434399962425232)"
            ]
          },
          "metadata": {
            "tags": []
          },
          "execution_count": 46
        }
      ]
    },
    {
      "cell_type": "code",
      "metadata": {
        "id": "17E55GRvFh8V",
        "colab_type": "code",
        "colab": {
          "base_uri": "https://localhost:8080/",
          "height": 295
        },
        "outputId": "64d4e8e4-a0e0-4bdb-aff5-304626cc6eda"
      },
      "source": [
        "print_acc(model1_hist, 'DeepMoji')"
      ],
      "execution_count": 47,
      "outputs": [
        {
          "output_type": "display_data",
          "data": {
            "image/png": "[encoded data removed]",
            "text/plain": [
              "<Figure size 576x288 with 1 Axes>"
            ]
          },
          "metadata": {
            "tags": []
          }
        }
      ]
    },
    {
      "cell_type": "code",
      "metadata": {
        "id": "vK_eVZJBLpK-",
        "colab_type": "code",
        "colab": {
          "base_uri": "https://localhost:8080/",
          "height": 295
        },
        "outputId": "228b53e4-c1fa-44ef-b4c7-c9742cfcd35f"
      },
      "source": [
        "print_loss(model1_hist, 'DeepMoji')"
      ],
      "execution_count": 48,
      "outputs": [
        {
          "output_type": "display_data",
          "data": {
            "image/png": "[encoded data removed]",
            "text/plain": [
              "<Figure size 576x288 with 1 Axes>"
            ]
          },
          "metadata": {
            "tags": []
          }
        }
      ]
    },
    {
      "cell_type": "code",
      "metadata": {
        "id": "DqqkQxrM7ZVx",
        "colab_type": "code",
        "colab": {}
      },
      "source": [
        "import h5py\n",
        "from os.path import exists"
      ],
      "execution_count": 0,
      "outputs": []
    },
    {
      "cell_type": "code",
      "metadata": {
        "id": "FwFKfZM6xjxC",
        "colab_type": "code",
        "colab": {}
      },
      "source": [
        "def get_weights_from_hdf5(filepath):\n",
        "    \"\"\" Loads the weights from a saved Keras model into numpy arrays.\n",
        "        The weights are saved using Keras 2.0 so we don't need all the\n",
        "        conversion functionality for handling old weights.\n",
        "    \"\"\"\n",
        "\n",
        "    with h5py.File(filepath, mode='r') as f:\n",
        "        layer_names = [n.decode('utf8') for n in f.attrs['layer_names']]\n",
        "        layer_weights = []\n",
        "        for k, l_name in enumerate(layer_names):\n",
        "            g = f[l_name]\n",
        "            weight_names = [n.decode('utf8') for n in g.attrs['weight_names']]\n",
        "            weight_values = [g[weight_name][:] for weight_name in weight_names]\n",
        "            if len(weight_values):\n",
        "                layer_weights.append([l_name, weight_names, weight_values])\n",
        "        return layer_weights\n",
        "\n",
        "#model = load_model('deepmoji_model.h5', custom_objects={'AttentionWeightedAverage': AttentionWeightedAverage()})"
      ],
      "execution_count": 0,
      "outputs": []
    },
    {
      "cell_type": "code",
      "metadata": {
        "id": "UVRDQEfC7bM_",
        "colab_type": "code",
        "colab": {
          "base_uri": "https://localhost:8080/",
          "height": 445
        },
        "outputId": "3e7a6f08-971c-46e4-d931-79b532cab1f8"
      },
      "source": [
        "!wget https://www.dropbox.com/s/xqarafsl6a8f9ny/deepmoji_weights.hdf5?dl=0#"
      ],
      "execution_count": 53,
      "outputs": [
        {
          "output_type": "stream",
          "text": [
            "--2020-04-05 11:52:03--  https://www.dropbox.com/s/xqarafsl6a8f9ny/deepmoji_weights.hdf5?dl=0\n",
            "Resolving www.dropbox.com (www.dropbox.com)... 162.125.82.1, 2620:100:6032:1::a27d:5201\n",
            "Connecting to www.dropbox.com (www.dropbox.com)|162.125.82.1|:443... connected.\n",
            "HTTP request sent, awaiting response... 301 Moved Permanently\n",
            "Location: /s/raw/xqarafsl6a8f9ny/deepmoji_weights.hdf5 [following]\n",
            "--2020-04-05 11:52:03--  https://www.dropbox.com/s/raw/xqarafsl6a8f9ny/deepmoji_weights.hdf5\n",
            "Reusing existing connection to www.dropbox.com:443.\n",
            "HTTP request sent, awaiting response... 302 Found\n",
            "Location: https://ucedb1cf1deb39bc93020179ecd3.dl.dropboxusercontent.com/cd/0/inline/A1R-SuswZ2Odtw53DKU7nBUbhZiHsMyscRg-qnozemc5zTU0sSOZf92JGMqM3iXKkC4akW9PzD9OlyG0G_obDzK3kLiW2UpX3YkP8XDR4mMzkw/file# [following]\n",
            "--2020-04-05 11:52:04--  https://ucedb1cf1deb39bc93020179ecd3.dl.dropboxusercontent.com/cd/0/inline/A1R-SuswZ2Odtw53DKU7nBUbhZiHsMyscRg-qnozemc5zTU0sSOZf92JGMqM3iXKkC4akW9PzD9OlyG0G_obDzK3kLiW2UpX3YkP8XDR4mMzkw/file\n",
            "Resolving ucedb1cf1deb39bc93020179ecd3.dl.dropboxusercontent.com (ucedb1cf1deb39bc93020179ecd3.dl.dropboxusercontent.com)... 162.125.82.6, 2620:100:6032:6::a27d:5206\n",
            "Connecting to ucedb1cf1deb39bc93020179ecd3.dl.dropboxusercontent.com (ucedb1cf1deb39bc93020179ecd3.dl.dropboxusercontent.com)|162.125.82.6|:443... connected.\n",
            "HTTP request sent, awaiting response... 302 FOUND\n",
            "Location: /cd/0/inline2/A1R-WYDvySn8yZUhC5uGfHkRghgDIPLdPzfPyerUC5hXLm3uwFyD-d8smK40Kdi1z8ormp_Uy4OuVJvy9kx2-N33yEXd5C0AUT9brXzog-XFbWHfo3y7zzts15tRxOVcOspF59e7yrwypJEulLgKLl7wnIQ5gRMXlssBZn6OcZgUvVFeqgZMpWPqdegbvBxarSYIzfhFRRmVoEqd5_zuIEP_E4ankv2cBKmHNQAsSp2KF0MdTGjhoCPc7YJCdrXeZTS80tiEDY-1mIbll4k-ITiXtXPKYrrUI3Usk64Mb6mcwPR5omoapJABFzAgcNl13UCzIzhHSWVIZtJCeZnUEiAi/file [following]\n",
            "--2020-04-05 11:52:04--  https://ucedb1cf1deb39bc93020179ecd3.dl.dropboxusercontent.com/cd/0/inline2/A1R-WYDvySn8yZUhC5uGfHkRghgDIPLdPzfPyerUC5hXLm3uwFyD-d8smK40Kdi1z8ormp_Uy4OuVJvy9kx2-N33yEXd5C0AUT9brXzog-XFbWHfo3y7zzts15tRxOVcOspF59e7yrwypJEulLgKLl7wnIQ5gRMXlssBZn6OcZgUvVFeqgZMpWPqdegbvBxarSYIzfhFRRmVoEqd5_zuIEP_E4ankv2cBKmHNQAsSp2KF0MdTGjhoCPc7YJCdrXeZTS80tiEDY-1mIbll4k-ITiXtXPKYrrUI3Usk64Mb6mcwPR5omoapJABFzAgcNl13UCzIzhHSWVIZtJCeZnUEiAi/file\n",
            "Reusing existing connection to ucedb1cf1deb39bc93020179ecd3.dl.dropboxusercontent.com:443.\n",
            "HTTP request sent, awaiting response... 200 OK\n",
            "Length: 89610904 (85M) [application/octet-stream]\n",
            "Saving to: ‘deepmoji_weights.hdf5?dl=0’\n",
            "\n",
            "deepmoji_weights.hd 100%[===================>]  85.46M  6.49MB/s    in 17s     \n",
            "\n",
            "2020-04-05 11:52:21 (5.11 MB/s) - ‘deepmoji_weights.hdf5?dl=0’ saved [89610904/89610904]\n",
            "\n"
          ],
          "name": "stdout"
        }
      ]
    },
    {
      "cell_type": "code",
      "metadata": {
        "id": "zbJoeCPq7uhf",
        "colab_type": "code",
        "colab": {}
      },
      "source": [
        "NB_TOKENS = 50000"
      ],
      "execution_count": 0,
      "outputs": []
    },
    {
      "cell_type": "code",
      "metadata": {
        "id": "LOFbuqwW8Pnr",
        "colab_type": "code",
        "colab": {}
      },
      "source": [
        "def load_specific_weights(model, weight_path, exclude_names=[], extend_embedding=0, verbose=True):\n",
        "    \"\"\" Loads model weights from the given file path, excluding any\n",
        "        given layers.\n",
        "    # Arguments:\n",
        "        model: Model whose weights should be loaded.\n",
        "        weight_path: Path to file containing model weights.\n",
        "        exclude_names: List of layer names whose weights should not be loaded.\n",
        "        extend_embedding: Number of new words being added to vocabulary.\n",
        "        verbose: Verbosity flag.\n",
        "    # Raises:\n",
        "        ValueError if the file at weight_path does not exist.\n",
        "    \"\"\"\n",
        "    if not exists(weight_path):\n",
        "        raise ValueError('ERROR (load_weights): The weights file at {} does '\n",
        "                         'not exist. Refer to the README for instructions.'\n",
        "                         .format(weight_path))\n",
        "\n",
        "    if extend_embedding and 'embedding' in exclude_names:\n",
        "        raise ValueError('ERROR (load_weights): Cannot extend a vocabulary '\n",
        "                         'without loading the embedding weights.')\n",
        "\n",
        "    # Copy only weights from the temporary model that are wanted\n",
        "    # for the specific task (e.g. the Softmax is often ignored)\n",
        "    layer_weights = get_weights_from_hdf5(weight_path)\n",
        "    for i, w in enumerate(layer_weights):\n",
        "        l_name = w[0]\n",
        "        weight_names = w[1]\n",
        "        weight_values = w[2]\n",
        "\n",
        "        if l_name in exclude_names:\n",
        "            if verbose:\n",
        "                print('Ignoring weights for {}'.format(l_name))\n",
        "            continue\n",
        "\n",
        "        try:\n",
        "            model_l = model.get_layer(name=l_name)\n",
        "        except ValueError:\n",
        "            raise ValueError(\"Weights had layer {},\".format(l_name) +\n",
        "                             \" but could not find this layer in model.\")\n",
        "\n",
        "        if verbose:\n",
        "            print('Loading weights for {}'.format(l_name))\n",
        "\n",
        "        # extend embedding layer to allow new randomly initialized words\n",
        "        # if requested. Otherwise, just load the weights for the layer.\n",
        "        if type(model_l) is Embedding and extend_embedding > 0:\n",
        "            comb_weights = append_to_embedding(weight_values,\n",
        "                                               model_l.get_weights())\n",
        "            model_l.set_weights(comb_weights)\n",
        "            if verbose:\n",
        "                print('Extended vocabulary for embedding layer ' +\n",
        "                      'from {} to {} tokens.'.format(\n",
        "                          NB_TOKENS, NB_TOKENS + extend_embedding))\n",
        "        else:\n",
        "            model_l.set_weights(weight_values)"
      ],
      "execution_count": 0,
      "outputs": []
    },
    {
      "cell_type": "code",
      "metadata": {
        "id": "-8_zprxy-2of",
        "colab_type": "code",
        "colab": {}
      },
      "source": [
        "def change_trainable(layer, trainable, verbose=False):\n",
        "    \"\"\" Helper method that fixes some of Keras' issues with wrappers and\n",
        "        trainability. Freezes or unfreezes a given layer.\n",
        "    # Arguments:\n",
        "        layer: Layer to be modified.\n",
        "        trainable: Whether the layer should be frozen or unfrozen.\n",
        "        verbose: Verbosity flag.\n",
        "    \"\"\"\n",
        "\n",
        "    layer.trainable = trainable\n",
        "\n",
        "    if type(layer) == Bidirectional:\n",
        "        layer.backward_layer.trainable = trainable\n",
        "        layer.forward_layer.trainable = trainable\n",
        "\n",
        "    if type(layer) == TimeDistributed:\n",
        "        layer.backward_layer.trainable = trainable\n",
        "\n",
        "    if verbose:\n",
        "        action = 'Unfroze' if trainable else 'Froze'\n",
        "        print(\"{} {}\".format(action, layer.name))"
      ],
      "execution_count": 0,
      "outputs": []
    },
    {
      "cell_type": "code",
      "metadata": {
        "id": "0yay22b4-wCY",
        "colab_type": "code",
        "colab": {}
      },
      "source": [
        "def freeze_layers(model, unfrozen_types=[], unfrozen_keyword=None):\n",
        "    \"\"\" Freezes all layers in the given model, except for ones that are\n",
        "        explicitly specified to not be frozen.\n",
        "    # Arguments:\n",
        "        model: Model whose layers should be modified.\n",
        "        unfrozen_types: List of layer types which shouldn't be frozen.\n",
        "        unfrozen_keyword: Name keywords of layers that shouldn't be frozen.\n",
        "    # Returns:\n",
        "        Model with the selected layers frozen.\n",
        "    \"\"\"\n",
        "    for l in model.layers:\n",
        "        if len(l.trainable_weights):\n",
        "            trainable = (type(l) in unfrozen_types or\n",
        "                         (unfrozen_keyword is not None and unfrozen_keyword in l.name))\n",
        "            change_trainable(l, trainable, verbose=False)\n",
        "    return model"
      ],
      "execution_count": 0,
      "outputs": []
    },
    {
      "cell_type": "code",
      "metadata": {
        "id": "V55-Kwhh8QfE",
        "colab_type": "code",
        "colab": {}
      },
      "source": [
        "pre_trained = deepmoji_architecture(nb_classes=2, nb_tokens=50000, maxlen=130)"
      ],
      "execution_count": 0,
      "outputs": []
    },
    {
      "cell_type": "code",
      "metadata": {
        "id": "ozrNk18G9B2Q",
        "colab_type": "code",
        "colab": {
          "base_uri": "https://localhost:8080/",
          "height": 102
        },
        "outputId": "271992b4-d713-49b9-bd8d-0041ed833898"
      },
      "source": [
        "load_specific_weights(pre_trained, './deepmoji_weights.hdf5', exclude_names=['softmax'],)"
      ],
      "execution_count": 59,
      "outputs": [
        {
          "output_type": "stream",
          "text": [
            "Loading weights for embedding\n",
            "Loading weights for bi_lstm_0\n",
            "Loading weights for bi_lstm_1\n",
            "Loading weights for attlayer\n",
            "Ignoring weights for softmax\n"
          ],
          "name": "stdout"
        }
      ]
    },
    {
      "cell_type": "code",
      "metadata": {
        "id": "2aVSTzQw-lgi",
        "colab_type": "code",
        "colab": {}
      },
      "source": [
        "pre_trained = freeze_layers(pre_trained, unfrozen_keyword='softmax')"
      ],
      "execution_count": 0,
      "outputs": []
    },
    {
      "cell_type": "code",
      "metadata": {
        "id": "Sk-CMD6J_pWV",
        "colab_type": "code",
        "colab": {}
      },
      "source": [
        "pre_trained.compile(loss='binary_crossentropy',\n",
        "              optimizer='adam',\n",
        "              metrics=['accuracy'])"
      ],
      "execution_count": 0,
      "outputs": []
    },
    {
      "cell_type": "code",
      "metadata": {
        "id": "tezYDp0nFTKn",
        "colab_type": "code",
        "colab": {
          "base_uri": "https://localhost:8080/",
          "height": 51
        },
        "outputId": "d1784622-2a45-44ec-e7b1-b6a191382f1b"
      },
      "source": [
        "pre_trained.evaluate(test_x, test_y)"
      ],
      "execution_count": 62,
      "outputs": [
        {
          "output_type": "stream",
          "text": [
            "782/782 [==============================] - 150s 192ms/step - loss: 0.7140 - accuracy: 0.5001\n"
          ],
          "name": "stdout"
        },
        {
          "output_type": "execute_result",
          "data": {
            "text/plain": [
              "[0.7139624357223511, 0.5001199841499329]"
            ]
          },
          "metadata": {
            "tags": []
          },
          "execution_count": 62
        }
      ]
    },
    {
      "cell_type": "code",
      "metadata": {
        "id": "XVatWZ1v--o4",
        "colab_type": "code",
        "colab": {
          "base_uri": "https://localhost:8080/",
          "height": 224
        },
        "outputId": "7b6ed6bc-c513-4a1c-99a5-217834c19c38"
      },
      "source": [
        "pre_trained.fit(train_x, train_y, batch_size=64, epochs=5, validation_split=0.2)"
      ],
      "execution_count": 63,
      "outputs": [
        {
          "output_type": "stream",
          "text": [
            "Epoch 1/5\n",
            "313/313 [==============================] - 374s 1s/step - loss: 0.7056 - accuracy: 0.5660 - val_loss: 0.6985 - val_accuracy: 0.5988\n",
            "Epoch 2/5\n",
            "313/313 [==============================] - 373s 1s/step - loss: 0.6931 - accuracy: 0.6025 - val_loss: 0.6894 - val_accuracy: 0.6020\n",
            "Epoch 3/5\n",
            "313/313 [==============================] - 377s 1s/step - loss: 0.6842 - accuracy: 0.6186 - val_loss: 0.6817 - val_accuracy: 0.6170\n",
            "Epoch 4/5\n",
            "313/313 [==============================] - 378s 1s/step - loss: 0.6769 - accuracy: 0.6272 - val_loss: 0.6767 - val_accuracy: 0.6264\n",
            "Epoch 5/5\n",
            "313/313 [==============================] - 371s 1s/step - loss: 0.6708 - accuracy: 0.6313 - val_loss: 0.6721 - val_accuracy: 0.6310\n"
          ],
          "name": "stdout"
        },
        {
          "output_type": "execute_result",
          "data": {
            "text/plain": [
              "<tensorflow.python.keras.callbacks.History at 0x7f988f2eae48>"
            ]
          },
          "metadata": {
            "tags": []
          },
          "execution_count": 63
        }
      ]
    },
    {
      "cell_type": "code",
      "metadata": {
        "id": "XKu3wkud_fz8",
        "colab_type": "code",
        "colab": {
          "base_uri": "https://localhost:8080/",
          "height": 51
        },
        "outputId": "ece1340e-de72-40bf-b890-1369b718ea85"
      },
      "source": [
        "pre_trained.evaluate(test_x, test_y)"
      ],
      "execution_count": 42,
      "outputs": [
        {
          "output_type": "stream",
          "text": [
            "782/782 [==============================] - 147s 188ms/step - loss: 0.7184 - accuracy: 0.5067\n"
          ],
          "name": "stdout"
        },
        {
          "output_type": "execute_result",
          "data": {
            "text/plain": [
              "[0.7183762788772583, 0.5067200064659119]"
            ]
          },
          "metadata": {
            "tags": []
          },
          "execution_count": 42
        }
      ]
    },
    {
      "cell_type": "code",
      "metadata": {
        "id": "OTwsqV8NEMU4",
        "colab_type": "code",
        "colab": {}
      },
      "source": [
        ""
      ],
      "execution_count": 0,
      "outputs": []
    }
  ]
}