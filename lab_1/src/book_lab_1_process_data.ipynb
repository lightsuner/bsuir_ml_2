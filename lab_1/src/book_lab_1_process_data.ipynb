{
 "cells": [
  {
   "cell_type": "code",
   "execution_count": 2,
   "metadata": {},
   "outputs": [],
   "source": [
    "from datetime import datetime\n",
    "import os\n",
    "import numpy as np\n",
    "import imageio\n",
    "import scipy.io"
   ]
  },
  {
   "cell_type": "code",
   "execution_count": 17,
   "metadata": {},
   "outputs": [],
   "source": [
    "chars = ['A', 'B', 'C', 'D', 'E', 'F', 'G', 'H', 'I', 'J']"
   ]
  },
  {
   "cell_type": "code",
   "execution_count": 16,
   "metadata": {},
   "outputs": [],
   "source": [
    "small_folder = './notMNIST_small'\n",
    "large_folder = './notMNIST_large'"
   ]
  },
  {
   "cell_type": "code",
   "execution_count": 134,
   "metadata": {},
   "outputs": [],
   "source": [
    "small_orig_mat = './notMNIST_small_orig.mat'\n",
    "large_orig_mat = './notMNIST_large_orig.mat'\n",
    "small_uniq_mat = './notMNIST_small_uniq.mat'\n",
    "large_uniq_mat = './notMNIST_large_uniq.mat'\n",
    "large_clean_mat = './notMNIST_large_clean.mat'"
   ]
  },
  {
   "cell_type": "code",
   "execution_count": 28,
   "metadata": {},
   "outputs": [],
   "source": [
    "def folder_to_mat(folder, output_file):\n",
    "    data = {}\n",
    "    start = datetime.now()\n",
    "    for ch in chars:\n",
    "        char_images = list()\n",
    "        char_img_path = f'{folder}/{ch}'\n",
    "\n",
    "        print(f'Reading \"{ch}\"')\n",
    "\n",
    "        for r, d, f in os.walk(char_img_path):\n",
    "            for file in f:\n",
    "                if '.png' in file:\n",
    "                    file_path = os.path.join(r, file)\n",
    "                    try:\n",
    "                        img = imageio.imread(file_path)\n",
    "                        char_images.append(img.reshape(-1))\n",
    "                    except (OSError, ValueError) as e:\n",
    "                        #print(e)\n",
    "                        print('Bad file:', file_path)\n",
    "        data[ch] = np.array(char_images)\n",
    "    end = datetime.now()\n",
    "    time_diff = (end - start).total_seconds()\n",
    "    print(f'{end.strftime(\"%H:%M:%S\")} it took: {time_diff}\\'s')\n",
    "    scipy.io.savemat(output_file, data)"
   ]
  },
  {
   "cell_type": "code",
   "execution_count": 29,
   "metadata": {},
   "outputs": [
    {
     "name": "stdout",
     "output_type": "stream",
     "text": [
      "Reading \"A\"\n",
      "Bad file: ./notMNIST_small/A/RGVtb2NyYXRpY2FCb2xkT2xkc3R5bGUgQm9sZC50dGY=.png\n",
      "Reading \"B\"\n",
      "Reading \"C\"\n",
      "Reading \"D\"\n",
      "Reading \"E\"\n",
      "Reading \"F\"\n",
      "Bad file: ./notMNIST_small/F/Q3Jvc3NvdmVyIEJvbGRPYmxpcXVlLnR0Zg==.png\n",
      "Reading \"G\"\n",
      "Reading \"H\"\n",
      "Reading \"I\"\n",
      "Reading \"J\"\n",
      "21:15:42 it took: 7.583626's\n"
     ]
    }
   ],
   "source": [
    "folder_to_mat(small_folder, small_orig_mat)"
   ]
  },
  {
   "cell_type": "code",
   "execution_count": 30,
   "metadata": {},
   "outputs": [
    {
     "name": "stdout",
     "output_type": "stream",
     "text": [
      "Reading \"A\"\n",
      "Bad file: ./notMNIST_large/A/RnJlaWdodERpc3BCb29rSXRhbGljLnR0Zg==.png\n",
      "Bad file: ./notMNIST_large/A/Um9tYW5hIEJvbGQucGZi.png\n",
      "Bad file: ./notMNIST_large/A/SG90IE11c3RhcmQgQlROIFBvc3Rlci50dGY=.png\n",
      "Reading \"B\"\n",
      "Bad file: ./notMNIST_large/B/TmlraXNFRi1TZW1pQm9sZEl0YWxpYy5vdGY=.png\n",
      "Reading \"C\"\n",
      "Reading \"D\"\n",
      "Bad file: ./notMNIST_large/D/VHJhbnNpdCBCb2xkLnR0Zg==.png\n",
      "Reading \"E\"\n",
      "Reading \"F\"\n",
      "Reading \"G\"\n",
      "Reading \"H\"\n",
      "Reading \"I\"\n",
      "Reading \"J\"\n",
      "21:22:58 it took: 395.27648's\n"
     ]
    }
   ],
   "source": [
    "folder_to_mat(large_folder, large_orig_mat)"
   ]
  },
  {
   "cell_type": "code",
   "execution_count": 51,
   "metadata": {},
   "outputs": [],
   "source": [
    "def remove_duplicates(data):\n",
    "    uniq_data = {}\n",
    "    total_start = datetime.now()\n",
    "    for ch in chars:\n",
    "        start = datetime.now()\n",
    "        print('------')\n",
    "        print(f'{start.strftime(\"%H:%M:%S\")}: Uniq: \"{ch}\"')\n",
    "        uniq_data[ch] = np.unique(data[ch], axis=0)\n",
    "        end = datetime.now()\n",
    "        time_diff = (end - start).total_seconds()\n",
    "        print(f'{end.strftime(\"%H:%M:%S\")}: \"{ch}\" - diff: {len(data[ch]) - len(uniq_data[ch])}\\t took: {time_diff}')\n",
    "\n",
    "    total_end = datetime.now()\n",
    "    total_time_diff = (total_end - total_start).total_seconds()\n",
    "    print(f'\\n{total_end.strftime(\"%H:%M:%S\")} it took: {total_time_diff}\\'s')\n",
    "    return uniq_data"
   ]
  },
  {
   "cell_type": "code",
   "execution_count": null,
   "metadata": {},
   "outputs": [],
   "source": []
  },
  {
   "cell_type": "code",
   "execution_count": 52,
   "metadata": {},
   "outputs": [],
   "source": [
    "small_orig_data = scipy.io.loadmat(small_orig_mat)"
   ]
  },
  {
   "cell_type": "code",
   "execution_count": 53,
   "metadata": {},
   "outputs": [
    {
     "name": "stdout",
     "output_type": "stream",
     "text": [
      "------\n",
      "21:35:22: Uniq: \"A\"\n",
      "21:35:22: \"A\" - diff: 24\t took: 0.015762\n",
      "------\n",
      "21:35:22: Uniq: \"B\"\n",
      "21:35:22: \"B\" - diff: 20\t took: 0.012835\n",
      "------\n",
      "21:35:22: Uniq: \"C\"\n",
      "21:35:22: \"C\" - diff: 24\t took: 0.01398\n",
      "------\n",
      "21:35:22: Uniq: \"D\"\n",
      "21:35:22: \"D\" - diff: 26\t took: 0.01098\n",
      "------\n",
      "21:35:22: Uniq: \"E\"\n",
      "21:35:22: \"E\" - diff: 26\t took: 0.014779\n",
      "------\n",
      "21:35:22: Uniq: \"F\"\n",
      "21:35:22: \"F\" - diff: 22\t took: 0.013029\n",
      "------\n",
      "21:35:22: Uniq: \"G\"\n",
      "21:35:22: \"G\" - diff: 21\t took: 0.011523\n",
      "------\n",
      "21:35:22: Uniq: \"H\"\n",
      "21:35:22: \"H\" - diff: 26\t took: 0.010218\n",
      "------\n",
      "21:35:22: Uniq: \"I\"\n",
      "21:35:22: \"I\" - diff: 275\t took: 0.043348\n",
      "------\n",
      "21:35:22: Uniq: \"J\"\n",
      "21:35:22: \"J\" - diff: 22\t took: 0.015949\n",
      "\n",
      "21:35:22 it took: 0.163384's\n"
     ]
    }
   ],
   "source": [
    "small_uniq_data = remove_duplicates(small_orig_data)"
   ]
  },
  {
   "cell_type": "code",
   "execution_count": 54,
   "metadata": {},
   "outputs": [],
   "source": [
    "scipy.io.savemat(small_uniq_mat, small_uniq_data)"
   ]
  },
  {
   "cell_type": "code",
   "execution_count": null,
   "metadata": {},
   "outputs": [],
   "source": []
  },
  {
   "cell_type": "code",
   "execution_count": 55,
   "metadata": {},
   "outputs": [],
   "source": [
    "large_orig_data = scipy.io.loadmat(large_orig_mat)"
   ]
  },
  {
   "cell_type": "code",
   "execution_count": 56,
   "metadata": {},
   "outputs": [
    {
     "name": "stdout",
     "output_type": "stream",
     "text": [
      "------\n",
      "21:39:22: Uniq: \"A\"\n",
      "21:39:22: \"A\" - diff: 5807\t took: 0.795365\n",
      "------\n",
      "21:39:22: Uniq: \"B\"\n",
      "21:39:23: \"B\" - diff: 5630\t took: 0.558981\n",
      "------\n",
      "21:39:23: Uniq: \"C\"\n",
      "21:39:24: \"C\" - diff: 6258\t took: 0.618774\n",
      "------\n",
      "21:39:24: Uniq: \"D\"\n",
      "21:39:24: \"D\" - diff: 6180\t took: 0.569035\n",
      "------\n",
      "21:39:24: Uniq: \"E\"\n",
      "21:39:25: \"E\" - diff: 5958\t took: 0.577547\n",
      "------\n",
      "21:39:25: Uniq: \"F\"\n",
      "21:39:25: \"F\" - diff: 6068\t took: 0.579709\n",
      "------\n",
      "21:39:25: Uniq: \"G\"\n",
      "21:39:26: \"G\" - diff: 5822\t took: 0.604438\n",
      "------\n",
      "21:39:26: Uniq: \"H\"\n",
      "21:39:27: \"H\" - diff: 6730\t took: 0.641705\n",
      "------\n",
      "21:39:27: Uniq: \"I\"\n",
      "21:39:28: \"I\" - diff: 11739\t took: 1.915712\n",
      "------\n",
      "21:39:28: Uniq: \"J\"\n",
      "21:39:30: \"J\" - diff: 6253\t took: 1.193399\n",
      "\n",
      "21:39:30 it took: 8.056471's\n"
     ]
    }
   ],
   "source": [
    "large_uniq_data = remove_duplicates(large_orig_data)"
   ]
  },
  {
   "cell_type": "code",
   "execution_count": 57,
   "metadata": {},
   "outputs": [],
   "source": [
    "scipy.io.savemat(large_uniq_mat, large_uniq_data)"
   ]
  },
  {
   "cell_type": "code",
   "execution_count": 123,
   "metadata": {},
   "outputs": [],
   "source": [
    "def setdiff2d(a_arr, b_arr):\n",
    "    a_rows = a_arr.view([('', a_arr.dtype)] * a_arr.shape[1])\n",
    "    b_rows = b_arr.view([('', b_arr.dtype)] * b_arr.shape[1])\n",
    "    return np.setdiff1d(a_rows, b_rows, assume_unique=True).view(a_arr.dtype).reshape(-1, a_arr.shape[1])"
   ]
  },
  {
   "cell_type": "code",
   "execution_count": 131,
   "metadata": {},
   "outputs": [],
   "source": [
    "def remove_intersections(remove_from, source):\n",
    "    clean_data = {}\n",
    "    total_start = datetime.now()\n",
    "    for ch in chars:\n",
    "        start = datetime.now()\n",
    "        print('------')\n",
    "        print(f'{start.strftime(\"%H:%M:%S\")}: Uniq: \"{ch}\"')\n",
    "        clean_data[ch] = setdiff2d(remove_from[ch], source[ch])\n",
    "        end = datetime.now()\n",
    "        time_diff = (end - start).total_seconds()\n",
    "        print(f'{end.strftime(\"%H:%M:%S\")}: \"{ch}\" - diff: {len(remove_from[ch]) - len(clean_data[ch])}\\t took: {time_diff}')\n",
    "\n",
    "    total_end = datetime.now()\n",
    "    total_time_diff = (total_end - total_start).total_seconds()\n",
    "    print(f'\\n{total_end.strftime(\"%H:%M:%S\")} it took: {total_time_diff}\\'s')\n",
    "    return clean_data"
   ]
  },
  {
   "cell_type": "code",
   "execution_count": 132,
   "metadata": {},
   "outputs": [
    {
     "name": "stdout",
     "output_type": "stream",
     "text": [
      "------\n",
      "23:01:41: Uniq: \"A\"\n",
      "23:01:43: \"A\" - diff: 450\t took: 1.252596\n",
      "------\n",
      "23:01:43: Uniq: \"B\"\n",
      "23:01:44: \"B\" - diff: 429\t took: 1.290194\n",
      "------\n",
      "23:01:44: Uniq: \"C\"\n",
      "23:01:45: \"C\" - diff: 469\t took: 1.186779\n",
      "------\n",
      "23:01:45: Uniq: \"D\"\n",
      "23:01:47: \"D\" - diff: 467\t took: 1.322485\n",
      "------\n",
      "23:01:47: Uniq: \"E\"\n",
      "23:01:48: \"E\" - diff: 457\t took: 1.415042\n",
      "------\n",
      "23:01:48: Uniq: \"F\"\n",
      "23:01:49: \"F\" - diff: 461\t took: 1.234455\n",
      "------\n",
      "23:01:49: Uniq: \"G\"\n",
      "23:01:50: \"G\" - diff: 444\t took: 1.269038\n",
      "------\n",
      "23:01:50: Uniq: \"H\"\n",
      "23:01:51: \"H\" - diff: 505\t took: 1.023126\n",
      "------\n",
      "23:01:51: Uniq: \"I\"\n",
      "23:01:52: \"I\" - diff: 441\t took: 0.945542\n",
      "------\n",
      "23:01:52: Uniq: \"J\"\n",
      "23:01:54: \"J\" - diff: 465\t took: 1.23689\n",
      "\n",
      "23:01:54 it took: 12.17776's\n"
     ]
    }
   ],
   "source": [
    "large_clean_data = remove_intersections(large_uniq_data, small_uniq_data)"
   ]
  },
  {
   "cell_type": "code",
   "execution_count": 135,
   "metadata": {},
   "outputs": [],
   "source": [
    "scipy.io.savemat(large_clean_mat, large_clean_data)"
   ]
  },
  {
   "cell_type": "code",
   "execution_count": null,
   "metadata": {},
   "outputs": [],
   "source": []
  },
  {
   "cell_type": "code",
   "execution_count": null,
   "metadata": {},
   "outputs": [],
   "source": []
  },
  {
   "cell_type": "code",
   "execution_count": null,
   "metadata": {},
   "outputs": [],
   "source": []
  },
  {
   "cell_type": "code",
   "execution_count": null,
   "metadata": {},
   "outputs": [],
   "source": []
  },
  {
   "cell_type": "code",
   "execution_count": null,
   "metadata": {},
   "outputs": [],
   "source": []
  },
  {
   "cell_type": "code",
   "execution_count": null,
   "metadata": {},
   "outputs": [],
   "source": []
  },
  {
   "cell_type": "code",
   "execution_count": null,
   "metadata": {},
   "outputs": [],
   "source": []
  },
  {
   "cell_type": "code",
   "execution_count": null,
   "metadata": {},
   "outputs": [],
   "source": []
  },
  {
   "cell_type": "code",
   "execution_count": null,
   "metadata": {},
   "outputs": [],
   "source": []
  },
  {
   "cell_type": "code",
   "execution_count": null,
   "metadata": {},
   "outputs": [],
   "source": []
  }
 ],
 "metadata": {
  "kernelspec": {
   "display_name": "Python 3",
   "language": "python",
   "name": "python3"
  },
  "language_info": {
   "codemirror_mode": {
    "name": "ipython",
    "version": 3
   },
   "file_extension": ".py",
   "mimetype": "text/x-python",
   "name": "python",
   "nbconvert_exporter": "python",
   "pygments_lexer": "ipython3",
   "version": "3.7.3"
  }
 },
 "nbformat": 4,
 "nbformat_minor": 2
}
