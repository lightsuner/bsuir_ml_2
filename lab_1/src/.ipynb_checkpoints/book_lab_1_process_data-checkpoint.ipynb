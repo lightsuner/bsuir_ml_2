{
 "cells": [
  {
   "cell_type": "code",
   "execution_count": 2,
   "metadata": {},
   "outputs": [],
   "source": [
    "from datetime import datetime\n",
    "import os\n",
    "import numpy as np\n",
    "import imageio\n",
    "import scipy.io"
   ]
  },
  {
   "cell_type": "code",
   "execution_count": 17,
   "metadata": {},
   "outputs": [],
   "source": [
    "chars = ['A', 'B', 'C', 'D', 'E', 'F', 'G', 'H', 'I', 'J']"
   ]
  },
  {
   "cell_type": "code",
   "execution_count": 16,
   "metadata": {},
   "outputs": [],
   "source": [
    "small_folder = './notMNIST_small'\n",
    "large_folder = './notMNIST_large'"
   ]
  },
  {
   "cell_type": "code",
   "execution_count": 38,
   "metadata": {},
   "outputs": [],
   "source": [
    "small_orig_mat = './notMNIST_small_orig.mat'\n",
    "large_orig_mat = './notMNIST_large_orig.mat'\n",
    "small_uniq_mat = './notMNIST_small_uniq.mat'\n",
    "large_uniq_mat = './notMNIST_large_uniq.mat'"
   ]
  },
  {
   "cell_type": "code",
   "execution_count": 28,
   "metadata": {},
   "outputs": [],
   "source": [
    "def folder_to_mat(folder, output_file):\n",
    "    data = {}\n",
    "    start = datetime.now()\n",
    "    for ch in chars:\n",
    "        char_images = list()\n",
    "        char_img_path = f'{folder}/{ch}'\n",
    "\n",
    "        print(f'Reading \"{ch}\"')\n",
    "\n",
    "        for r, d, f in os.walk(char_img_path):\n",
    "            for file in f:\n",
    "                if '.png' in file:\n",
    "                    file_path = os.path.join(r, file)\n",
    "                    try:\n",
    "                        img = imageio.imread(file_path)\n",
    "                        char_images.append(img.reshape(-1))\n",
    "                    except (OSError, ValueError) as e:\n",
    "                        #print(e)\n",
    "                        print('Bad file:', file_path)\n",
    "        data[ch] = np.array(char_images)\n",
    "    end = datetime.now()\n",
    "    time_diff = (end - start).total_seconds()\n",
    "    print(f'{end.strftime(\"%H:%M:%S\")} it took: {time_diff}\\'s')\n",
    "    scipy.io.savemat(output_file, data)"
   ]
  },
  {
   "cell_type": "code",
   "execution_count": 29,
   "metadata": {},
   "outputs": [
    {
     "name": "stdout",
     "output_type": "stream",
     "text": [
      "Reading \"A\"\n",
      "Bad file: ./notMNIST_small/A/RGVtb2NyYXRpY2FCb2xkT2xkc3R5bGUgQm9sZC50dGY=.png\n",
      "Reading \"B\"\n",
      "Reading \"C\"\n",
      "Reading \"D\"\n",
      "Reading \"E\"\n",
      "Reading \"F\"\n",
      "Bad file: ./notMNIST_small/F/Q3Jvc3NvdmVyIEJvbGRPYmxpcXVlLnR0Zg==.png\n",
      "Reading \"G\"\n",
      "Reading \"H\"\n",
      "Reading \"I\"\n",
      "Reading \"J\"\n",
      "21:15:42 it took: 7.583626's\n"
     ]
    }
   ],
   "source": [
    "folder_to_mat(small_folder, small_orig_mat)"
   ]
  },
  {
   "cell_type": "code",
   "execution_count": 30,
   "metadata": {},
   "outputs": [
    {
     "name": "stdout",
     "output_type": "stream",
     "text": [
      "Reading \"A\"\n",
      "Bad file: ./notMNIST_large/A/RnJlaWdodERpc3BCb29rSXRhbGljLnR0Zg==.png\n",
      "Bad file: ./notMNIST_large/A/Um9tYW5hIEJvbGQucGZi.png\n",
      "Bad file: ./notMNIST_large/A/SG90IE11c3RhcmQgQlROIFBvc3Rlci50dGY=.png\n",
      "Reading \"B\"\n",
      "Bad file: ./notMNIST_large/B/TmlraXNFRi1TZW1pQm9sZEl0YWxpYy5vdGY=.png\n",
      "Reading \"C\"\n",
      "Reading \"D\"\n",
      "Bad file: ./notMNIST_large/D/VHJhbnNpdCBCb2xkLnR0Zg==.png\n",
      "Reading \"E\"\n",
      "Reading \"F\"\n",
      "Reading \"G\"\n",
      "Reading \"H\"\n",
      "Reading \"I\"\n",
      "Reading \"J\"\n",
      "21:22:58 it took: 395.27648's\n"
     ]
    }
   ],
   "source": [
    "folder_to_mat(large_folder, large_orig_mat)"
   ]
  },
  {
   "cell_type": "code",
   "execution_count": 48,
   "metadata": {},
   "outputs": [],
   "source": [
    "def remove_duplicates(data):\n",
    "    uniq_data = {}\n",
    "    total_start = datetime.now()\n",
    "    for ch in chars:\n",
    "        start = datetime.now()\n",
    "        print('------')\n",
    "        print(f'{start.strftime(\"%H:%M:%S\")}: Uniq: \"{ch}\"')\n",
    "        uniq_data[ch] = np.unique(data[ch], axis=0)\n",
    "        end = datetime.now()\n",
    "        time_diff = (end - start).total_seconds()\n",
    "        print(f'{end.strftime(\"%H:%M:%S\")}: \"{ch}\" - diff: {len(data[ch]) - len(uniq_data[ch])}\\t took: {time_diff}')\n",
    "\n",
    "    total_end = datetime.now()\n",
    "    total_time_diff = (total_end - total_start).total_seconds()\n",
    "    print(f'\\n{total_end.strftime(\"%H:%M:%S\")} it took: {total_time_diff}\\'s')\n",
    "    return uniq_data"
   ]
  },
  {
   "cell_type": "code",
   "execution_count": null,
   "metadata": {},
   "outputs": [],
   "source": []
  },
  {
   "cell_type": "code",
   "execution_count": 49,
   "metadata": {},
   "outputs": [],
   "source": [
    "small_orig_data = scipy.io.loadmat(small_orig_mat)"
   ]
  },
  {
   "cell_type": "code",
   "execution_count": 50,
   "metadata": {},
   "outputs": [
    {
     "name": "stdout",
     "output_type": "stream",
     "text": [
      "------\n",
      "21:33:17: Uniq: \"A\"\n",
      "21:33:17: \"A\" - diff: 24\t took: 0.015218\n",
      "------\n",
      "21:33:17: Uniq: \"B\"\n",
      "21:33:17: \"B\" - diff: 20\t took: 0.013867\n",
      "------\n",
      "21:33:17: Uniq: \"C\"\n",
      "21:33:17: \"C\" - diff: 24\t took: 0.013742\n",
      "------\n",
      "21:33:17: Uniq: \"D\"\n",
      "21:33:17: \"D\" - diff: 26\t took: 0.012222\n",
      "------\n",
      "21:33:17: Uniq: \"E\"\n",
      "21:33:17: \"E\" - diff: 26\t took: 0.013193\n",
      "------\n",
      "21:33:17: Uniq: \"F\"\n",
      "21:33:17: \"F\" - diff: 22\t took: 0.011418\n",
      "------\n",
      "21:33:17: Uniq: \"G\"\n",
      "21:33:17: \"G\" - diff: 21\t took: 0.012018\n",
      "------\n",
      "21:33:17: Uniq: \"H\"\n",
      "21:33:17: \"H\" - diff: 26\t took: 0.009388\n",
      "------\n",
      "21:33:17: Uniq: \"I\"\n",
      "21:33:17: \"I\" - diff: 275\t took: 0.03847\n",
      "------\n",
      "21:33:17: Uniq: \"J\"\n",
      "21:33:17: \"J\" - diff: 22\t took: 0.014507\n"
     ]
    }
   ],
   "source": [
    "small_uniq_data = remove_duplicates(small_orig_data)"
   ]
  },
  {
   "cell_type": "code",
   "execution_count": null,
   "metadata": {},
   "outputs": [],
   "source": []
  },
  {
   "cell_type": "code",
   "execution_count": 121,
   "metadata": {},
   "outputs": [
    {
     "name": "stdout",
     "output_type": "stream",
     "text": [
      "------\n",
      "19:05:02: Uniq: \"A\"\n",
      "19:05:02: \"A\" - diff: 24\t took: 0.014771\n",
      "------\n",
      "19:05:02: Uniq: \"B\"\n",
      "19:05:02: \"B\" - diff: 20\t took: 0.017863\n",
      "------\n",
      "19:05:02: Uniq: \"C\"\n",
      "19:05:02: \"C\" - diff: 24\t took: 0.016728\n",
      "------\n",
      "19:05:02: Uniq: \"D\"\n",
      "19:05:02: \"D\" - diff: 26\t took: 0.01262\n",
      "------\n",
      "19:05:02: Uniq: \"E\"\n",
      "19:05:02: \"E\" - diff: 26\t took: 0.013535\n",
      "------\n",
      "19:05:02: Uniq: \"F\"\n",
      "19:05:02: \"F\" - diff: 22\t took: 0.023571\n",
      "------\n",
      "19:05:02: Uniq: \"G\"\n",
      "19:05:02: \"G\" - diff: 21\t took: 0.025934\n",
      "------\n",
      "19:05:02: Uniq: \"H\"\n",
      "19:05:02: \"H\" - diff: 26\t took: 0.020415\n",
      "------\n",
      "19:05:02: Uniq: \"I\"\n",
      "19:05:02: \"I\" - diff: 275\t took: 0.042453\n",
      "------\n",
      "19:05:02: Uniq: \"J\"\n",
      "19:05:02: \"J\" - diff: 22\t took: 0.017596\n"
     ]
    }
   ],
   "source": [
    "uniq_data = {}\n"
   ]
  },
  {
   "cell_type": "code",
   "execution_count": 122,
   "metadata": {},
   "outputs": [],
   "source": [
    "scipy.io.savemat('./uniq_images.mat', uniq_data)"
   ]
  },
  {
   "cell_type": "code",
   "execution_count": null,
   "metadata": {},
   "outputs": [],
   "source": []
  }
 ],
 "metadata": {
  "kernelspec": {
   "display_name": "Python 3",
   "language": "python",
   "name": "python3"
  },
  "language_info": {
   "codemirror_mode": {
    "name": "ipython",
    "version": 3
   },
   "file_extension": ".py",
   "mimetype": "text/x-python",
   "name": "python",
   "nbconvert_exporter": "python",
   "pygments_lexer": "ipython3",
   "version": "3.7.3"
  }
 },
 "nbformat": 4,
 "nbformat_minor": 2
}
