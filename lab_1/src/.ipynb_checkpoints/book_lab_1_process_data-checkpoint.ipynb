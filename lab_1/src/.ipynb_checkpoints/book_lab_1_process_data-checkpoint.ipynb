{
 "cells": [
  {
   "cell_type": "code",
   "execution_count": 345,
   "metadata": {},
   "outputs": [],
   "source": [
    "import warnings\n",
    "warnings.simplefilter(action='ignore', category=FutureWarning)"
   ]
  },
  {
   "cell_type": "code",
   "execution_count": 335,
   "metadata": {},
   "outputs": [],
   "source": [
    "from datetime import datetime\n",
    "import os\n",
    "import numpy as np\n",
    "import imageio\n",
    "import scipy.io\n",
    "import matplotlib.pyplot as plt\n",
    "from sklearn import preprocessing\n",
    "from sklearn.utils import resample\n",
    "from sklearn.model_selection import train_test_split\n",
    "from sklearn.linear_model import LogisticRegression"
   ]
  },
  {
   "cell_type": "code",
   "execution_count": 17,
   "metadata": {},
   "outputs": [],
   "source": [
    "chars = ['A', 'B', 'C', 'D', 'E', 'F', 'G', 'H', 'I', 'J']"
   ]
  },
  {
   "cell_type": "code",
   "execution_count": 16,
   "metadata": {},
   "outputs": [],
   "source": [
    "small_folder = './notMNIST_small'\n",
    "large_folder = './notMNIST_large'"
   ]
  },
  {
   "cell_type": "code",
   "execution_count": 134,
   "metadata": {},
   "outputs": [],
   "source": [
    "small_orig_mat = './notMNIST_small_orig.mat'\n",
    "large_orig_mat = './notMNIST_large_orig.mat'\n",
    "small_uniq_mat = './notMNIST_small_uniq.mat'\n",
    "large_uniq_mat = './notMNIST_large_uniq.mat'\n",
    "large_clean_mat = './notMNIST_large_clean.mat'"
   ]
  },
  {
   "cell_type": "code",
   "execution_count": 28,
   "metadata": {},
   "outputs": [],
   "source": [
    "def folder_to_mat(folder, output_file):\n",
    "    data = {}\n",
    "    start = datetime.now()\n",
    "    for ch in chars:\n",
    "        char_images = list()\n",
    "        char_img_path = f'{folder}/{ch}'\n",
    "\n",
    "        print(f'Reading \"{ch}\"')\n",
    "\n",
    "        for r, d, f in os.walk(char_img_path):\n",
    "            for file in f:\n",
    "                if '.png' in file:\n",
    "                    file_path = os.path.join(r, file)\n",
    "                    try:\n",
    "                        img = imageio.imread(file_path)\n",
    "                        char_images.append(img.reshape(-1))\n",
    "                    except (OSError, ValueError) as e:\n",
    "                        #print(e)\n",
    "                        print('Bad file:', file_path)\n",
    "        data[ch] = np.array(char_images)\n",
    "    end = datetime.now()\n",
    "    time_diff = (end - start).total_seconds()\n",
    "    print(f'{end.strftime(\"%H:%M:%S\")} it took: {time_diff}\\'s')\n",
    "    scipy.io.savemat(output_file, data)"
   ]
  },
  {
   "cell_type": "code",
   "execution_count": 29,
   "metadata": {},
   "outputs": [
    {
     "name": "stdout",
     "output_type": "stream",
     "text": [
      "Reading \"A\"\n",
      "Bad file: ./notMNIST_small/A/RGVtb2NyYXRpY2FCb2xkT2xkc3R5bGUgQm9sZC50dGY=.png\n",
      "Reading \"B\"\n",
      "Reading \"C\"\n",
      "Reading \"D\"\n",
      "Reading \"E\"\n",
      "Reading \"F\"\n",
      "Bad file: ./notMNIST_small/F/Q3Jvc3NvdmVyIEJvbGRPYmxpcXVlLnR0Zg==.png\n",
      "Reading \"G\"\n",
      "Reading \"H\"\n",
      "Reading \"I\"\n",
      "Reading \"J\"\n",
      "21:15:42 it took: 7.583626's\n"
     ]
    }
   ],
   "source": [
    "folder_to_mat(small_folder, small_orig_mat)"
   ]
  },
  {
   "cell_type": "code",
   "execution_count": 30,
   "metadata": {},
   "outputs": [
    {
     "name": "stdout",
     "output_type": "stream",
     "text": [
      "Reading \"A\"\n",
      "Bad file: ./notMNIST_large/A/RnJlaWdodERpc3BCb29rSXRhbGljLnR0Zg==.png\n",
      "Bad file: ./notMNIST_large/A/Um9tYW5hIEJvbGQucGZi.png\n",
      "Bad file: ./notMNIST_large/A/SG90IE11c3RhcmQgQlROIFBvc3Rlci50dGY=.png\n",
      "Reading \"B\"\n",
      "Bad file: ./notMNIST_large/B/TmlraXNFRi1TZW1pQm9sZEl0YWxpYy5vdGY=.png\n",
      "Reading \"C\"\n",
      "Reading \"D\"\n",
      "Bad file: ./notMNIST_large/D/VHJhbnNpdCBCb2xkLnR0Zg==.png\n",
      "Reading \"E\"\n",
      "Reading \"F\"\n",
      "Reading \"G\"\n",
      "Reading \"H\"\n",
      "Reading \"I\"\n",
      "Reading \"J\"\n",
      "21:22:58 it took: 395.27648's\n"
     ]
    }
   ],
   "source": [
    "folder_to_mat(large_folder, large_orig_mat)"
   ]
  },
  {
   "cell_type": "code",
   "execution_count": 51,
   "metadata": {},
   "outputs": [],
   "source": [
    "def remove_duplicates(data):\n",
    "    uniq_data = {}\n",
    "    total_start = datetime.now()\n",
    "    for ch in chars:\n",
    "        start = datetime.now()\n",
    "        print('------')\n",
    "        print(f'{start.strftime(\"%H:%M:%S\")}: Uniq: \"{ch}\"')\n",
    "        uniq_data[ch] = np.unique(data[ch], axis=0)\n",
    "        end = datetime.now()\n",
    "        time_diff = (end - start).total_seconds()\n",
    "        print(f'{end.strftime(\"%H:%M:%S\")}: \"{ch}\" - diff: {len(data[ch]) - len(uniq_data[ch])}\\t took: {time_diff}')\n",
    "\n",
    "    total_end = datetime.now()\n",
    "    total_time_diff = (total_end - total_start).total_seconds()\n",
    "    print(f'\\n{total_end.strftime(\"%H:%M:%S\")} it took: {total_time_diff}\\'s')\n",
    "    return uniq_data"
   ]
  },
  {
   "cell_type": "code",
   "execution_count": null,
   "metadata": {},
   "outputs": [],
   "source": []
  },
  {
   "cell_type": "code",
   "execution_count": 52,
   "metadata": {},
   "outputs": [],
   "source": [
    "small_orig_data = scipy.io.loadmat(small_orig_mat)"
   ]
  },
  {
   "cell_type": "code",
   "execution_count": 53,
   "metadata": {},
   "outputs": [
    {
     "name": "stdout",
     "output_type": "stream",
     "text": [
      "------\n",
      "21:35:22: Uniq: \"A\"\n",
      "21:35:22: \"A\" - diff: 24\t took: 0.015762\n",
      "------\n",
      "21:35:22: Uniq: \"B\"\n",
      "21:35:22: \"B\" - diff: 20\t took: 0.012835\n",
      "------\n",
      "21:35:22: Uniq: \"C\"\n",
      "21:35:22: \"C\" - diff: 24\t took: 0.01398\n",
      "------\n",
      "21:35:22: Uniq: \"D\"\n",
      "21:35:22: \"D\" - diff: 26\t took: 0.01098\n",
      "------\n",
      "21:35:22: Uniq: \"E\"\n",
      "21:35:22: \"E\" - diff: 26\t took: 0.014779\n",
      "------\n",
      "21:35:22: Uniq: \"F\"\n",
      "21:35:22: \"F\" - diff: 22\t took: 0.013029\n",
      "------\n",
      "21:35:22: Uniq: \"G\"\n",
      "21:35:22: \"G\" - diff: 21\t took: 0.011523\n",
      "------\n",
      "21:35:22: Uniq: \"H\"\n",
      "21:35:22: \"H\" - diff: 26\t took: 0.010218\n",
      "------\n",
      "21:35:22: Uniq: \"I\"\n",
      "21:35:22: \"I\" - diff: 275\t took: 0.043348\n",
      "------\n",
      "21:35:22: Uniq: \"J\"\n",
      "21:35:22: \"J\" - diff: 22\t took: 0.015949\n",
      "\n",
      "21:35:22 it took: 0.163384's\n"
     ]
    }
   ],
   "source": [
    "small_uniq_data = remove_duplicates(small_orig_data)"
   ]
  },
  {
   "cell_type": "code",
   "execution_count": 54,
   "metadata": {},
   "outputs": [],
   "source": [
    "scipy.io.savemat(small_uniq_mat, small_uniq_data)"
   ]
  },
  {
   "cell_type": "code",
   "execution_count": null,
   "metadata": {},
   "outputs": [],
   "source": []
  },
  {
   "cell_type": "code",
   "execution_count": 55,
   "metadata": {},
   "outputs": [],
   "source": [
    "large_orig_data = scipy.io.loadmat(large_orig_mat)"
   ]
  },
  {
   "cell_type": "code",
   "execution_count": 56,
   "metadata": {},
   "outputs": [
    {
     "name": "stdout",
     "output_type": "stream",
     "text": [
      "------\n",
      "21:39:22: Uniq: \"A\"\n",
      "21:39:22: \"A\" - diff: 5807\t took: 0.795365\n",
      "------\n",
      "21:39:22: Uniq: \"B\"\n",
      "21:39:23: \"B\" - diff: 5630\t took: 0.558981\n",
      "------\n",
      "21:39:23: Uniq: \"C\"\n",
      "21:39:24: \"C\" - diff: 6258\t took: 0.618774\n",
      "------\n",
      "21:39:24: Uniq: \"D\"\n",
      "21:39:24: \"D\" - diff: 6180\t took: 0.569035\n",
      "------\n",
      "21:39:24: Uniq: \"E\"\n",
      "21:39:25: \"E\" - diff: 5958\t took: 0.577547\n",
      "------\n",
      "21:39:25: Uniq: \"F\"\n",
      "21:39:25: \"F\" - diff: 6068\t took: 0.579709\n",
      "------\n",
      "21:39:25: Uniq: \"G\"\n",
      "21:39:26: \"G\" - diff: 5822\t took: 0.604438\n",
      "------\n",
      "21:39:26: Uniq: \"H\"\n",
      "21:39:27: \"H\" - diff: 6730\t took: 0.641705\n",
      "------\n",
      "21:39:27: Uniq: \"I\"\n",
      "21:39:28: \"I\" - diff: 11739\t took: 1.915712\n",
      "------\n",
      "21:39:28: Uniq: \"J\"\n",
      "21:39:30: \"J\" - diff: 6253\t took: 1.193399\n",
      "\n",
      "21:39:30 it took: 8.056471's\n"
     ]
    }
   ],
   "source": [
    "large_uniq_data = remove_duplicates(large_orig_data)"
   ]
  },
  {
   "cell_type": "code",
   "execution_count": 57,
   "metadata": {},
   "outputs": [],
   "source": [
    "scipy.io.savemat(large_uniq_mat, large_uniq_data)"
   ]
  },
  {
   "cell_type": "code",
   "execution_count": 123,
   "metadata": {},
   "outputs": [],
   "source": [
    "def setdiff2d(a_arr, b_arr):\n",
    "    a_rows = a_arr.view([('', a_arr.dtype)] * a_arr.shape[1])\n",
    "    b_rows = b_arr.view([('', b_arr.dtype)] * b_arr.shape[1])\n",
    "    return np.setdiff1d(a_rows, b_rows, assume_unique=True).view(a_arr.dtype).reshape(-1, a_arr.shape[1])"
   ]
  },
  {
   "cell_type": "code",
   "execution_count": 131,
   "metadata": {},
   "outputs": [],
   "source": [
    "def remove_intersections(remove_from, source):\n",
    "    clean_data = {}\n",
    "    total_start = datetime.now()\n",
    "    for ch in chars:\n",
    "        start = datetime.now()\n",
    "        print('------')\n",
    "        print(f'{start.strftime(\"%H:%M:%S\")}: Uniq: \"{ch}\"')\n",
    "        clean_data[ch] = setdiff2d(remove_from[ch], source[ch])\n",
    "        end = datetime.now()\n",
    "        time_diff = (end - start).total_seconds()\n",
    "        print(f'{end.strftime(\"%H:%M:%S\")}: \"{ch}\" - diff: {len(remove_from[ch]) - len(clean_data[ch])}\\t took: {time_diff}')\n",
    "\n",
    "    total_end = datetime.now()\n",
    "    total_time_diff = (total_end - total_start).total_seconds()\n",
    "    print(f'\\n{total_end.strftime(\"%H:%M:%S\")} it took: {total_time_diff}\\'s')\n",
    "    return clean_data"
   ]
  },
  {
   "cell_type": "code",
   "execution_count": 132,
   "metadata": {},
   "outputs": [
    {
     "name": "stdout",
     "output_type": "stream",
     "text": [
      "------\n",
      "23:01:41: Uniq: \"A\"\n",
      "23:01:43: \"A\" - diff: 450\t took: 1.252596\n",
      "------\n",
      "23:01:43: Uniq: \"B\"\n",
      "23:01:44: \"B\" - diff: 429\t took: 1.290194\n",
      "------\n",
      "23:01:44: Uniq: \"C\"\n",
      "23:01:45: \"C\" - diff: 469\t took: 1.186779\n",
      "------\n",
      "23:01:45: Uniq: \"D\"\n",
      "23:01:47: \"D\" - diff: 467\t took: 1.322485\n",
      "------\n",
      "23:01:47: Uniq: \"E\"\n",
      "23:01:48: \"E\" - diff: 457\t took: 1.415042\n",
      "------\n",
      "23:01:48: Uniq: \"F\"\n",
      "23:01:49: \"F\" - diff: 461\t took: 1.234455\n",
      "------\n",
      "23:01:49: Uniq: \"G\"\n",
      "23:01:50: \"G\" - diff: 444\t took: 1.269038\n",
      "------\n",
      "23:01:50: Uniq: \"H\"\n",
      "23:01:51: \"H\" - diff: 505\t took: 1.023126\n",
      "------\n",
      "23:01:51: Uniq: \"I\"\n",
      "23:01:52: \"I\" - diff: 441\t took: 0.945542\n",
      "------\n",
      "23:01:52: Uniq: \"J\"\n",
      "23:01:54: \"J\" - diff: 465\t took: 1.23689\n",
      "\n",
      "23:01:54 it took: 12.17776's\n"
     ]
    }
   ],
   "source": [
    "large_clean_data = remove_intersections(large_uniq_data, small_uniq_data)"
   ]
  },
  {
   "cell_type": "code",
   "execution_count": 135,
   "metadata": {},
   "outputs": [],
   "source": [
    "scipy.io.savemat(large_clean_mat, large_clean_data)"
   ]
  },
  {
   "cell_type": "markdown",
   "metadata": {},
   "source": [
    "**Задание 1**\n",
    "\n",
    "Загрузите данные и отобразите на экране несколько из изображений с помощью языка Python;"
   ]
  },
  {
   "cell_type": "code",
   "execution_count": 175,
   "metadata": {},
   "outputs": [],
   "source": [
    "def print_numbers(data):\n",
    "    fig = plt.figure(figsize=(20, 5))\n",
    "\n",
    "    for i,ch in enumerate(chars):\n",
    "        img = data[ch][np.random.randint(data[ch].shape[0])]\n",
    "        fig.add_subplot(1, len(chars), i +1)\n",
    "        plt.imshow(img.reshape(28, 28), cmap='gray')\n",
    "        plt.title(ch)\n",
    "        plt.axis('off')"
   ]
  },
  {
   "cell_type": "code",
   "execution_count": 177,
   "metadata": {},
   "outputs": [
    {
     "data": {
      "image/png": "[encoded data removed]",
      "text/plain": [
       "<Figure size 1440x360 with 10 Axes>"
      ]
     },
     "metadata": {
      "needs_background": "light"
     },
     "output_type": "display_data"
    }
   ],
   "source": [
    "print_numbers(small_uniq_data)"
   ]
  },
  {
   "cell_type": "markdown",
   "metadata": {},
   "source": [
    "**Задание 2.**\n",
    "\n",
    "Проверьте, что классы являются сбалансированными, т.е. количество изображений, принадлежащих каждому из классов, примерно одинаково (В данной задаче 10 классов)."
   ]
  },
  {
   "cell_type": "code",
   "execution_count": 206,
   "metadata": {},
   "outputs": [],
   "source": [
    "def display_balance(data):\n",
    "    fig = plt.figure(figsize=(20, 5))\n",
    "    plt.rc('font', size=22)   \n",
    "    \n",
    "    counts = list()\n",
    "    \n",
    "    for ch in chars:\n",
    "        counts.append(len(data[ch]))\n",
    "        print(f'{ch}\\t', end='')\n",
    "\n",
    "    print('')\n",
    "    \n",
    "    for c in counts:\n",
    "        print(f'{c}\\t', end='')\n",
    "    \n",
    "    print('')\n",
    "        \n",
    "    ax = fig.add_axes([0,0,1,1])\n",
    "    ax.bar(chars, counts, width=0.6)"
   ]
  },
  {
   "cell_type": "markdown",
   "metadata": {},
   "source": [
    "Оригинальный датасет"
   ]
  },
  {
   "cell_type": "code",
   "execution_count": 208,
   "metadata": {},
   "outputs": [
    {
     "name": "stdout",
     "output_type": "stream",
     "text": [
      "A\tB\tC\tD\tE\tF\tG\tH\tI\tJ\t\n",
      "52909\t52911\t52912\t52911\t52912\t52912\t52912\t52912\t52912\t52911\t\n"
     ]
    },
    {
     "data": {
      "image/png": "[encoded data removed]",
      "text/plain": [
       "<Figure size 1440x360 with 1 Axes>"
      ]
     },
     "metadata": {
      "needs_background": "light"
     },
     "output_type": "display_data"
    }
   ],
   "source": [
    "display_balance(large_orig_data)"
   ]
  },
  {
   "cell_type": "markdown",
   "metadata": {},
   "source": [
    "Датасет без дубликатов"
   ]
  },
  {
   "cell_type": "code",
   "execution_count": 209,
   "metadata": {},
   "outputs": [
    {
     "name": "stdout",
     "output_type": "stream",
     "text": [
      "A\tB\tC\tD\tE\tF\tG\tH\tI\tJ\t\n",
      "47102\t47281\t46654\t46731\t46954\t46844\t47090\t46182\t41173\t46658\t\n"
     ]
    },
    {
     "data": {
      "image/png": "[encoded data removed]",
      "text/plain": [
       "<Figure size 1440x360 with 1 Axes>"
      ]
     },
     "metadata": {
      "needs_background": "light"
     },
     "output_type": "display_data"
    }
   ],
   "source": [
    "display_balance(large_uniq_data)"
   ]
  },
  {
   "cell_type": "markdown",
   "metadata": {},
   "source": [
    "Датасет без дубликатов и без дубликатов из small датасета (Test)"
   ]
  },
  {
   "cell_type": "code",
   "execution_count": 210,
   "metadata": {},
   "outputs": [
    {
     "name": "stdout",
     "output_type": "stream",
     "text": [
      "A\tB\tC\tD\tE\tF\tG\tH\tI\tJ\t\n",
      "46652\t46852\t46185\t46264\t46497\t46383\t46646\t45677\t40732\t46193\t\n"
     ]
    },
    {
     "data": {
      "image/png": "[encoded data removed]",
      "text/plain": [
       "<Figure size 1440x360 with 1 Axes>"
      ]
     },
     "metadata": {
      "needs_background": "light"
     },
     "output_type": "display_data"
    }
   ],
   "source": [
    "display_balance(large_clean_data)"
   ]
  },
  {
   "cell_type": "code",
   "execution_count": 375,
   "metadata": {},
   "outputs": [],
   "source": [
    "def prepare_dataset(dataset, records=None):\n",
    "    data = list()\n",
    "    labels = list()\n",
    "\n",
    "#    lb = preprocessing.LabelBinarizer()\n",
    "    lb = preprocessing.LabelEncoder()\n",
    "    lb.fit(chars)\n",
    "    if records:\n",
    "        one = int(records / len(chars))\n",
    "        #check\n",
    "        for ch in chars:\n",
    "            ch_len = len(dataset[ch])\n",
    "            assert ch_len >= one, f'\"{ch}\" has {ch_len} items but required {one}'\n",
    "        #print(one)\n",
    "        for ch in chars:\n",
    "            indexes = np.random.choice(len(dataset[ch]), one)\n",
    "            picked_elements = dataset[ch][indexes]\n",
    "            data.extend(picked_elements)\n",
    "            labels.extend(np.tile(lb.transform([ch])[0], (one, 1)))\n",
    "    else:\n",
    "        for ch in chars:\n",
    "            data.extend(dataset[ch])\n",
    "            labels.extend(np.tile(lb.transform([ch])[0], (len(dataset[ch]), 1)))\n",
    "    \n",
    "    data = np.array(data)\n",
    "    labels = np.array(labels).reshape(-1)\n",
    "    \n",
    "    return resample(data, labels)"
   ]
  },
  {
   "cell_type": "code",
   "execution_count": null,
   "metadata": {},
   "outputs": [],
   "source": []
  },
  {
   "cell_type": "code",
   "execution_count": 385,
   "metadata": {},
   "outputs": [],
   "source": [
    "experiments = {\n",
    "    '50': {'train': 50, 'valid': 20},\n",
    "    '100': {'train': 100, 'valid': 40},\n",
    "    '1000': {'train': 1000, 'valid': 400},\n",
    "#    '50000': {'train': 50000, 'valid': 2500},\n",
    "#    '200000': {'train': 200000, 'valid': 10000},\n",
    "}"
   ]
  },
  {
   "cell_type": "code",
   "execution_count": 386,
   "metadata": {},
   "outputs": [],
   "source": [
    "experiments_data = {}\n",
    "for ex in experiments:\n",
    "    data_count = experiments[ex]['train'] + experiments[ex]['valid']\n",
    "    valid_size = experiments[ex]['valid'] / data_count\n",
    "    prep_X, prep_y = prepare_dataset(large_clean_data, records=data_count)\n",
    "    X_train, X_valid, y_train, y_valid = train_test_split(prep_X, prep_y, test_size=valid_size, random_state=42)\n",
    "    experiments_data[ex] = {\n",
    "        'X_train': X_train,\n",
    "        'y_train': y_train,\n",
    "        'X_valid': X_valid,\n",
    "        'y_valid': y_valid,\n",
    "    }"
   ]
  },
  {
   "cell_type": "code",
   "execution_count": null,
   "metadata": {},
   "outputs": [],
   "source": []
  },
  {
   "cell_type": "code",
   "execution_count": null,
   "metadata": {},
   "outputs": [],
   "source": []
  },
  {
   "cell_type": "code",
   "execution_count": 387,
   "metadata": {},
   "outputs": [
    {
     "name": "stdout",
     "output_type": "stream",
     "text": [
      "15:14:58: Start experiment: 50\n",
      "15:14:58: finish experiment: 50\n",
      "It took: 0.028031 s.\n",
      "\n",
      "15:14:58: Start experiment: 100\n",
      "15:14:58: finish experiment: 100\n",
      "It took: 0.071322 s.\n",
      "\n"
     ]
    }
   ],
   "source": [
    "experiments_results = {}\n",
    "\n",
    "for ex in experiments:\n",
    "    start_time = datetime.now()\n",
    "    print(f'{start_time.strftime(\"%H:%M:%S\")}: Start experiment: {ex}')\n",
    "    \n",
    "    experiment = experiments_data[ex]\n",
    "          \n",
    "    model = LogisticRegression()\n",
    "    model.fit(experiment['X_train'], experiment['y_train'])\n",
    "          \n",
    "    experiments_results[ex] = {\n",
    "        'model': model,\n",
    "        'train_score': model.score(experiment['X_train'], experiment['y_train']),\n",
    "        'valid_score': model.score(experiment['X_valid'], experiment['y_valid']),\n",
    "    }\n",
    "          \n",
    "    end_time = datetime.now()\n",
    "    print(f'{end_time.strftime(\"%H:%M:%S\")}: finish experiment: {ex}')\n",
    "\n",
    "    time_diff = (end_time - start_time).total_seconds()\n",
    "    print(f'It took: {time_diff} s.\\n')"
   ]
  },
  {
   "cell_type": "code",
   "execution_count": 388,
   "metadata": {},
   "outputs": [
    {
     "data": {
      "text/plain": [
       "{'50': {'model': LogisticRegression(C=1.0, class_weight=None, dual=False, fit_intercept=True,\n",
       "            intercept_scaling=1, max_iter=100, multi_class='warn',\n",
       "            n_jobs=None, penalty='l2', random_state=None, solver='warn',\n",
       "            tol=0.0001, verbose=0, warm_start=False),\n",
       "  'train_score': 1.0,\n",
       "  'valid_score': 0.8},\n",
       " '100': {'model': LogisticRegression(C=1.0, class_weight=None, dual=False, fit_intercept=True,\n",
       "            intercept_scaling=1, max_iter=100, multi_class='warn',\n",
       "            n_jobs=None, penalty='l2', random_state=None, solver='warn',\n",
       "            tol=0.0001, verbose=0, warm_start=False),\n",
       "  'train_score': 1.0,\n",
       "  'valid_score': 0.8}}"
      ]
     },
     "execution_count": 388,
     "metadata": {},
     "output_type": "execute_result"
    }
   ],
   "source": [
    "experiments_results"
   ]
  },
  {
   "cell_type": "code",
   "execution_count": null,
   "metadata": {},
   "outputs": [],
   "source": []
  },
  {
   "cell_type": "code",
   "execution_count": null,
   "metadata": {},
   "outputs": [],
   "source": []
  },
  {
   "cell_type": "code",
   "execution_count": null,
   "metadata": {},
   "outputs": [],
   "source": []
  }
 ],
 "metadata": {
  "kernelspec": {
   "display_name": "Python 3",
   "language": "python",
   "name": "python3"
  },
  "language_info": {
   "codemirror_mode": {
    "name": "ipython",
    "version": 3
   },
   "file_extension": ".py",
   "mimetype": "text/x-python",
   "name": "python",
   "nbconvert_exporter": "python",
   "pygments_lexer": "ipython3",
   "version": "3.7.3"
  }
 },
 "nbformat": 4,
 "nbformat_minor": 2
}
